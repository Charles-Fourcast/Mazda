{
 "cells": [
  {
   "cell_type": "code",
   "execution_count": 2,
   "metadata": {
    "collapsed": true
   },
   "outputs": [],
   "source": [
    "import numpy as np\n",
    "import pandas as pd\n",
    "import re"
   ]
  },
  {
   "cell_type": "code",
   "execution_count": 3,
   "metadata": {
    "collapsed": true
   },
   "outputs": [],
   "source": [
    "master_folder = \"/home/charly/Desktop/Wunderman/mazda/MailChimp/\"\n",
    "lists = \"lists/\"\n",
    "granular_activity = \"granular_activity/\"\n",
    "geo_data = \"geo_data/\"\n",
    "campaigns_content = \"campaigns_content/\"\n",
    "aggregate_activity = \"aggregate_activity/\"\n",
    "campaigns = \"campaigns.csv\""
   ]
  },
  {
   "cell_type": "code",
   "execution_count": 4,
   "metadata": {
    "collapsed": true
   },
   "outputs": [],
   "source": [
    "# Functions to count the number of files per folder\n",
    "import os, os.path\n",
    "def filecount(dir_name):\n",
    "    return len([f for f in os.listdir(dir_name) if os.path.isfile(dir_name +f)])"
   ]
  },
  {
   "cell_type": "code",
   "execution_count": 5,
   "metadata": {
    "collapsed": true
   },
   "outputs": [],
   "source": [
    "# Load the mazda datasets\n",
    "df_cust_data = pd.read_excel('mazda_dataset.xlsx','Customer data')\n",
    "df_prospects_data = pd.read_excel('mazda_dataset.xlsx','Prospects data')"
   ]
  },
  {
   "cell_type": "code",
   "execution_count": 6,
   "metadata": {
    "collapsed": true
   },
   "outputs": [],
   "source": [
    "# Clean and format well the email columns where the joins will happen\n",
    "df_cust_data['Email Address'] = df_cust_data['Email Address'].fillna(\"no email\").astype(str)\n",
    "df_cust_data['Email Address'] = df_cust_data['Email Address'].apply(lambda x: str(x.lower().strip()))\n",
    "df_cust_data['Email Address'] = df_cust_data['Email Address'].astype(str)\n",
    "\n",
    "df_prospects_data['Email Address'] = df_prospects_data['Email Address'].fillna(\"no email\").astype(str)\n",
    "df_prospects_data['Email Address'] = df_prospects_data['Email Address'].apply(lambda x: str(x.lower().strip()))\n",
    "df_prospects_data['Email Address'] = df_prospects_data['Email Address'].astype(str)"
   ]
  },
  {
   "cell_type": "markdown",
   "metadata": {},
   "source": [
    "## Campaign Master File"
   ]
  },
  {
   "cell_type": "code",
   "execution_count": 7,
   "metadata": {
    "collapsed": true
   },
   "outputs": [],
   "source": [
    "df_campaigns = pd.read_csv(master_folder + campaigns)"
   ]
  },
  {
   "cell_type": "code",
   "execution_count": 8,
   "metadata": {
    "collapsed": true
   },
   "outputs": [],
   "source": [
    "# Transform percentage into float\n",
    "df_campaigns['Open Rate'] = df_campaigns['Open Rate'].apply(lambda x: x[:-1]).astype('float')\n",
    "df_campaigns['Click Rate'] = df_campaigns['Click Rate'].apply(lambda x: x[:-1]).astype('float')"
   ]
  },
  {
   "cell_type": "code",
   "execution_count": 9,
   "metadata": {},
   "outputs": [
    {
     "data": {
      "text/plain": [
       "True"
      ]
     },
     "execution_count": 9,
     "metadata": {},
     "output_type": "execute_result"
    }
   ],
   "source": [
    "len(df_campaigns['Title']) == len(set(df_campaigns['Title']))"
   ]
  },
  {
   "cell_type": "code",
   "execution_count": 10,
   "metadata": {},
   "outputs": [
    {
     "data": {
      "text/html": [
       "<div>\n",
       "<style>\n",
       "    .dataframe thead tr:only-child th {\n",
       "        text-align: right;\n",
       "    }\n",
       "\n",
       "    .dataframe thead th {\n",
       "        text-align: left;\n",
       "    }\n",
       "\n",
       "    .dataframe tbody tr th {\n",
       "        vertical-align: top;\n",
       "    }\n",
       "</style>\n",
       "<table border=\"1\" class=\"dataframe\">\n",
       "  <thead>\n",
       "    <tr style=\"text-align: right;\">\n",
       "      <th></th>\n",
       "      <th>Total Recipients</th>\n",
       "      <th>Successful Deliveries</th>\n",
       "      <th>Soft Bounces</th>\n",
       "      <th>Hard Bounces</th>\n",
       "      <th>Total Bounces</th>\n",
       "      <th>Times Forwarded</th>\n",
       "      <th>Forwarded Opens</th>\n",
       "      <th>Unique Opens</th>\n",
       "      <th>Open Rate</th>\n",
       "      <th>Total Opens</th>\n",
       "      <th>Unique Clicks</th>\n",
       "      <th>Click Rate</th>\n",
       "      <th>Total Clicks</th>\n",
       "      <th>Unsubscribes</th>\n",
       "      <th>Abuse Complaints</th>\n",
       "      <th>Times Liked on Facebook</th>\n",
       "      <th>Folder Id</th>\n",
       "    </tr>\n",
       "  </thead>\n",
       "  <tbody>\n",
       "    <tr>\n",
       "      <th>count</th>\n",
       "      <td>182.000000</td>\n",
       "      <td>182.000000</td>\n",
       "      <td>182.000000</td>\n",
       "      <td>182.000000</td>\n",
       "      <td>182.000000</td>\n",
       "      <td>182.0</td>\n",
       "      <td>182.0</td>\n",
       "      <td>182.000000</td>\n",
       "      <td>182.000000</td>\n",
       "      <td>182.000000</td>\n",
       "      <td>182.000000</td>\n",
       "      <td>182.000000</td>\n",
       "      <td>182.000000</td>\n",
       "      <td>182.000000</td>\n",
       "      <td>182.000000</td>\n",
       "      <td>182.0</td>\n",
       "      <td>182.000000</td>\n",
       "    </tr>\n",
       "    <tr>\n",
       "      <th>mean</th>\n",
       "      <td>1887.247253</td>\n",
       "      <td>1767.478022</td>\n",
       "      <td>23.824176</td>\n",
       "      <td>95.945055</td>\n",
       "      <td>119.769231</td>\n",
       "      <td>0.0</td>\n",
       "      <td>0.0</td>\n",
       "      <td>884.456044</td>\n",
       "      <td>53.958462</td>\n",
       "      <td>1852.395604</td>\n",
       "      <td>238.538462</td>\n",
       "      <td>16.065055</td>\n",
       "      <td>317.967033</td>\n",
       "      <td>10.065934</td>\n",
       "      <td>0.263736</td>\n",
       "      <td>0.0</td>\n",
       "      <td>646.549451</td>\n",
       "    </tr>\n",
       "    <tr>\n",
       "      <th>std</th>\n",
       "      <td>2917.957868</td>\n",
       "      <td>2741.280571</td>\n",
       "      <td>42.223843</td>\n",
       "      <td>153.697907</td>\n",
       "      <td>194.321405</td>\n",
       "      <td>0.0</td>\n",
       "      <td>0.0</td>\n",
       "      <td>1306.326728</td>\n",
       "      <td>21.013667</td>\n",
       "      <td>2612.225997</td>\n",
       "      <td>373.117146</td>\n",
       "      <td>18.204829</td>\n",
       "      <td>523.763315</td>\n",
       "      <td>16.428517</td>\n",
       "      <td>0.791323</td>\n",
       "      <td>0.0</td>\n",
       "      <td>1305.584709</td>\n",
       "    </tr>\n",
       "    <tr>\n",
       "      <th>min</th>\n",
       "      <td>1.000000</td>\n",
       "      <td>1.000000</td>\n",
       "      <td>0.000000</td>\n",
       "      <td>0.000000</td>\n",
       "      <td>0.000000</td>\n",
       "      <td>0.0</td>\n",
       "      <td>0.0</td>\n",
       "      <td>0.000000</td>\n",
       "      <td>0.000000</td>\n",
       "      <td>0.000000</td>\n",
       "      <td>0.000000</td>\n",
       "      <td>0.000000</td>\n",
       "      <td>0.000000</td>\n",
       "      <td>0.000000</td>\n",
       "      <td>0.000000</td>\n",
       "      <td>0.0</td>\n",
       "      <td>0.000000</td>\n",
       "    </tr>\n",
       "    <tr>\n",
       "      <th>25%</th>\n",
       "      <td>71.250000</td>\n",
       "      <td>69.750000</td>\n",
       "      <td>0.000000</td>\n",
       "      <td>1.000000</td>\n",
       "      <td>1.000000</td>\n",
       "      <td>0.0</td>\n",
       "      <td>0.0</td>\n",
       "      <td>41.000000</td>\n",
       "      <td>44.685000</td>\n",
       "      <td>96.000000</td>\n",
       "      <td>6.000000</td>\n",
       "      <td>6.290000</td>\n",
       "      <td>5.000000</td>\n",
       "      <td>0.000000</td>\n",
       "      <td>0.000000</td>\n",
       "      <td>0.0</td>\n",
       "      <td>0.000000</td>\n",
       "    </tr>\n",
       "    <tr>\n",
       "      <th>50%</th>\n",
       "      <td>603.500000</td>\n",
       "      <td>573.500000</td>\n",
       "      <td>7.000000</td>\n",
       "      <td>25.000000</td>\n",
       "      <td>32.000000</td>\n",
       "      <td>0.0</td>\n",
       "      <td>0.0</td>\n",
       "      <td>341.500000</td>\n",
       "      <td>52.975000</td>\n",
       "      <td>688.500000</td>\n",
       "      <td>75.000000</td>\n",
       "      <td>12.990000</td>\n",
       "      <td>94.000000</td>\n",
       "      <td>3.000000</td>\n",
       "      <td>0.000000</td>\n",
       "      <td>0.0</td>\n",
       "      <td>0.000000</td>\n",
       "    </tr>\n",
       "    <tr>\n",
       "      <th>75%</th>\n",
       "      <td>2679.250000</td>\n",
       "      <td>2487.000000</td>\n",
       "      <td>26.000000</td>\n",
       "      <td>117.000000</td>\n",
       "      <td>147.250000</td>\n",
       "      <td>0.0</td>\n",
       "      <td>0.0</td>\n",
       "      <td>1203.250000</td>\n",
       "      <td>63.287500</td>\n",
       "      <td>2570.500000</td>\n",
       "      <td>285.750000</td>\n",
       "      <td>20.105000</td>\n",
       "      <td>340.000000</td>\n",
       "      <td>11.750000</td>\n",
       "      <td>0.000000</td>\n",
       "      <td>0.0</td>\n",
       "      <td>13.000000</td>\n",
       "    </tr>\n",
       "    <tr>\n",
       "      <th>max</th>\n",
       "      <td>18030.000000</td>\n",
       "      <td>16896.000000</td>\n",
       "      <td>239.000000</td>\n",
       "      <td>911.000000</td>\n",
       "      <td>1134.000000</td>\n",
       "      <td>0.0</td>\n",
       "      <td>0.0</td>\n",
       "      <td>7670.000000</td>\n",
       "      <td>100.000000</td>\n",
       "      <td>13894.000000</td>\n",
       "      <td>2127.000000</td>\n",
       "      <td>100.000000</td>\n",
       "      <td>2868.000000</td>\n",
       "      <td>92.000000</td>\n",
       "      <td>6.000000</td>\n",
       "      <td>0.0</td>\n",
       "      <td>3777.000000</td>\n",
       "    </tr>\n",
       "  </tbody>\n",
       "</table>\n",
       "</div>"
      ],
      "text/plain": [
       "       Total Recipients  Successful Deliveries  Soft Bounces  Hard Bounces  \\\n",
       "count        182.000000             182.000000    182.000000    182.000000   \n",
       "mean        1887.247253            1767.478022     23.824176     95.945055   \n",
       "std         2917.957868            2741.280571     42.223843    153.697907   \n",
       "min            1.000000               1.000000      0.000000      0.000000   \n",
       "25%           71.250000              69.750000      0.000000      1.000000   \n",
       "50%          603.500000             573.500000      7.000000     25.000000   \n",
       "75%         2679.250000            2487.000000     26.000000    117.000000   \n",
       "max        18030.000000           16896.000000    239.000000    911.000000   \n",
       "\n",
       "       Total Bounces  Times Forwarded  Forwarded Opens  Unique Opens  \\\n",
       "count     182.000000            182.0            182.0    182.000000   \n",
       "mean      119.769231              0.0              0.0    884.456044   \n",
       "std       194.321405              0.0              0.0   1306.326728   \n",
       "min         0.000000              0.0              0.0      0.000000   \n",
       "25%         1.000000              0.0              0.0     41.000000   \n",
       "50%        32.000000              0.0              0.0    341.500000   \n",
       "75%       147.250000              0.0              0.0   1203.250000   \n",
       "max      1134.000000              0.0              0.0   7670.000000   \n",
       "\n",
       "        Open Rate   Total Opens  Unique Clicks  Click Rate  Total Clicks  \\\n",
       "count  182.000000    182.000000     182.000000  182.000000    182.000000   \n",
       "mean    53.958462   1852.395604     238.538462   16.065055    317.967033   \n",
       "std     21.013667   2612.225997     373.117146   18.204829    523.763315   \n",
       "min      0.000000      0.000000       0.000000    0.000000      0.000000   \n",
       "25%     44.685000     96.000000       6.000000    6.290000      5.000000   \n",
       "50%     52.975000    688.500000      75.000000   12.990000     94.000000   \n",
       "75%     63.287500   2570.500000     285.750000   20.105000    340.000000   \n",
       "max    100.000000  13894.000000    2127.000000  100.000000   2868.000000   \n",
       "\n",
       "       Unsubscribes  Abuse Complaints  Times Liked on Facebook    Folder Id  \n",
       "count    182.000000        182.000000                    182.0   182.000000  \n",
       "mean      10.065934          0.263736                      0.0   646.549451  \n",
       "std       16.428517          0.791323                      0.0  1305.584709  \n",
       "min        0.000000          0.000000                      0.0     0.000000  \n",
       "25%        0.000000          0.000000                      0.0     0.000000  \n",
       "50%        3.000000          0.000000                      0.0     0.000000  \n",
       "75%       11.750000          0.000000                      0.0    13.000000  \n",
       "max       92.000000          6.000000                      0.0  3777.000000  "
      ]
     },
     "execution_count": 10,
     "metadata": {},
     "output_type": "execute_result"
    }
   ],
   "source": [
    "df_campaigns.describe()"
   ]
  },
  {
   "cell_type": "code",
   "execution_count": 11,
   "metadata": {},
   "outputs": [
    {
     "name": "stdout",
     "output_type": "stream",
     "text": [
      "<class 'pandas.core.frame.DataFrame'>\n",
      "RangeIndex: 182 entries, 0 to 181\n",
      "Data columns (total 23 columns):\n",
      "Title                      182 non-null object\n",
      "Subject                    171 non-null object\n",
      "List                       182 non-null object\n",
      "Send Date                  182 non-null object\n",
      "Send Weekday               182 non-null object\n",
      "Total Recipients           182 non-null int64\n",
      "Successful Deliveries      182 non-null int64\n",
      "Soft Bounces               182 non-null int64\n",
      "Hard Bounces               182 non-null int64\n",
      "Total Bounces              182 non-null int64\n",
      "Times Forwarded            182 non-null int64\n",
      "Forwarded Opens            182 non-null int64\n",
      "Unique Opens               182 non-null int64\n",
      "Open Rate                  182 non-null float64\n",
      "Total Opens                182 non-null int64\n",
      "Unique Clicks              182 non-null int64\n",
      "Click Rate                 182 non-null float64\n",
      "Total Clicks               182 non-null int64\n",
      "Unsubscribes               182 non-null int64\n",
      "Abuse Complaints           182 non-null int64\n",
      "Times Liked on Facebook    182 non-null int64\n",
      "Folder Id                  182 non-null int64\n",
      "Unique Id                  182 non-null object\n",
      "dtypes: float64(2), int64(15), object(6)\n",
      "memory usage: 32.8+ KB\n"
     ]
    }
   ],
   "source": [
    "df_campaigns.info()"
   ]
  },
  {
   "cell_type": "markdown",
   "metadata": {},
   "source": [
    "**Columns explanation:**\n",
    "- Title: Title of the campaign\n",
    "- Subject: Subject of the campaign\n",
    "- List: Family of the campaign\n",
    "- Total Recipients - Successful Deliveries = Total Bounces\n",
    "- Soft Bounces: typically indicate a temporary delivery issue to an address \n",
    "- Hard Bounces: indicates a permanent reason an email cannot be delivere\n",
    "- Times Forwarded: Number of times the campaign was forwarded\n",
    "- Unique Opens: Number of times the campaign was opened (if a user opens two times the campaign, counts only as one)\n",
    "- Open Rate = Unique_Opens / Successfull_Deliveries\n",
    "- Total Opens: Total number of times the campaign was opened by recipients. This count includes multiple opens from individual recipients.\n",
    "- Unique Clicks: Number of clicks (if a user clicks two times, counts only as one)\n",
    "- Click Rate: Unique_Clicks / Successfull_Deliveries\n",
    "- Total Clicks: Total number of times tracked links were clicked by recipients. This count includes multiple clicks from individual recipients\n",
    "- Unsubscribes: Number of subscribers that opted out of your list using the unsubscribe link in this campaign.\n",
    "- Abuse Complaints: Number of recipients that reported your email as spam. Subscribers that report a campaign as spam are automatically unsubscribed from your list.\n",
    "- Folder Id: ?\n",
    "- Unique Id: should be the foreign key to other files. Not the case for the moment."
   ]
  },
  {
   "cell_type": "code",
   "execution_count": 12,
   "metadata": {},
   "outputs": [
    {
     "data": {
      "text/html": [
       "<div>\n",
       "<style>\n",
       "    .dataframe thead tr:only-child th {\n",
       "        text-align: right;\n",
       "    }\n",
       "\n",
       "    .dataframe thead th {\n",
       "        text-align: left;\n",
       "    }\n",
       "\n",
       "    .dataframe tbody tr th {\n",
       "        vertical-align: top;\n",
       "    }\n",
       "</style>\n",
       "<table border=\"1\" class=\"dataframe\">\n",
       "  <thead>\n",
       "    <tr style=\"text-align: right;\">\n",
       "      <th></th>\n",
       "      <th>Title</th>\n",
       "      <th>Subject</th>\n",
       "      <th>List</th>\n",
       "      <th>Send Date</th>\n",
       "      <th>Send Weekday</th>\n",
       "      <th>Total Recipients</th>\n",
       "      <th>Successful Deliveries</th>\n",
       "      <th>Soft Bounces</th>\n",
       "      <th>Hard Bounces</th>\n",
       "      <th>Total Bounces</th>\n",
       "      <th>...</th>\n",
       "      <th>Open Rate</th>\n",
       "      <th>Total Opens</th>\n",
       "      <th>Unique Clicks</th>\n",
       "      <th>Click Rate</th>\n",
       "      <th>Total Clicks</th>\n",
       "      <th>Unsubscribes</th>\n",
       "      <th>Abuse Complaints</th>\n",
       "      <th>Times Liked on Facebook</th>\n",
       "      <th>Folder Id</th>\n",
       "      <th>Unique Id</th>\n",
       "    </tr>\n",
       "  </thead>\n",
       "  <tbody>\n",
       "    <tr>\n",
       "      <th>0</th>\n",
       "      <td>Mazda - MAZDHOC7W495 - Newsletter Januari - FR...</td>\n",
       "      <td>E-news janvier 2018 : Conditions salon + 3 nou...</td>\n",
       "      <td>Mazda Newsletter Januari FR</td>\n",
       "      <td>Jan 12, 2018 06:51 pm</td>\n",
       "      <td>Friday</td>\n",
       "      <td>3783</td>\n",
       "      <td>3359</td>\n",
       "      <td>66</td>\n",
       "      <td>358</td>\n",
       "      <td>424</td>\n",
       "      <td>...</td>\n",
       "      <td>47.84</td>\n",
       "      <td>3035</td>\n",
       "      <td>548</td>\n",
       "      <td>16.31</td>\n",
       "      <td>827</td>\n",
       "      <td>17</td>\n",
       "      <td>0</td>\n",
       "      <td>0</td>\n",
       "      <td>13</td>\n",
       "      <td>735d9f0b14</td>\n",
       "    </tr>\n",
       "    <tr>\n",
       "      <th>1</th>\n",
       "      <td>Mazda - MAZDHOC7W495 - Newsletter Januari - FR...</td>\n",
       "      <td>E-news janvier 2018 : Salon de l’Auto + Action...</td>\n",
       "      <td>Mazda Newsletter Januari FR</td>\n",
       "      <td>Jan 12, 2018 06:49 pm</td>\n",
       "      <td>Friday</td>\n",
       "      <td>4174</td>\n",
       "      <td>4007</td>\n",
       "      <td>50</td>\n",
       "      <td>117</td>\n",
       "      <td>167</td>\n",
       "      <td>...</td>\n",
       "      <td>53.26</td>\n",
       "      <td>3936</td>\n",
       "      <td>548</td>\n",
       "      <td>13.68</td>\n",
       "      <td>811</td>\n",
       "      <td>11</td>\n",
       "      <td>0</td>\n",
       "      <td>0</td>\n",
       "      <td>13</td>\n",
       "      <td>99f35e0849</td>\n",
       "    </tr>\n",
       "    <tr>\n",
       "      <th>2</th>\n",
       "      <td>Mazda - MAZDHOC7W495 - Newsletter Januari - FR...</td>\n",
       "      <td>E-news janvier 2018 : Salon de l’Auto + 3 nouv...</td>\n",
       "      <td>Mazda Newsletter Januari FR</td>\n",
       "      <td>Jan 12, 2018 06:47 pm</td>\n",
       "      <td>Friday</td>\n",
       "      <td>353</td>\n",
       "      <td>348</td>\n",
       "      <td>1</td>\n",
       "      <td>4</td>\n",
       "      <td>5</td>\n",
       "      <td>...</td>\n",
       "      <td>58.62</td>\n",
       "      <td>373</td>\n",
       "      <td>77</td>\n",
       "      <td>22.13</td>\n",
       "      <td>104</td>\n",
       "      <td>9</td>\n",
       "      <td>0</td>\n",
       "      <td>0</td>\n",
       "      <td>13</td>\n",
       "      <td>3c38f3d56b</td>\n",
       "    </tr>\n",
       "    <tr>\n",
       "      <th>3</th>\n",
       "      <td>Mazda - MAZDHOC7W495 - Newsletter Januari - NL...</td>\n",
       "      <td>E-news januari 2018: Saloncondities + Win een ...</td>\n",
       "      <td>Mazda Newsletter Januari NL</td>\n",
       "      <td>Jan 12, 2018 06:44 pm</td>\n",
       "      <td>Friday</td>\n",
       "      <td>6957</td>\n",
       "      <td>6346</td>\n",
       "      <td>162</td>\n",
       "      <td>449</td>\n",
       "      <td>611</td>\n",
       "      <td>...</td>\n",
       "      <td>48.93</td>\n",
       "      <td>6070</td>\n",
       "      <td>924</td>\n",
       "      <td>14.56</td>\n",
       "      <td>1356</td>\n",
       "      <td>37</td>\n",
       "      <td>0</td>\n",
       "      <td>0</td>\n",
       "      <td>13</td>\n",
       "      <td>e75b474c96</td>\n",
       "    </tr>\n",
       "    <tr>\n",
       "      <th>4</th>\n",
       "      <td>Mazda - MAZDHOC7W495 - Newsletter Januari - NL...</td>\n",
       "      <td>E-news januari 2018: Saloncondities + 3 primeurs!</td>\n",
       "      <td>Mazda Newsletter Januari NL</td>\n",
       "      <td>Jan 12, 2018 06:42 pm</td>\n",
       "      <td>Friday</td>\n",
       "      <td>2635</td>\n",
       "      <td>2487</td>\n",
       "      <td>25</td>\n",
       "      <td>123</td>\n",
       "      <td>148</td>\n",
       "      <td>...</td>\n",
       "      <td>48.77</td>\n",
       "      <td>2393</td>\n",
       "      <td>400</td>\n",
       "      <td>16.08</td>\n",
       "      <td>607</td>\n",
       "      <td>18</td>\n",
       "      <td>1</td>\n",
       "      <td>0</td>\n",
       "      <td>13</td>\n",
       "      <td>8c08c98353</td>\n",
       "    </tr>\n",
       "  </tbody>\n",
       "</table>\n",
       "<p>5 rows × 23 columns</p>\n",
       "</div>"
      ],
      "text/plain": [
       "                                               Title  \\\n",
       "0  Mazda - MAZDHOC7W495 - Newsletter Januari - FR...   \n",
       "1  Mazda - MAZDHOC7W495 - Newsletter Januari - FR...   \n",
       "2  Mazda - MAZDHOC7W495 - Newsletter Januari - FR...   \n",
       "3  Mazda - MAZDHOC7W495 - Newsletter Januari - NL...   \n",
       "4  Mazda - MAZDHOC7W495 - Newsletter Januari - NL...   \n",
       "\n",
       "                                             Subject  \\\n",
       "0  E-news janvier 2018 : Conditions salon + 3 nou...   \n",
       "1  E-news janvier 2018 : Salon de l’Auto + Action...   \n",
       "2  E-news janvier 2018 : Salon de l’Auto + 3 nouv...   \n",
       "3  E-news januari 2018: Saloncondities + Win een ...   \n",
       "4  E-news januari 2018: Saloncondities + 3 primeurs!   \n",
       "\n",
       "                          List              Send Date Send Weekday  \\\n",
       "0  Mazda Newsletter Januari FR  Jan 12, 2018 06:51 pm       Friday   \n",
       "1  Mazda Newsletter Januari FR  Jan 12, 2018 06:49 pm       Friday   \n",
       "2  Mazda Newsletter Januari FR  Jan 12, 2018 06:47 pm       Friday   \n",
       "3  Mazda Newsletter Januari NL  Jan 12, 2018 06:44 pm       Friday   \n",
       "4  Mazda Newsletter Januari NL  Jan 12, 2018 06:42 pm       Friday   \n",
       "\n",
       "   Total Recipients  Successful Deliveries  Soft Bounces  Hard Bounces  \\\n",
       "0              3783                   3359            66           358   \n",
       "1              4174                   4007            50           117   \n",
       "2               353                    348             1             4   \n",
       "3              6957                   6346           162           449   \n",
       "4              2635                   2487            25           123   \n",
       "\n",
       "   Total Bounces     ...      Open Rate  Total Opens  Unique Clicks  \\\n",
       "0            424     ...          47.84         3035            548   \n",
       "1            167     ...          53.26         3936            548   \n",
       "2              5     ...          58.62          373             77   \n",
       "3            611     ...          48.93         6070            924   \n",
       "4            148     ...          48.77         2393            400   \n",
       "\n",
       "   Click Rate  Total Clicks  Unsubscribes  Abuse Complaints  \\\n",
       "0       16.31           827            17                 0   \n",
       "1       13.68           811            11                 0   \n",
       "2       22.13           104             9                 0   \n",
       "3       14.56          1356            37                 0   \n",
       "4       16.08           607            18                 1   \n",
       "\n",
       "   Times Liked on Facebook  Folder Id   Unique Id  \n",
       "0                        0         13  735d9f0b14  \n",
       "1                        0         13  99f35e0849  \n",
       "2                        0         13  3c38f3d56b  \n",
       "3                        0         13  e75b474c96  \n",
       "4                        0         13  8c08c98353  \n",
       "\n",
       "[5 rows x 23 columns]"
      ]
     },
     "execution_count": 12,
     "metadata": {},
     "output_type": "execute_result"
    }
   ],
   "source": [
    "df_campaigns.head()"
   ]
  },
  {
   "cell_type": "code",
   "execution_count": 13,
   "metadata": {},
   "outputs": [
    {
     "data": {
      "text/plain": [
       "58"
      ]
     },
     "execution_count": 13,
     "metadata": {},
     "output_type": "execute_result"
    }
   ],
   "source": [
    "len(set(df_campaigns['List']))"
   ]
  },
  {
   "cell_type": "code",
   "execution_count": 14,
   "metadata": {
    "collapsed": true
   },
   "outputs": [],
   "source": [
    "# Create a dictionary for the number of campaigns per list\n",
    "dict_campaign_per_list = {}\n",
    "for i in list(set(df_campaigns['List'])):\n",
    "    temp_var = i.lower()\n",
    "    dict_campaign_per_list[temp_var] = df_campaigns.groupby(\"List\").count()['Title'][i]"
   ]
  },
  {
   "cell_type": "markdown",
   "metadata": {},
   "source": [
    "## Lists"
   ]
  },
  {
   "cell_type": "markdown",
   "metadata": {},
   "source": [
    "For each campaign list, there are three files:\n",
    "- cleaned: Cleaned contacts have addresses that have hard bounced, or repeatedly soft bounced, and are considered invalid.\n",
    "- members\n",
    "- unsubscribed"
   ]
  },
  {
   "cell_type": "code",
   "execution_count": 15,
   "metadata": {},
   "outputs": [
    {
     "name": "stdout",
     "output_type": "stream",
     "text": [
      "# of files in unsubscribed : 4\n",
      "# of files in members : 4\n",
      "# of files in cleaned : 4\n"
     ]
    }
   ],
   "source": [
    "#filecount\n",
    "print(\"# of files in unsubscribed :\", filecount(os.fspath(master_folder + lists + \"unsubscribed/\")))\n",
    "print(\"# of files in members :\", filecount(os.fspath(master_folder + lists + \"members/\")))\n",
    "print(\"# of files in cleaned :\", filecount(os.fspath(master_folder + lists + \"cleaned/\")))"
   ]
  },
  {
   "cell_type": "code",
   "execution_count": 16,
   "metadata": {
    "collapsed": true
   },
   "outputs": [],
   "source": [
    "files_lists = [f for f in os.listdir(master_folder + lists +  \"unsubscribed/\")]"
   ]
  },
  {
   "cell_type": "code",
   "execution_count": 17,
   "metadata": {
    "collapsed": true
   },
   "outputs": [],
   "source": [
    "df_list_rand = pd.read_csv(master_folder + lists +  \"unsubscribed/\" + files_lists[0] ,\\\n",
    "                  low_memory=False)"
   ]
  },
  {
   "cell_type": "code",
   "execution_count": 18,
   "metadata": {
    "scrolled": true
   },
   "outputs": [
    {
     "data": {
      "text/plain": [
       "Index(['Email Address', 'First Name', 'Last Name', 'Type customer',\n",
       "       'Wedstrijd', 'MEMBER_RATING', 'OPTIN_TIME', 'OPTIN_IP', 'CONFIRM_TIME',\n",
       "       'CONFIRM_IP', 'LATITUDE', 'LONGITUDE', 'GMTOFF', 'DSTOFF', 'TIMEZONE',\n",
       "       'CC', 'REGION', 'UNSUB_TIME', 'UNSUB_CAMPAIGN_TITLE',\n",
       "       'UNSUB_CAMPAIGN_ID', 'UNSUB_REASON', 'UNSUB_REASON_OTHER', 'LEID',\n",
       "       'EUID', 'NOTES'],\n",
       "      dtype='object')"
      ]
     },
     "execution_count": 18,
     "metadata": {},
     "output_type": "execute_result"
    }
   ],
   "source": [
    "df_list_rand.columns"
   ]
  },
  {
   "cell_type": "code",
   "execution_count": 19,
   "metadata": {},
   "outputs": [
    {
     "data": {
      "text/html": [
       "<div>\n",
       "<style>\n",
       "    .dataframe thead tr:only-child th {\n",
       "        text-align: right;\n",
       "    }\n",
       "\n",
       "    .dataframe thead th {\n",
       "        text-align: left;\n",
       "    }\n",
       "\n",
       "    .dataframe tbody tr th {\n",
       "        vertical-align: top;\n",
       "    }\n",
       "</style>\n",
       "<table border=\"1\" class=\"dataframe\">\n",
       "  <thead>\n",
       "    <tr style=\"text-align: right;\">\n",
       "      <th></th>\n",
       "      <th>Email Address</th>\n",
       "      <th>First Name</th>\n",
       "      <th>Last Name</th>\n",
       "      <th>Type customer</th>\n",
       "      <th>Wedstrijd</th>\n",
       "      <th>MEMBER_RATING</th>\n",
       "      <th>OPTIN_TIME</th>\n",
       "      <th>OPTIN_IP</th>\n",
       "      <th>CONFIRM_TIME</th>\n",
       "      <th>CONFIRM_IP</th>\n",
       "      <th>...</th>\n",
       "      <th>CC</th>\n",
       "      <th>REGION</th>\n",
       "      <th>UNSUB_TIME</th>\n",
       "      <th>UNSUB_CAMPAIGN_TITLE</th>\n",
       "      <th>UNSUB_CAMPAIGN_ID</th>\n",
       "      <th>UNSUB_REASON</th>\n",
       "      <th>UNSUB_REASON_OTHER</th>\n",
       "      <th>LEID</th>\n",
       "      <th>EUID</th>\n",
       "      <th>NOTES</th>\n",
       "    </tr>\n",
       "  </thead>\n",
       "  <tbody>\n",
       "    <tr>\n",
       "      <th>0</th>\n",
       "      <td>m.vansteenkiste@me.com</td>\n",
       "      <td>Maarten</td>\n",
       "      <td>Van Steenkiste</td>\n",
       "      <td>Prospect</td>\n",
       "      <td>Zonder wedstrijd</td>\n",
       "      <td>3</td>\n",
       "      <td>2018-01-12 11:48:34</td>\n",
       "      <td>NaN</td>\n",
       "      <td>2018-01-12 11:48:34</td>\n",
       "      <td>NaN</td>\n",
       "      <td>...</td>\n",
       "      <td>NaN</td>\n",
       "      <td>NaN</td>\n",
       "      <td>2018-01-13 08:40:04</td>\n",
       "      <td>Mazda - MAZDHOC7W495 - Newsletter Januari - NL...</td>\n",
       "      <td>cfbab63e82</td>\n",
       "      <td>NaN</td>\n",
       "      <td>NaN</td>\n",
       "      <td>183134549</td>\n",
       "      <td>cbcaf8f21f</td>\n",
       "      <td>NaN</td>\n",
       "    </tr>\n",
       "    <tr>\n",
       "      <th>1</th>\n",
       "      <td>kristoflaureys@icloud.com</td>\n",
       "      <td>Kristof</td>\n",
       "      <td>Laureys</td>\n",
       "      <td>Prospect</td>\n",
       "      <td>Zonder wedstrijd</td>\n",
       "      <td>3</td>\n",
       "      <td>2018-01-12 11:48:34</td>\n",
       "      <td>NaN</td>\n",
       "      <td>2018-01-12 11:48:34</td>\n",
       "      <td>NaN</td>\n",
       "      <td>...</td>\n",
       "      <td>NaN</td>\n",
       "      <td>NaN</td>\n",
       "      <td>2018-01-12 19:45:09</td>\n",
       "      <td>Mazda - MAZDHOC7W495 - Newsletter Januari - NL...</td>\n",
       "      <td>cfbab63e82</td>\n",
       "      <td>NaN</td>\n",
       "      <td>NaN</td>\n",
       "      <td>183134557</td>\n",
       "      <td>de87200314</td>\n",
       "      <td>NaN</td>\n",
       "    </tr>\n",
       "    <tr>\n",
       "      <th>2</th>\n",
       "      <td>w.j.jans@skynet.be</td>\n",
       "      <td>Wilhelmius</td>\n",
       "      <td>Janssen</td>\n",
       "      <td>Min 3 jaar</td>\n",
       "      <td>Zonder wedstrijd</td>\n",
       "      <td>2</td>\n",
       "      <td>2018-01-12 11:47:46</td>\n",
       "      <td>NaN</td>\n",
       "      <td>2018-01-12 11:47:46</td>\n",
       "      <td>NaN</td>\n",
       "      <td>...</td>\n",
       "      <td>NaN</td>\n",
       "      <td>NaN</td>\n",
       "      <td>2018-01-12 19:40:51</td>\n",
       "      <td>Mazda - MAZDHOC7W495 - Newsletter Januari - NL...</td>\n",
       "      <td>0b3a3f5276</td>\n",
       "      <td>NaN</td>\n",
       "      <td>NaN</td>\n",
       "      <td>183094669</td>\n",
       "      <td>196b4c6fd0</td>\n",
       "      <td>NaN</td>\n",
       "    </tr>\n",
       "    <tr>\n",
       "      <th>3</th>\n",
       "      <td>rosiers.karel@gmail.com</td>\n",
       "      <td>Dorothy</td>\n",
       "      <td>Cornette</td>\n",
       "      <td>Min 3 jaar</td>\n",
       "      <td>Zonder wedstrijd</td>\n",
       "      <td>3</td>\n",
       "      <td>2018-01-12 11:47:47</td>\n",
       "      <td>NaN</td>\n",
       "      <td>2018-01-12 11:47:47</td>\n",
       "      <td>NaN</td>\n",
       "      <td>...</td>\n",
       "      <td>NaN</td>\n",
       "      <td>NaN</td>\n",
       "      <td>2018-01-12 19:00:27</td>\n",
       "      <td>Mazda - MAZDHOC7W495 - Newsletter Januari - NL...</td>\n",
       "      <td>0b3a3f5276</td>\n",
       "      <td>NaN</td>\n",
       "      <td>NaN</td>\n",
       "      <td>183095353</td>\n",
       "      <td>24873b871c</td>\n",
       "      <td>NaN</td>\n",
       "    </tr>\n",
       "    <tr>\n",
       "      <th>4</th>\n",
       "      <td>vernaillen.wilfried@telenet.be</td>\n",
       "      <td>Wilfried</td>\n",
       "      <td>Vernaillen</td>\n",
       "      <td>Min 3 jaar</td>\n",
       "      <td>Zonder wedstrijd</td>\n",
       "      <td>2</td>\n",
       "      <td>2018-01-12 11:47:48</td>\n",
       "      <td>NaN</td>\n",
       "      <td>2018-01-12 11:47:48</td>\n",
       "      <td>NaN</td>\n",
       "      <td>...</td>\n",
       "      <td>NaN</td>\n",
       "      <td>NaN</td>\n",
       "      <td>2018-01-13 06:49:00</td>\n",
       "      <td>Mazda - MAZDHOC7W495 - Newsletter Januari - NL...</td>\n",
       "      <td>0b3a3f5276</td>\n",
       "      <td>NORMAL</td>\n",
       "      <td>NaN</td>\n",
       "      <td>183096169</td>\n",
       "      <td>ac4caa5b78</td>\n",
       "      <td>NaN</td>\n",
       "    </tr>\n",
       "  </tbody>\n",
       "</table>\n",
       "<p>5 rows × 25 columns</p>\n",
       "</div>"
      ],
      "text/plain": [
       "                    Email Address  First Name       Last Name Type customer  \\\n",
       "0          m.vansteenkiste@me.com     Maarten  Van Steenkiste      Prospect   \n",
       "1       kristoflaureys@icloud.com     Kristof         Laureys      Prospect   \n",
       "2              w.j.jans@skynet.be  Wilhelmius         Janssen    Min 3 jaar   \n",
       "3         rosiers.karel@gmail.com     Dorothy        Cornette    Min 3 jaar   \n",
       "4  vernaillen.wilfried@telenet.be    Wilfried      Vernaillen    Min 3 jaar   \n",
       "\n",
       "          Wedstrijd  MEMBER_RATING           OPTIN_TIME  OPTIN_IP  \\\n",
       "0  Zonder wedstrijd              3  2018-01-12 11:48:34       NaN   \n",
       "1  Zonder wedstrijd              3  2018-01-12 11:48:34       NaN   \n",
       "2  Zonder wedstrijd              2  2018-01-12 11:47:46       NaN   \n",
       "3  Zonder wedstrijd              3  2018-01-12 11:47:47       NaN   \n",
       "4  Zonder wedstrijd              2  2018-01-12 11:47:48       NaN   \n",
       "\n",
       "          CONFIRM_TIME  CONFIRM_IP  ...    CC REGION           UNSUB_TIME  \\\n",
       "0  2018-01-12 11:48:34         NaN  ...   NaN    NaN  2018-01-13 08:40:04   \n",
       "1  2018-01-12 11:48:34         NaN  ...   NaN    NaN  2018-01-12 19:45:09   \n",
       "2  2018-01-12 11:47:46         NaN  ...   NaN    NaN  2018-01-12 19:40:51   \n",
       "3  2018-01-12 11:47:47         NaN  ...   NaN    NaN  2018-01-12 19:00:27   \n",
       "4  2018-01-12 11:47:48         NaN  ...   NaN    NaN  2018-01-13 06:49:00   \n",
       "\n",
       "                                UNSUB_CAMPAIGN_TITLE UNSUB_CAMPAIGN_ID  \\\n",
       "0  Mazda - MAZDHOC7W495 - Newsletter Januari - NL...        cfbab63e82   \n",
       "1  Mazda - MAZDHOC7W495 - Newsletter Januari - NL...        cfbab63e82   \n",
       "2  Mazda - MAZDHOC7W495 - Newsletter Januari - NL...        0b3a3f5276   \n",
       "3  Mazda - MAZDHOC7W495 - Newsletter Januari - NL...        0b3a3f5276   \n",
       "4  Mazda - MAZDHOC7W495 - Newsletter Januari - NL...        0b3a3f5276   \n",
       "\n",
       "  UNSUB_REASON UNSUB_REASON_OTHER       LEID        EUID NOTES  \n",
       "0          NaN                NaN  183134549  cbcaf8f21f   NaN  \n",
       "1          NaN                NaN  183134557  de87200314   NaN  \n",
       "2          NaN                NaN  183094669  196b4c6fd0   NaN  \n",
       "3          NaN                NaN  183095353  24873b871c   NaN  \n",
       "4       NORMAL                NaN  183096169  ac4caa5b78   NaN  \n",
       "\n",
       "[5 rows x 25 columns]"
      ]
     },
     "execution_count": 19,
     "metadata": {},
     "output_type": "execute_result"
    }
   ],
   "source": [
    "df_list_rand.head()"
   ]
  },
  {
   "cell_type": "markdown",
   "metadata": {},
   "source": [
    "LEID and EUID: LEID is the unique identifier for a contact, specific to a list. EUID is the unique identifier for a contact on the account level, across all lists.\n",
    "\n",
    "The \"UNSUB_CAMPAIGN_ID\" refers to the campaign from which he asked to be removed"
   ]
  },
  {
   "cell_type": "code",
   "execution_count": 20,
   "metadata": {
    "collapsed": true
   },
   "outputs": [],
   "source": [
    "# Join all the lists together\n",
    "def join_lists():\n",
    "    df = {}\n",
    "    df_join = pd.DataFrame()\n",
    "    for i in ['unsubscribed/', 'cleaned/', 'members/']:\n",
    "        df[i] = pd.DataFrame()\n",
    "        counter = 0\n",
    "        for j in [f for f in os.listdir(master_folder + lists +  i)]:\n",
    "            temp_df = pd.read_csv(master_folder + lists +  i + j)\n",
    "            temp_df['list_name'] = j\n",
    "            temp_df['type_list'] = i[:-1]\n",
    "            if counter == 0:\n",
    "                df[i] = temp_df\n",
    "                counter += 1\n",
    "            else:\n",
    "                df[i] = pd.concat([df[i], temp_df])\n",
    "                counter += 1\n",
    "        if counter == 1:\n",
    "            df_join = df[i]\n",
    "        else:\n",
    "            df_join = pd.concat([df_join, df[i]])\n",
    "    df_join.reset_index(inplace = True)\n",
    "    \n",
    "    # Drop columns that always contain na \n",
    "    df_join.drop(['index','OPTIN_IP','CONFIRM_IP','NOTES'],\\\n",
    "                      axis=1,inplace = True)\n",
    "    \n",
    "    #Add the name of the file in a ne column\n",
    "    df_join['list_name'] = df_join['list_name']\\\n",
    "                            .apply(lambda x: \" \".join(re.split('_|\\.',x)[2:-1][0].split('-')))\n",
    "    \n",
    "    return df_join"
   ]
  },
  {
   "cell_type": "code",
   "execution_count": 21,
   "metadata": {
    "collapsed": true
   },
   "outputs": [],
   "source": [
    "df_all_users = join_lists()"
   ]
  },
  {
   "cell_type": "code",
   "execution_count": 22,
   "metadata": {
    "collapsed": true
   },
   "outputs": [],
   "source": [
    "# We will join on the email so we need to make sure the email address column is formatted in the same way\n",
    "df_all_users['Email Address'] = df_all_users['Email Address'].apply(lambda x: str(x.lower().strip()))\n",
    "df_all_users['Email Address'] = df_all_users['Email Address'].astype(str)"
   ]
  },
  {
   "cell_type": "code",
   "execution_count": 23,
   "metadata": {},
   "outputs": [
    {
     "data": {
      "text/html": [
       "<div>\n",
       "<style>\n",
       "    .dataframe thead tr:only-child th {\n",
       "        text-align: right;\n",
       "    }\n",
       "\n",
       "    .dataframe thead th {\n",
       "        text-align: left;\n",
       "    }\n",
       "\n",
       "    .dataframe tbody tr th {\n",
       "        vertical-align: top;\n",
       "    }\n",
       "</style>\n",
       "<table border=\"1\" class=\"dataframe\">\n",
       "  <thead>\n",
       "    <tr style=\"text-align: right;\">\n",
       "      <th></th>\n",
       "      <th>CC</th>\n",
       "      <th>CLEAN_CAMPAIGN_ID</th>\n",
       "      <th>CLEAN_CAMPAIGN_TITLE</th>\n",
       "      <th>CLEAN_TIME</th>\n",
       "      <th>CONFIRM_TIME</th>\n",
       "      <th>DSTOFF</th>\n",
       "      <th>EUID</th>\n",
       "      <th>Email Address</th>\n",
       "      <th>First Name</th>\n",
       "      <th>GMTOFF</th>\n",
       "      <th>...</th>\n",
       "      <th>TIMEZONE</th>\n",
       "      <th>Type customer</th>\n",
       "      <th>UNSUB_CAMPAIGN_ID</th>\n",
       "      <th>UNSUB_CAMPAIGN_TITLE</th>\n",
       "      <th>UNSUB_REASON</th>\n",
       "      <th>UNSUB_REASON_OTHER</th>\n",
       "      <th>UNSUB_TIME</th>\n",
       "      <th>Wedstrijd</th>\n",
       "      <th>list_name</th>\n",
       "      <th>type_list</th>\n",
       "    </tr>\n",
       "  </thead>\n",
       "  <tbody>\n",
       "    <tr>\n",
       "      <th>8520</th>\n",
       "      <td>LU</td>\n",
       "      <td>NaN</td>\n",
       "      <td>NaN</td>\n",
       "      <td>NaN</td>\n",
       "      <td>2018-01-12 11:50:16</td>\n",
       "      <td>2</td>\n",
       "      <td>3f569fc6c8</td>\n",
       "      <td>caro_bellemans@yahoo.com</td>\n",
       "      <td>Caroline</td>\n",
       "      <td>1</td>\n",
       "      <td>...</td>\n",
       "      <td>Europe/Luxembourg</td>\n",
       "      <td>Plus 3 jaar</td>\n",
       "      <td>NaN</td>\n",
       "      <td>NaN</td>\n",
       "      <td>NaN</td>\n",
       "      <td>NaN</td>\n",
       "      <td>NaN</td>\n",
       "      <td>NaN</td>\n",
       "      <td>mazda newsletter januari fr</td>\n",
       "      <td>members</td>\n",
       "    </tr>\n",
       "    <tr>\n",
       "      <th>27051</th>\n",
       "      <td>LU</td>\n",
       "      <td>NaN</td>\n",
       "      <td>NaN</td>\n",
       "      <td>NaN</td>\n",
       "      <td>2018-01-08 13:30:56</td>\n",
       "      <td>2</td>\n",
       "      <td>3f569fc6c8</td>\n",
       "      <td>caro_bellemans@yahoo.com</td>\n",
       "      <td>Caroline</td>\n",
       "      <td>1</td>\n",
       "      <td>...</td>\n",
       "      <td>Europe/Luxembourg</td>\n",
       "      <td>NaN</td>\n",
       "      <td>NaN</td>\n",
       "      <td>NaN</td>\n",
       "      <td>NaN</td>\n",
       "      <td>NaN</td>\n",
       "      <td>NaN</td>\n",
       "      <td>NaN</td>\n",
       "      <td>mazda cheque lux</td>\n",
       "      <td>members</td>\n",
       "    </tr>\n",
       "  </tbody>\n",
       "</table>\n",
       "<p>2 rows × 28 columns</p>\n",
       "</div>"
      ],
      "text/plain": [
       "       CC CLEAN_CAMPAIGN_ID CLEAN_CAMPAIGN_TITLE CLEAN_TIME  \\\n",
       "8520   LU               NaN                  NaN        NaN   \n",
       "27051  LU               NaN                  NaN        NaN   \n",
       "\n",
       "              CONFIRM_TIME DSTOFF        EUID             Email Address  \\\n",
       "8520   2018-01-12 11:50:16      2  3f569fc6c8  caro_bellemans@yahoo.com   \n",
       "27051  2018-01-08 13:30:56      2  3f569fc6c8  caro_bellemans@yahoo.com   \n",
       "\n",
       "      First Name GMTOFF    ...              TIMEZONE Type customer  \\\n",
       "8520    Caroline      1    ...     Europe/Luxembourg   Plus 3 jaar   \n",
       "27051   Caroline      1    ...     Europe/Luxembourg           NaN   \n",
       "\n",
       "      UNSUB_CAMPAIGN_ID UNSUB_CAMPAIGN_TITLE UNSUB_REASON UNSUB_REASON_OTHER  \\\n",
       "8520                NaN                  NaN          NaN                NaN   \n",
       "27051               NaN                  NaN          NaN                NaN   \n",
       "\n",
       "      UNSUB_TIME Wedstrijd                    list_name type_list  \n",
       "8520         NaN       NaN  mazda newsletter januari fr   members  \n",
       "27051        NaN       NaN             mazda cheque lux   members  \n",
       "\n",
       "[2 rows x 28 columns]"
      ]
     },
     "execution_count": 23,
     "metadata": {},
     "output_type": "execute_result"
    }
   ],
   "source": [
    "df_all_users[df_all_users['Email Address'] == 'caro_bellemans@yahoo.com']"
   ]
  },
  {
   "cell_type": "markdown",
   "metadata": {},
   "source": [
    "Fields to be added from lists of users:\n",
    "- Number of cleaned lists a user belongs to\n",
    "- Number of unsubscribed lists a user belongs to\n",
    "- Number of members lists a user belongs to\n",
    "- EUID\n",
    "- Type of customer\n",
    "- Rating of the member"
   ]
  },
  {
   "cell_type": "code",
   "execution_count": 24,
   "metadata": {},
   "outputs": [
    {
     "data": {
      "text/plain": [
       "16.0"
      ]
     },
     "execution_count": 24,
     "metadata": {},
     "output_type": "execute_result"
    }
   ],
   "source": [
    "# Check on the duplicates\n",
    "duplicates = df_cust_data[df_cust_data['Email Address'].isin(df_cust_data['Email Address'].\\\n",
    "                    value_counts()[df_cust_data['Email Address'].value_counts()>1].index)]\n",
    "len(duplicates[duplicates['Email Address'] != \"no email\"])/2"
   ]
  },
  {
   "cell_type": "code",
   "execution_count": 25,
   "metadata": {
    "collapsed": true
   },
   "outputs": [],
   "source": [
    "# Aggregate data per user\n",
    "members = pd.DataFrame(df_all_users[df_all_users['type_list'] == 'members'].\\\n",
    "            groupby('Email Address')['type_list'].count())\n",
    "cleaned = pd.DataFrame(df_all_users[df_all_users['type_list'] == 'cleaned'].\\\n",
    "            groupby('Email Address')['type_list'].count())\n",
    "unsubscribed = pd.DataFrame(df_all_users[df_all_users['type_list'] == 'unsubscribed'].\\\n",
    "            groupby('Email Address')['type_list'].count())\n",
    "EUID = pd.DataFrame(df_all_users.groupby('Email Address')['EUID'].max())"
   ]
  },
  {
   "cell_type": "code",
   "execution_count": 26,
   "metadata": {
    "collapsed": true
   },
   "outputs": [],
   "source": [
    "# Create new columns in the mazda dataset for customers\n",
    "df_cust_data['Chimp_Number_Members_list'] = df_cust_data[['Email Address']].\\\n",
    "                merge(members, how = 'left', left_on = 'Email Address', right_index = True)['type_list']\n",
    "df_cust_data['Chimp_Number_Clean_list'] = df_cust_data[['Email Address']].\\\n",
    "                merge(cleaned, how = 'left', left_on = 'Email Address', right_index = True)['type_list']\n",
    "df_cust_data['Chimp_Number_Unsub_list'] = df_cust_data[['Email Address']].\\\n",
    "                merge(unsubscribed, how = 'left', left_on = 'Email Address', right_index = True)['type_list']\n",
    "df_cust_data['Chimp_EUID'] = df_cust_data[['Email Address']].\\\n",
    "                merge(EUID, how = 'left', left_on = 'Email Address', right_index = True)['EUID']\n",
    "    \n",
    "# Create new columns in the mazda dataset for prospects\n",
    "df_prospects_data['Chimp_Number_Members_list'] = df_prospects_data[['Email Address']].\\\n",
    "                merge(members, how = 'left', left_on = 'Email Address', right_index = True)['type_list']\n",
    "df_prospects_data['Chimp_Number_Clean_list'] = df_prospects_data[['Email Address']].\\\n",
    "                merge(cleaned, how = 'left', left_on = 'Email Address', right_index = True)['type_list']\n",
    "df_prospects_data['Chimp_Number_Unsub_list'] = df_prospects_data[['Email Address']].\\\n",
    "                merge(unsubscribed, how = 'left', left_on = 'Email Address', right_index = True)['type_list']\n",
    "df_prospects_data['Chimp_EUID'] = df_prospects_data[['Email Address']].\\\n",
    "                merge(EUID, how = 'left', left_on = 'Email Address', right_index = True)['EUID']"
   ]
  },
  {
   "cell_type": "code",
   "execution_count": 27,
   "metadata": {},
   "outputs": [
    {
     "data": {
      "text/html": [
       "<div>\n",
       "<style>\n",
       "    .dataframe thead tr:only-child th {\n",
       "        text-align: right;\n",
       "    }\n",
       "\n",
       "    .dataframe thead th {\n",
       "        text-align: left;\n",
       "    }\n",
       "\n",
       "    .dataframe tbody tr th {\n",
       "        vertical-align: top;\n",
       "    }\n",
       "</style>\n",
       "<table border=\"1\" class=\"dataframe\">\n",
       "  <thead>\n",
       "    <tr style=\"text-align: right;\">\n",
       "      <th></th>\n",
       "      <th>Contact Row ID</th>\n",
       "      <th>Preferred Language</th>\n",
       "      <th>Personal Title_I</th>\n",
       "      <th>First Name</th>\n",
       "      <th>Last Name</th>\n",
       "      <th>Street Address</th>\n",
       "      <th>Street Address 2</th>\n",
       "      <th>City</th>\n",
       "      <th>Postal Code</th>\n",
       "      <th>Country_I</th>\n",
       "      <th>...</th>\n",
       "      <th>Current Mileage</th>\n",
       "      <th>Own(ed) a Mazda</th>\n",
       "      <th>Model</th>\n",
       "      <th>MX-5 Lead</th>\n",
       "      <th>MOI</th>\n",
       "      <th>Date</th>\n",
       "      <th>Chimp_Number_Members_list</th>\n",
       "      <th>Chimp_Number_Clean_list</th>\n",
       "      <th>Chimp_Number_Unsub_list</th>\n",
       "      <th>Chimp_EUID</th>\n",
       "    </tr>\n",
       "  </thead>\n",
       "  <tbody>\n",
       "    <tr>\n",
       "      <th>1093</th>\n",
       "      <td>1-3XNUAJ</td>\n",
       "      <td>FRA</td>\n",
       "      <td>Miss</td>\n",
       "      <td>CAROLINE</td>\n",
       "      <td>BELLEMANS</td>\n",
       "      <td>RUE DE CESSANGE 119</td>\n",
       "      <td>NaN</td>\n",
       "      <td>Luxembourg</td>\n",
       "      <td>1321</td>\n",
       "      <td>Luxembourg</td>\n",
       "      <td>...</td>\n",
       "      <td>12552.0</td>\n",
       "      <td>Y</td>\n",
       "      <td>MX-5</td>\n",
       "      <td>NaN</td>\n",
       "      <td>NaN</td>\n",
       "      <td>NaT</td>\n",
       "      <td>2.0</td>\n",
       "      <td>NaN</td>\n",
       "      <td>NaN</td>\n",
       "      <td>3f569fc6c8</td>\n",
       "    </tr>\n",
       "  </tbody>\n",
       "</table>\n",
       "<p>1 rows × 40 columns</p>\n",
       "</div>"
      ],
      "text/plain": [
       "     Contact Row ID Preferred Language Personal Title_I First Name  Last Name  \\\n",
       "1093       1-3XNUAJ                FRA             Miss   CAROLINE  BELLEMANS   \n",
       "\n",
       "           Street Address  Street Address 2        City Postal Code  \\\n",
       "1093  RUE DE CESSANGE 119               NaN  Luxembourg        1321   \n",
       "\n",
       "       Country_I     ...     Current Mileage  Own(ed) a Mazda Model  \\\n",
       "1093  Luxembourg     ...             12552.0                Y  MX-5   \n",
       "\n",
       "      MX-5 Lead  MOI Date Chimp_Number_Members_list Chimp_Number_Clean_list  \\\n",
       "1093        NaN  NaN  NaT                       2.0                     NaN   \n",
       "\n",
       "     Chimp_Number_Unsub_list  Chimp_EUID  \n",
       "1093                     NaN  3f569fc6c8  \n",
       "\n",
       "[1 rows x 40 columns]"
      ]
     },
     "execution_count": 27,
     "metadata": {},
     "output_type": "execute_result"
    }
   ],
   "source": [
    "df_cust_data[df_cust_data['Email Address'] == 'caro_bellemans@yahoo.com']"
   ]
  },
  {
   "cell_type": "code",
   "execution_count": 28,
   "metadata": {},
   "outputs": [
    {
     "data": {
      "text/plain": [
       "424"
      ]
     },
     "execution_count": 28,
     "metadata": {},
     "output_type": "execute_result"
    }
   ],
   "source": [
    "sum(df_cust_data['Chimp_EUID'].isnull())"
   ]
  },
  {
   "cell_type": "code",
   "execution_count": 29,
   "metadata": {},
   "outputs": [
    {
     "data": {
      "text/plain": [
       "1881"
      ]
     },
     "execution_count": 29,
     "metadata": {},
     "output_type": "execute_result"
    }
   ],
   "source": [
    "len(df_cust_data)"
   ]
  },
  {
   "cell_type": "code",
   "execution_count": 30,
   "metadata": {},
   "outputs": [
    {
     "data": {
      "text/plain": [
       "5758"
      ]
     },
     "execution_count": 30,
     "metadata": {},
     "output_type": "execute_result"
    }
   ],
   "source": [
    "sum(df_prospects_data['Chimp_EUID'].isnull())"
   ]
  },
  {
   "cell_type": "code",
   "execution_count": 31,
   "metadata": {},
   "outputs": [
    {
     "data": {
      "text/plain": [
       "6738"
      ]
     },
     "execution_count": 31,
     "metadata": {},
     "output_type": "execute_result"
    }
   ],
   "source": [
    "len(df_prospects_data)"
   ]
  },
  {
   "cell_type": "markdown",
   "metadata": {},
   "source": [
    "## Aggregate_activity"
   ]
  },
  {
   "cell_type": "markdown",
   "metadata": {},
   "source": [
    "The aggregate_activity folder is divided six subsets:\n",
    "- abuse : list of the users that reported the campaign as an abuse (a user that reported a campaign as a spam)\n",
    "- bounces : list of users for which the campaign could not be delivered to their email\n",
    "- click_activity: list of users that have opened the campaign and clicked on the campaign\n",
    "- not_opened: list of users that have not opened the campaign email\n",
    "- opened: list of users that have opened the campaign email\n",
    "- unsub_reasons: list of users that have unsubscribed and a field with the reason"
   ]
  },
  {
   "cell_type": "code",
   "execution_count": 32,
   "metadata": {},
   "outputs": [
    {
     "name": "stdout",
     "output_type": "stream",
     "text": [
      "# of files in abuse : 182\n",
      "# of files in bounces : 182\n",
      "# of files in click_activity : 182\n",
      "# of files in not_opened : 182\n",
      "# of files in opened : 182\n",
      "# of files in unsub-reasons : 182\n"
     ]
    }
   ],
   "source": [
    "#filecount\n",
    "print(\"# of files in abuse :\", filecount(os.fspath(master_folder + aggregate_activity + \"abuse/\")))\n",
    "print(\"# of files in bounces :\", filecount(os.fspath(master_folder + aggregate_activity + \"bounces/\")))\n",
    "print(\"# of files in click_activity :\", filecount(os.fspath(master_folder + aggregate_activity + \"click_activity/\")))\n",
    "print(\"# of files in not_opened :\", filecount(os.fspath(master_folder + aggregate_activity + \"not_opened/\")))\n",
    "print(\"# of files in opened :\", filecount(os.fspath(master_folder + aggregate_activity + \"opened/\")))\n",
    "print(\"# of files in unsub-reasons :\", filecount(os.fspath(master_folder + aggregate_activity + \"unsub-reasons/\")))"
   ]
  },
  {
   "cell_type": "code",
   "execution_count": 33,
   "metadata": {
    "collapsed": true
   },
   "outputs": [],
   "source": [
    "files_aggregate = [f for f in os.listdir(master_folder + aggregate_activity +  \"abuse/\")]"
   ]
  },
  {
   "cell_type": "code",
   "execution_count": 34,
   "metadata": {
    "collapsed": true
   },
   "outputs": [],
   "source": [
    "df_agg_abuse_rand = pd.read_csv(master_folder + aggregate_activity + \\\n",
    "                  \"abuse/\" + files_aggregate[0], low_memory=False)\n",
    "df_agg_bounces_rand = pd.read_csv(master_folder + aggregate_activity + \\\n",
    "                  \"bounces/\" + files_aggregate[0], low_memory=False)\n",
    "df_agg_click_rand = pd.read_csv(master_folder + aggregate_activity + \\\n",
    "                  \"click_activity/\" + files_aggregate[0], low_memory=False)\n",
    "df_agg_notop_rand = pd.read_csv(master_folder + aggregate_activity + \\\n",
    "                  \"not_opened/\" + files_aggregate[0], low_memory=False)\n",
    "df_agg_op_rand = pd.read_csv(master_folder + aggregate_activity + \\\n",
    "                  \"opened/\" + files_aggregate[0], low_memory=False)\n",
    "df_agg_unsub_rand = pd.read_csv(master_folder + aggregate_activity + \\\n",
    "                  \"unsub-reasons/\" + files_aggregate[0], low_memory=False)"
   ]
  },
  {
   "cell_type": "markdown",
   "metadata": {},
   "source": [
    "We will join on email address but email addresses are encountered in the following columns:\n",
    "\n",
    "['Adresse email','E-mail', 'E-mail*', 'E-mailadres', 'Email', 'Email Address']"
   ]
  },
  {
   "cell_type": "code",
   "execution_count": 35,
   "metadata": {},
   "outputs": [
    {
     "data": {
      "text/html": [
       "<div>\n",
       "<style>\n",
       "    .dataframe thead tr:only-child th {\n",
       "        text-align: right;\n",
       "    }\n",
       "\n",
       "    .dataframe thead th {\n",
       "        text-align: left;\n",
       "    }\n",
       "\n",
       "    .dataframe tbody tr th {\n",
       "        vertical-align: top;\n",
       "    }\n",
       "</style>\n",
       "<table border=\"1\" class=\"dataframe\">\n",
       "  <thead>\n",
       "    <tr style=\"text-align: right;\">\n",
       "      <th></th>\n",
       "      <th>Email Address</th>\n",
       "      <th>First Name</th>\n",
       "      <th>Last Name</th>\n",
       "      <th>Member Rating</th>\n",
       "    </tr>\n",
       "  </thead>\n",
       "  <tbody>\n",
       "    <tr>\n",
       "      <th>0</th>\n",
       "      <td>Pdorban@Hotmail.Com</td>\n",
       "      <td>Pascal</td>\n",
       "      <td>Dorban</td>\n",
       "      <td>1</td>\n",
       "    </tr>\n",
       "  </tbody>\n",
       "</table>\n",
       "</div>"
      ],
      "text/plain": [
       "         Email Address First Name Last Name  Member Rating\n",
       "0  Pdorban@Hotmail.Com     Pascal    Dorban              1"
      ]
     },
     "execution_count": 35,
     "metadata": {},
     "output_type": "execute_result"
    }
   ],
   "source": [
    "df_agg_abuse_rand.head()"
   ]
  },
  {
   "cell_type": "markdown",
   "metadata": {},
   "source": [
    "List of users that reported the campaign as an abuse"
   ]
  },
  {
   "cell_type": "code",
   "execution_count": 36,
   "metadata": {},
   "outputs": [
    {
     "data": {
      "text/html": [
       "<div>\n",
       "<style>\n",
       "    .dataframe thead tr:only-child th {\n",
       "        text-align: right;\n",
       "    }\n",
       "\n",
       "    .dataframe thead th {\n",
       "        text-align: left;\n",
       "    }\n",
       "\n",
       "    .dataframe tbody tr th {\n",
       "        vertical-align: top;\n",
       "    }\n",
       "</style>\n",
       "<table border=\"1\" class=\"dataframe\">\n",
       "  <thead>\n",
       "    <tr style=\"text-align: right;\">\n",
       "      <th></th>\n",
       "      <th>Email Address</th>\n",
       "      <th>First Name</th>\n",
       "      <th>Last Name</th>\n",
       "      <th>Member Rating</th>\n",
       "      <th>Bounce Type</th>\n",
       "    </tr>\n",
       "  </thead>\n",
       "  <tbody>\n",
       "    <tr>\n",
       "      <th>0</th>\n",
       "      <td>Burnhampm@Me.Dotcom</td>\n",
       "      <td>Peter</td>\n",
       "      <td>Burnham</td>\n",
       "      <td>1</td>\n",
       "      <td>soft</td>\n",
       "    </tr>\n",
       "    <tr>\n",
       "      <th>1</th>\n",
       "      <td>Majstrorski07@Gmail.Com</td>\n",
       "      <td>Mile</td>\n",
       "      <td>Majstorski</td>\n",
       "      <td>1</td>\n",
       "      <td>hard</td>\n",
       "    </tr>\n",
       "    <tr>\n",
       "      <th>2</th>\n",
       "      <td>Norbertwebwer1960@Gmail.Com</td>\n",
       "      <td>Norbert</td>\n",
       "      <td>Weber</td>\n",
       "      <td>1</td>\n",
       "      <td>hard</td>\n",
       "    </tr>\n",
       "    <tr>\n",
       "      <th>3</th>\n",
       "      <td>Zsuzsanna.Brassai@Europarl.Europa</td>\n",
       "      <td>Zsuzsanna</td>\n",
       "      <td>Brassai</td>\n",
       "      <td>1</td>\n",
       "      <td>soft</td>\n",
       "    </tr>\n",
       "    <tr>\n",
       "      <th>4</th>\n",
       "      <td>Christian.Mosbach@Wolter-Wasserbilli.Com</td>\n",
       "      <td>Ewald</td>\n",
       "      <td>Wolter</td>\n",
       "      <td>1</td>\n",
       "      <td>soft</td>\n",
       "    </tr>\n",
       "  </tbody>\n",
       "</table>\n",
       "</div>"
      ],
      "text/plain": [
       "                              Email Address First Name   Last Name  \\\n",
       "0                       Burnhampm@Me.Dotcom      Peter     Burnham   \n",
       "1                   Majstrorski07@Gmail.Com       Mile  Majstorski   \n",
       "2               Norbertwebwer1960@Gmail.Com    Norbert       Weber   \n",
       "3         Zsuzsanna.Brassai@Europarl.Europa  Zsuzsanna     Brassai   \n",
       "4  Christian.Mosbach@Wolter-Wasserbilli.Com      Ewald      Wolter   \n",
       "\n",
       "   Member Rating Bounce Type  \n",
       "0              1        soft  \n",
       "1              1        hard  \n",
       "2              1        hard  \n",
       "3              1        soft  \n",
       "4              1        soft  "
      ]
     },
     "execution_count": 36,
     "metadata": {},
     "output_type": "execute_result"
    }
   ],
   "source": [
    "df_agg_bounces_rand.head()"
   ]
  },
  {
   "cell_type": "markdown",
   "metadata": {},
   "source": [
    "List of users for which the campaign did not reach them"
   ]
  },
  {
   "cell_type": "code",
   "execution_count": 37,
   "metadata": {},
   "outputs": [
    {
     "data": {
      "text/html": [
       "<div>\n",
       "<style>\n",
       "    .dataframe thead tr:only-child th {\n",
       "        text-align: right;\n",
       "    }\n",
       "\n",
       "    .dataframe thead th {\n",
       "        text-align: left;\n",
       "    }\n",
       "\n",
       "    .dataframe tbody tr th {\n",
       "        vertical-align: top;\n",
       "    }\n",
       "</style>\n",
       "<table border=\"1\" class=\"dataframe\">\n",
       "  <thead>\n",
       "    <tr style=\"text-align: right;\">\n",
       "      <th></th>\n",
       "      <th>Email Address</th>\n",
       "      <th>First Name</th>\n",
       "      <th>Last Name</th>\n",
       "      <th>Member Rating</th>\n",
       "      <th>Clicks</th>\n",
       "    </tr>\n",
       "  </thead>\n",
       "  <tbody>\n",
       "    <tr>\n",
       "      <th>0</th>\n",
       "      <td>Hhildgen@Pt.Lu</td>\n",
       "      <td>Henriette</td>\n",
       "      <td>Hildgen</td>\n",
       "      <td>4</td>\n",
       "      <td>1</td>\n",
       "    </tr>\n",
       "    <tr>\n",
       "      <th>1</th>\n",
       "      <td>Leonardocidalia@Hotmail.Fr</td>\n",
       "      <td>Azevedo Santana</td>\n",
       "      <td>Paulo Dinis</td>\n",
       "      <td>4</td>\n",
       "      <td>1</td>\n",
       "    </tr>\n",
       "    <tr>\n",
       "      <th>2</th>\n",
       "      <td>Munhoven@Gmail.Com</td>\n",
       "      <td>Tom</td>\n",
       "      <td>Munhoven</td>\n",
       "      <td>4</td>\n",
       "      <td>1</td>\n",
       "    </tr>\n",
       "    <tr>\n",
       "      <th>3</th>\n",
       "      <td>Geje@Pt.Lu</td>\n",
       "      <td>Jeannot</td>\n",
       "      <td>Geib</td>\n",
       "      <td>4</td>\n",
       "      <td>1</td>\n",
       "    </tr>\n",
       "    <tr>\n",
       "      <th>4</th>\n",
       "      <td>Pfreis@Pt.Lu</td>\n",
       "      <td>Patrick</td>\n",
       "      <td>Freis</td>\n",
       "      <td>4</td>\n",
       "      <td>1</td>\n",
       "    </tr>\n",
       "  </tbody>\n",
       "</table>\n",
       "</div>"
      ],
      "text/plain": [
       "                Email Address       First Name    Last Name  Member Rating  \\\n",
       "0              Hhildgen@Pt.Lu        Henriette      Hildgen              4   \n",
       "1  Leonardocidalia@Hotmail.Fr  Azevedo Santana  Paulo Dinis              4   \n",
       "2          Munhoven@Gmail.Com              Tom     Munhoven              4   \n",
       "3                  Geje@Pt.Lu          Jeannot         Geib              4   \n",
       "4                Pfreis@Pt.Lu          Patrick        Freis              4   \n",
       "\n",
       "   Clicks  \n",
       "0       1  \n",
       "1       1  \n",
       "2       1  \n",
       "3       1  \n",
       "4       1  "
      ]
     },
     "execution_count": 37,
     "metadata": {},
     "output_type": "execute_result"
    }
   ],
   "source": [
    "df_agg_click_rand.head()"
   ]
  },
  {
   "cell_type": "markdown",
   "metadata": {},
   "source": [
    "List of users that have given a click for the campaign, with the total number of clicks given"
   ]
  },
  {
   "cell_type": "code",
   "execution_count": 38,
   "metadata": {},
   "outputs": [
    {
     "data": {
      "text/html": [
       "<div>\n",
       "<style>\n",
       "    .dataframe thead tr:only-child th {\n",
       "        text-align: right;\n",
       "    }\n",
       "\n",
       "    .dataframe thead th {\n",
       "        text-align: left;\n",
       "    }\n",
       "\n",
       "    .dataframe tbody tr th {\n",
       "        vertical-align: top;\n",
       "    }\n",
       "</style>\n",
       "<table border=\"1\" class=\"dataframe\">\n",
       "  <thead>\n",
       "    <tr style=\"text-align: right;\">\n",
       "      <th></th>\n",
       "      <th>Email Address</th>\n",
       "      <th>First Name</th>\n",
       "      <th>Last Name</th>\n",
       "      <th>Member Rating</th>\n",
       "    </tr>\n",
       "  </thead>\n",
       "  <tbody>\n",
       "    <tr>\n",
       "      <th>0</th>\n",
       "      <td>Benjaminbamberg@Yahoo.De</td>\n",
       "      <td>Benjamin</td>\n",
       "      <td>Bamberg</td>\n",
       "      <td>2</td>\n",
       "    </tr>\n",
       "    <tr>\n",
       "      <th>1</th>\n",
       "      <td>Ana8Costa@Gmail.Com</td>\n",
       "      <td>Ana Maria</td>\n",
       "      <td>Alves Da Costa</td>\n",
       "      <td>2</td>\n",
       "    </tr>\n",
       "    <tr>\n",
       "      <th>2</th>\n",
       "      <td>Lucja_Rokita@Yahoo.Co.Uk</td>\n",
       "      <td>Lucja</td>\n",
       "      <td>Tryburcy-Rokita</td>\n",
       "      <td>2</td>\n",
       "    </tr>\n",
       "    <tr>\n",
       "      <th>3</th>\n",
       "      <td>Broyer.Valery@Neuf.Fr</td>\n",
       "      <td>Sophie</td>\n",
       "      <td>Arvieux</td>\n",
       "      <td>2</td>\n",
       "    </tr>\n",
       "    <tr>\n",
       "      <th>4</th>\n",
       "      <td>Georges.Frieden@Gmx.Net</td>\n",
       "      <td>Georges</td>\n",
       "      <td>Frieden</td>\n",
       "      <td>2</td>\n",
       "    </tr>\n",
       "  </tbody>\n",
       "</table>\n",
       "</div>"
      ],
      "text/plain": [
       "              Email Address First Name        Last Name  Member Rating\n",
       "0  Benjaminbamberg@Yahoo.De   Benjamin          Bamberg              2\n",
       "1       Ana8Costa@Gmail.Com  Ana Maria   Alves Da Costa              2\n",
       "2  Lucja_Rokita@Yahoo.Co.Uk      Lucja  Tryburcy-Rokita              2\n",
       "3     Broyer.Valery@Neuf.Fr     Sophie          Arvieux              2\n",
       "4   Georges.Frieden@Gmx.Net    Georges          Frieden              2"
      ]
     },
     "execution_count": 38,
     "metadata": {},
     "output_type": "execute_result"
    }
   ],
   "source": [
    "df_agg_notop_rand.head()"
   ]
  },
  {
   "cell_type": "markdown",
   "metadata": {},
   "source": [
    "List of users that have not open the campaign"
   ]
  },
  {
   "cell_type": "code",
   "execution_count": 39,
   "metadata": {},
   "outputs": [
    {
     "data": {
      "text/html": [
       "<div>\n",
       "<style>\n",
       "    .dataframe thead tr:only-child th {\n",
       "        text-align: right;\n",
       "    }\n",
       "\n",
       "    .dataframe thead th {\n",
       "        text-align: left;\n",
       "    }\n",
       "\n",
       "    .dataframe tbody tr th {\n",
       "        vertical-align: top;\n",
       "    }\n",
       "</style>\n",
       "<table border=\"1\" class=\"dataframe\">\n",
       "  <thead>\n",
       "    <tr style=\"text-align: right;\">\n",
       "      <th></th>\n",
       "      <th>Email Address</th>\n",
       "      <th>First Name</th>\n",
       "      <th>Last Name</th>\n",
       "      <th>Member Rating</th>\n",
       "      <th>Opens</th>\n",
       "    </tr>\n",
       "  </thead>\n",
       "  <tbody>\n",
       "    <tr>\n",
       "      <th>0</th>\n",
       "      <td>Kirch.Jeannot@Gmail.Com</td>\n",
       "      <td>Jeannot</td>\n",
       "      <td>Kirch</td>\n",
       "      <td>3</td>\n",
       "      <td>2</td>\n",
       "    </tr>\n",
       "    <tr>\n",
       "      <th>1</th>\n",
       "      <td>Saimen.Thoma@Tango.Lu</td>\n",
       "      <td>Danielle</td>\n",
       "      <td>Thoma</td>\n",
       "      <td>3</td>\n",
       "      <td>3</td>\n",
       "    </tr>\n",
       "    <tr>\n",
       "      <th>2</th>\n",
       "      <td>Malou27@Pt.Lu</td>\n",
       "      <td>Marie-Louise</td>\n",
       "      <td>Eschbour</td>\n",
       "      <td>3</td>\n",
       "      <td>2</td>\n",
       "    </tr>\n",
       "    <tr>\n",
       "      <th>3</th>\n",
       "      <td>Hhildgen@Pt.Lu</td>\n",
       "      <td>Henriette</td>\n",
       "      <td>Hildgen</td>\n",
       "      <td>4</td>\n",
       "      <td>11</td>\n",
       "    </tr>\n",
       "    <tr>\n",
       "      <th>4</th>\n",
       "      <td>Kiss.Ionut@Yahoo.Com</td>\n",
       "      <td>Ionut</td>\n",
       "      <td>Kiss</td>\n",
       "      <td>3</td>\n",
       "      <td>1</td>\n",
       "    </tr>\n",
       "  </tbody>\n",
       "</table>\n",
       "</div>"
      ],
      "text/plain": [
       "             Email Address    First Name Last Name  Member Rating  Opens\n",
       "0  Kirch.Jeannot@Gmail.Com       Jeannot     Kirch              3      2\n",
       "1    Saimen.Thoma@Tango.Lu      Danielle     Thoma              3      3\n",
       "2            Malou27@Pt.Lu  Marie-Louise  Eschbour              3      2\n",
       "3           Hhildgen@Pt.Lu     Henriette   Hildgen              4     11\n",
       "4     Kiss.Ionut@Yahoo.Com         Ionut      Kiss              3      1"
      ]
     },
     "execution_count": 39,
     "metadata": {},
     "output_type": "execute_result"
    }
   ],
   "source": [
    "df_agg_op_rand.head()"
   ]
  },
  {
   "cell_type": "markdown",
   "metadata": {},
   "source": [
    "List of users that have opened the campaign and number of times they have opened it"
   ]
  },
  {
   "cell_type": "code",
   "execution_count": 40,
   "metadata": {},
   "outputs": [
    {
     "data": {
      "text/html": [
       "<div>\n",
       "<style>\n",
       "    .dataframe thead tr:only-child th {\n",
       "        text-align: right;\n",
       "    }\n",
       "\n",
       "    .dataframe thead th {\n",
       "        text-align: left;\n",
       "    }\n",
       "\n",
       "    .dataframe tbody tr th {\n",
       "        vertical-align: top;\n",
       "    }\n",
       "</style>\n",
       "<table border=\"1\" class=\"dataframe\">\n",
       "  <thead>\n",
       "    <tr style=\"text-align: right;\">\n",
       "      <th></th>\n",
       "      <th>Email Address</th>\n",
       "      <th>First Name</th>\n",
       "      <th>Last Name</th>\n",
       "      <th>Member Rating</th>\n",
       "      <th>reason</th>\n",
       "      <th>description</th>\n",
       "    </tr>\n",
       "  </thead>\n",
       "  <tbody>\n",
       "    <tr>\n",
       "      <th>0</th>\n",
       "      <td>Ana-Bilic@Hotmail.Com</td>\n",
       "      <td>Ana</td>\n",
       "      <td>Bilic</td>\n",
       "      <td>3</td>\n",
       "      <td>NaN</td>\n",
       "      <td>NaN</td>\n",
       "    </tr>\n",
       "    <tr>\n",
       "      <th>1</th>\n",
       "      <td>Rene.Moonen@Education.Lu</td>\n",
       "      <td>Myriam</td>\n",
       "      <td>Moonen--Schwartz</td>\n",
       "      <td>2</td>\n",
       "      <td>NORMAL</td>\n",
       "      <td>NaN</td>\n",
       "    </tr>\n",
       "    <tr>\n",
       "      <th>2</th>\n",
       "      <td>Predrag.Latinovic@Gmail.Com</td>\n",
       "      <td>Predrag</td>\n",
       "      <td>Latinovic</td>\n",
       "      <td>3</td>\n",
       "      <td>NOSIGNUP</td>\n",
       "      <td>NaN</td>\n",
       "    </tr>\n",
       "    <tr>\n",
       "      <th>3</th>\n",
       "      <td>Pdorban@Hotmail.Com</td>\n",
       "      <td>Pascal</td>\n",
       "      <td>Dorban</td>\n",
       "      <td>1</td>\n",
       "      <td>SPAM</td>\n",
       "      <td>NaN</td>\n",
       "    </tr>\n",
       "  </tbody>\n",
       "</table>\n",
       "</div>"
      ],
      "text/plain": [
       "                 Email Address First Name         Last Name  Member Rating  \\\n",
       "0        Ana-Bilic@Hotmail.Com        Ana             Bilic              3   \n",
       "1     Rene.Moonen@Education.Lu     Myriam  Moonen--Schwartz              2   \n",
       "2  Predrag.Latinovic@Gmail.Com    Predrag         Latinovic              3   \n",
       "3          Pdorban@Hotmail.Com     Pascal            Dorban              1   \n",
       "\n",
       "     reason  description  \n",
       "0       NaN          NaN  \n",
       "1    NORMAL          NaN  \n",
       "2  NOSIGNUP          NaN  \n",
       "3      SPAM          NaN  "
      ]
     },
     "execution_count": 40,
     "metadata": {},
     "output_type": "execute_result"
    }
   ],
   "source": [
    "df_agg_unsub_rand.head()"
   ]
  },
  {
   "cell_type": "markdown",
   "metadata": {},
   "source": [
    "List of users that have unsubscribed from a campaign"
   ]
  },
  {
   "cell_type": "code",
   "execution_count": 41,
   "metadata": {
    "collapsed": true
   },
   "outputs": [],
   "source": [
    "# Join all the lists together\n",
    "def join_aggregates():\n",
    "    df = {}\n",
    "    df_join = pd.DataFrame()\n",
    "    for i in ['abuse/', 'bounces/', 'click_activity/', 'not_opened/', 'opened/', 'unsub-reasons/']:\n",
    "        df[i] = pd.DataFrame()\n",
    "        counter = 0\n",
    "        for j in [f for f in os.listdir(master_folder + aggregate_activity +  i)]:\n",
    "            temp_df = pd.read_csv(master_folder + aggregate_activity +  i + j)\n",
    "            temp_df['campaign_name'] = j\n",
    "            temp_df['type_aggregate'] = i[:-1]\n",
    "            if counter == 0:\n",
    "                df[i] = temp_df\n",
    "                counter += 1\n",
    "            else:\n",
    "                df[i] = pd.concat([df[i], temp_df])\n",
    "                counter += 1\n",
    "        if counter == 1:\n",
    "            df_join = df[i]\n",
    "        else:\n",
    "            df_join = pd.concat([df_join, df[i]])\n",
    "            \n",
    "    df_join.reset_index(inplace = True)\n",
    "    \n",
    "    df_join['Email Address'] = df_join[['Adresse email','E-mail', 'E-mail*', 'E-mailadres', 'Email', 'Email Address']].fillna('')\\\n",
    "        .apply(lambda x: ''.join(x), axis = 1)\n",
    "    \n",
    "    df_join['Last Name'] = df_join[['Familienaam','Last Name','Last Name.1','Naam', 'Nom']].fillna('')\\\n",
    "    .apply(lambda x: ''.join(x), axis = 1)\n",
    "    \n",
    "    df_join['First Name'] = df_join[['First Name','First Name.1','Voornaam', 'Prénom']].fillna('')\\\n",
    "    .apply(lambda x: ''.join(x), axis = 1)\n",
    "        \n",
    "    df_join.drop(['index', 'Aanspreking', 'Adresse email', 'Automodel', 'Automodel URL',\n",
    "       'Birthdate', 'Brochure', 'Bus', 'Cheque', 'Civilité','Combien de participants',\n",
    "       'Combien de personnes vont participé à ce concours?', 'Country',\n",
    "       'Date de naissance', \"Date de validité de la carte d'identité\",\n",
    "       'E-mail', 'E-mail*', 'E-mailadres', 'Email',\n",
    "       'Email Opt-in',\n",
    "       'GENERATION', 'GENERATION_2','Geldigheidsdatum ID', 'Hoeveel deelnemers gaven het juiste antwoord op he',\n",
    "       'Hoeveel mensen zullen deelnemen aan de wedstrijd?',\n",
    "       'Hoeveel mensen zullen deelnemen aan de wedstrijd?*', 'Huisnummer',\n",
    "       'Identiteitskaartnummer', 'Ik kom:', 'LANGUAGE', 'Land', 'Language',\n",
    "       'Loser', 'MODEL','Model',\n",
    "       'Nieuwsbrief','Nuitée près de Charleroi Airport',\n",
    "       'Nummer', 'Numéro de téléphone', \"N° de carte d'identité\",\n",
    "       'Overnachting Charleroi Airport', 'Phone', 'Postcode',\n",
    "       'Quelle est le terme japonais pour « artisan » ?',\n",
    "       'Question du concours:', 'Reglement', 'STATUS', 'Segment',\n",
    "       'Segment_group', 'Stad', 'Status', 'Straat', 'Taal', 'Telefoon',\n",
    "       'Telefoonnummer', 'Test', 'Title', 'Téléphone', 'Untitled', 'Vegetarisch',\n",
    "       'Végétarien(ne)', 'Wat is het Japanse woord voor ‘ambachtslui’?',\n",
    "       'Wat is het Japanse woord voor ‘ambachtslui’?*', 'Wedstrijd',\n",
    "       'Wedstrijd reglement', 'Wedstrijdvraag:', 'country',\n",
    "       'description', 'geslacht', 'optin', 'reason', 'tiebreaker',\\\n",
    "       'Familienaam','Last Name.1','Naam', 'Nom', 'First Name.1','Voornaam', 'Prénom',\\\n",
    "        'Type', 'Type customer', 'Type of customer', 'Geboortedatum'],\\\n",
    "                 axis = 1, inplace = True)\n",
    "    \n",
    "    return df_join"
   ]
  },
  {
   "cell_type": "code",
   "execution_count": 42,
   "metadata": {
    "collapsed": true
   },
   "outputs": [],
   "source": [
    "aggregates = join_aggregates()"
   ]
  },
  {
   "cell_type": "code",
   "execution_count": 43,
   "metadata": {},
   "outputs": [
    {
     "name": "stdout",
     "output_type": "stream",
     "text": [
      "<class 'pandas.core.frame.DataFrame'>\n",
      "RangeIndex: 357708 entries, 0 to 357707\n",
      "Data columns (total 10 columns):\n",
      "Bounce Type       21798 non-null object\n",
      "Clicks            40952 non-null object\n",
      "Email Address     357708 non-null object\n",
      "First Name        357708 non-null object\n",
      "Gender            67699 non-null object\n",
      "Last Name         357708 non-null object\n",
      "Member Rating     357708 non-null object\n",
      "Opens             146154 non-null object\n",
      "campaign_name     357708 non-null object\n",
      "type_aggregate    357708 non-null object\n",
      "dtypes: object(10)\n",
      "memory usage: 27.3+ MB\n"
     ]
    }
   ],
   "source": [
    "aggregates.info()"
   ]
  },
  {
   "cell_type": "code",
   "execution_count": 44,
   "metadata": {
    "collapsed": true
   },
   "outputs": [],
   "source": [
    "# We will join on the email so we need to make sure the email address column is formatted in the same way\n",
    "aggregates['Email Address'] = aggregates['Email Address'].apply(lambda x: str(x.lower().strip()))\n",
    "aggregates['Email Address'] = aggregates['Email Address'].astype(str)"
   ]
  },
  {
   "cell_type": "code",
   "execution_count": 44,
   "metadata": {},
   "outputs": [
    {
     "data": {
      "text/plain": [
       "182"
      ]
     },
     "execution_count": 44,
     "metadata": {},
     "output_type": "execute_result"
    }
   ],
   "source": [
    "len(list(set(aggregates['campaign_name'])))"
   ]
  },
  {
   "cell_type": "markdown",
   "metadata": {},
   "source": [
    "Fields to be added from aggregate activity:\n",
    "\n",
    "- Total campaigns received \n",
    "\n",
    "\n",
    "- Total campaigns opened once\n",
    "- Total campaigns not opened\n",
    "- Ratio (Total opened once)/(Total campaigns received)\n",
    "\n",
    "\n",
    "- Total abuse\n",
    "- Ratio (Total abuse)/(Total campaigns received) \n",
    "\n",
    "\n",
    "- Total clicks\n",
    "- Ratio (Total clicks)/(Total campaigns opened once)\n",
    "\n",
    "\n",
    "- Total bounces\n",
    "- Ratio (Total bounces)/(Total campaigns received)\n",
    "\n",
    "\n",
    "- Total unsub\n",
    "- Ratio (Total unsub)/(Total campaigns received)"
   ]
  },
  {
   "cell_type": "code",
   "execution_count": 103,
   "metadata": {
    "collapsed": true
   },
   "outputs": [],
   "source": [
    "# Aggregate data per user\n",
    "Total_email_received = pd.DataFrame(aggregates.groupby(['Email Address', 'campaign_name'])\\\n",
    "                                    ['campaign_name'].nunique())\n",
    "Total_email_received['count'] = Total_email_received['campaign_name']\n",
    "Total_email_received.drop('campaign_name', axis = 1, inplace = True)\n",
    "Total_email_received = pd.DataFrame(Total_email_received.reset_index().groupby('Email Address')['count'].sum())\n",
    "\n",
    "opened_once = pd.DataFrame(aggregates[(aggregates['type_aggregate'] == 'opened')].\\\n",
    "            groupby('Email Address')['campaign_name'].count())\n",
    "opened_multi = pd.DataFrame(aggregates[(aggregates['type_aggregate'] == 'opened')].\\\n",
    "            groupby('Email Address')['Opens'].sum()) \n",
    "not_opened = pd.DataFrame(aggregates[aggregates['type_aggregate'] == 'not_opened'].\\\n",
    "            groupby('Email Address')['campaign_name'].count())\n",
    "abuse = pd.DataFrame(aggregates[(aggregates['type_aggregate'] == 'abuse')].\\\n",
    "            groupby('Email Address')['campaign_name'].count())\n",
    "clicks = pd.DataFrame(aggregates[(aggregates['type_aggregate'] == 'click_activity')].\\\n",
    "            groupby('Email Address')['Clicks'].sum())\n",
    "bounces = pd.DataFrame(aggregates[(aggregates['type_aggregate'] == 'bounces')].\\\n",
    "            groupby('Email Address')['Bounce Type'].count())\n",
    "unsub = pd.DataFrame(aggregates[(aggregates['type_aggregate'] == 'unsub-reasons')].\\\n",
    "            groupby('Email Address')['Last Name'].count())\n",
    "Member_Rating = pd.DataFrame(aggregates.groupby('Email Address')['Member Rating'].last())"
   ]
  },
  {
   "cell_type": "code",
   "execution_count": 104,
   "metadata": {
    "collapsed": true
   },
   "outputs": [],
   "source": [
    "# Create new columns in the mazda dataset for customers\n",
    "df_cust_data['Chimp_Total_Emails'] = df_cust_data[['Email Address']].\\\n",
    "    merge(Total_email_received, how = 'left', left_on = 'Email Address', right_index = True)['count']\n",
    "df_cust_data['Chimp_opened_once'] = df_cust_data[['Email Address']].\\\n",
    "    merge(opened_once, how = 'left', left_on = 'Email Address', right_index = True)['campaign_name']\n",
    "df_cust_data['Chimp_opened_multi'] = df_cust_data[['Email Address']].\\\n",
    "    merge(opened_multi, how = 'left', left_on = 'Email Address', right_index = True)['Opens']\n",
    "df_cust_data['Chimp_not_opened'] = df_cust_data[['Email Address']].\\\n",
    "    merge(not_opened, how = 'left', left_on = 'Email Address', right_index = True)['campaign_name']\n",
    "df_cust_data['Chimp_abuse'] = df_cust_data[['Email Address']].\\\n",
    "    merge(abuse, how = 'left', left_on = 'Email Address', right_index = True)['campaign_name'] \n",
    "df_cust_data['Chimp_clicks'] = df_cust_data[['Email Address']].\\\n",
    "    merge(clicks, how = 'left', left_on = 'Email Address', right_index = True)['Clicks'] \n",
    "df_cust_data['Chimp_bounces'] = df_cust_data[['Email Address']].\\\n",
    "    merge(bounces, how = 'left', left_on = 'Email Address', right_index = True)['Bounce Type'] \n",
    "df_cust_data['Chimp_unsub'] = df_cust_data[['Email Address']].\\\n",
    "    merge(unsub, how = 'left', left_on = 'Email Address', right_index = True)['Last Name'] \n",
    "df_cust_data['Chimp_member_rating'] = df_cust_data[['Email Address']].\\\n",
    "    merge(Member_Rating, how = 'left', left_on = 'Email Address', right_index = True)['Member Rating']\n",
    "\n",
    "# Create new columns in the mazda dataset for prospects\n",
    "df_prospects_data['Chimp_Total_Emails'] = df_prospects_data[['Email Address']].\\\n",
    "    merge(Total_email_received, how = 'left', left_on = 'Email Address', right_index = True)['count']\n",
    "df_prospects_data['Chimp_opened_once'] = df_prospects_data[['Email Address']].\\\n",
    "    merge(opened_once, how = 'left', left_on = 'Email Address', right_index = True)['campaign_name']\n",
    "df_prospects_data['Chimp_opened_multi'] = df_prospects_data[['Email Address']].\\\n",
    "    merge(opened_multi, how = 'left', left_on = 'Email Address', right_index = True)['Opens']\n",
    "df_prospects_data['Chimp_not_opened'] = df_prospects_data[['Email Address']].\\\n",
    "    merge(not_opened, how = 'left', left_on = 'Email Address', right_index = True)['campaign_name']\n",
    "df_prospects_data['Chimp_abuse'] = df_prospects_data[['Email Address']].\\\n",
    "    merge(abuse, how = 'left', left_on = 'Email Address', right_index = True)['campaign_name'] \n",
    "df_prospects_data['Chimp_clicks'] = df_prospects_data[['Email Address']].\\\n",
    "    merge(clicks, how = 'left', left_on = 'Email Address', right_index = True)['Clicks'] \n",
    "df_prospects_data['Chimp_bounces'] = df_prospects_data[['Email Address']].\\\n",
    "    merge(bounces, how = 'left', left_on = 'Email Address', right_index = True)['Bounce Type'] \n",
    "df_prospects_data['Chimp_unsub'] = df_prospects_data[['Email Address']].\\\n",
    "    merge(unsub, how = 'left', left_on = 'Email Address', right_index = True)['Last Name'] \n",
    "df_prospects_data['Chimp_member_rating'] = df_prospects_data[['Email Address']].\\\n",
    "    merge(Member_Rating, how = 'left', left_on = 'Email Address', right_index = True)['Member Rating']"
   ]
  },
  {
   "cell_type": "code",
   "execution_count": 108,
   "metadata": {
    "collapsed": true,
    "scrolled": true
   },
   "outputs": [],
   "source": [
    "df_cust_data[['Email Address','Chimp_Total_Emails','Chimp_opened_once','Chimp_opened_multi','Chimp_not_opened',\\\n",
    "                  'Chimp_abuse', 'Chimp_clicks', 'Chimp_bounces', 'Chimp_unsub', 'Chimp_member_rating']].\\\n",
    "            to_csv('chimp_global_cust')\n",
    "\n",
    "df_prospects_data[['Email Address','Chimp_Total_Emails','Chimp_opened_once','Chimp_opened_multi','Chimp_not_opened',\\\n",
    "                  'Chimp_abuse', 'Chimp_clicks', 'Chimp_bounces', 'Chimp_unsub', 'Chimp_member_rating']].\\\n",
    "            to_csv('chimp_global_prosp')"
   ]
  },
  {
   "cell_type": "markdown",
   "metadata": {},
   "source": [
    "## Creation of two cross-tables of emails (rows) per campaigns(columns)"
   ]
  },
  {
   "cell_type": "code",
   "execution_count": 109,
   "metadata": {
    "collapsed": true
   },
   "outputs": [],
   "source": [
    "# New Table with all email users as rows and email campaign as columns for customers dataset\n",
    "df_one_hot_campaign_cust = pd.DataFrame(columns = list(set(aggregates['campaign_name'])),\\\n",
    "                                   index = df_cust_data['Email Address'])\n",
    "\n",
    "# New Table with all email users as rows and email campaign as columns for prospects dataset\n",
    "df_one_hot_campaign_prosp = pd.DataFrame(columns = list(set(aggregates['campaign_name'])),\\\n",
    "                                   index = df_prospects_data['Email Address'])\n",
    "\n",
    "# Fill the above tables with the following formula. For each match of user with a campaign, it will be:\n",
    "# ---> opens + 2 * Clicks\n",
    "for i in  list(set(aggregates['campaign_name'])): \n",
    "    \n",
    "    temp_df = pd.DataFrame(aggregates[(aggregates['campaign_name']== i)])\\\n",
    "            .groupby('Email Address')[['Opens','Clicks']].sum()\n",
    "    temp_df.fillna(0, inplace = True)\n",
    "    temp_df[\"temp_sum\"] = temp_df['Opens'] + temp_df['Clicks'] * 2\n",
    "    temp_df = pd.DataFrame(temp_df[\"temp_sum\"])\n",
    "    \n",
    "    df_one_hot_campaign_cust = df_one_hot_campaign_cust.merge(temp_df, how = 'left', left_index = True, right_index = True)\n",
    "\n",
    "    # replace the new column with the one referring to the campaign, replace NA with 0 (user has not received the\n",
    "    # the campaign) and remove the new column from the merge.\n",
    "    df_one_hot_campaign_cust[i] = df_one_hot_campaign_cust['temp_sum']\n",
    "    df_one_hot_campaign_cust[i].fillna(0, inplace = True)\n",
    "    df_one_hot_campaign_cust = df_one_hot_campaign_cust.iloc[:,:len(list(set(aggregates['campaign_name'])))]\n",
    "\n",
    "    df_one_hot_campaign_prosp = df_one_hot_campaign_prosp.merge(temp_df, how = 'left', left_index = True, right_index = True)\n",
    "\n",
    "    # replace the new column with the one referring to the campaign, replace NA with 0 (user has not received the\n",
    "    # the campaign) and remove the new column from the merge.\n",
    "    df_one_hot_campaign_prosp[i] = df_one_hot_campaign_prosp['temp_sum']\n",
    "    df_one_hot_campaign_prosp[i].fillna(0, inplace = True)\n",
    "    df_one_hot_campaign_prosp = df_one_hot_campaign_prosp.iloc[:,:len(list(set(aggregates['campaign_name'])))]"
   ]
  },
  {
   "cell_type": "markdown",
   "metadata": {},
   "source": [
    "## Topic Modelling"
   ]
  },
  {
   "cell_type": "code",
   "execution_count": 110,
   "metadata": {
    "collapsed": true
   },
   "outputs": [],
   "source": [
    "# Load the list of topics created manually\n",
    "df = pd.read_excel(\"mails taggen.xlsx\")"
   ]
  },
  {
   "cell_type": "code",
   "execution_count": 111,
   "metadata": {
    "collapsed": true
   },
   "outputs": [],
   "source": [
    "# Select only the columns with the tags and put them in the 'tags' dataframe\n",
    "tags = df.loc[:, 'tags --> ...':].apply(lambda x: x.dropna().tolist(), axis=1)\n",
    "# Select the other columns and put them in the 'df' dataframe\n",
    "df = df.drop(df.columns.to_series()['tags --> ...':], axis=1)\n",
    "# format the tags (remove whitespace and insert underscore instead of white spaces)\n",
    "tags = tags.apply(lambda x: list(map(lambda y: '_'.join(y.lower().strip().split()), x)))\n",
    "# insert the tags into the df dataframe\n",
    "df['tags'] = tags"
   ]
  },
  {
   "cell_type": "code",
   "execution_count": 112,
   "metadata": {},
   "outputs": [
    {
     "name": "stdout",
     "output_type": "stream",
     "text": [
      "topics updated and sorted\n"
     ]
    }
   ],
   "source": [
    "# Create a set with the list of all unique tags\n",
    "topics = set()\n",
    "df['tags'].apply(lambda x: topics.update(x))\n",
    "topics = tuple(topics)\n",
    "topics = sorted(topics)\n",
    "print('topics updated and sorted')"
   ]
  },
  {
   "cell_type": "code",
   "execution_count": 113,
   "metadata": {
    "collapsed": true
   },
   "outputs": [],
   "source": [
    "# Create a column for each topic in the df dataframe\n",
    "for t in topics:\n",
    "    df[t] = False"
   ]
  },
  {
   "cell_type": "code",
   "execution_count": 114,
   "metadata": {
    "collapsed": true
   },
   "outputs": [],
   "source": [
    "# Insert 1 or 0 if the topics appear in the campaign\n",
    "df.loc[:, topics[0]:topics[-1]] = df.apply(lambda x: \\\n",
    "                                           pd.Series([t in x['tags'] for t in topics], index=topics), axis=1)"
   ]
  },
  {
   "cell_type": "code",
   "execution_count": 115,
   "metadata": {
    "collapsed": true
   },
   "outputs": [],
   "source": [
    "# Remove the \".csv\" from the file name\n",
    "df[\"mail ID\"] = df[\"mail ID\"].apply(lambda x: x.split('.')[0])\n",
    "# Set the index as the 'mail ID'\n",
    "df = df.set_index(\"mail ID\")"
   ]
  },
  {
   "cell_type": "code",
   "execution_count": 116,
   "metadata": {
    "collapsed": true
   },
   "outputs": [],
   "source": [
    "def sumTopics(newsletters):\n",
    "    topics_opened = [0] * len(topics)\n",
    "    for newsletter in newsletters:\n",
    "        index = newsletter.split('.')[0]\n",
    "        try:\n",
    "            topics_opened += df.loc[index, topics[0]:topics[-1]].apply(int)\n",
    "        except:\n",
    "            print(\"the newsletter {} does not exist, it has been skipped\".format(index))\n",
    "    return pd.Series(topics_opened, index=topics)"
   ]
  },
  {
   "cell_type": "code",
   "execution_count": 117,
   "metadata": {
    "collapsed": true
   },
   "outputs": [],
   "source": [
    "def getNewsletterList(newsletters_is_received):\n",
    "    return newsletters_is_received[newsletters_is_received==1].index"
   ]
  },
  {
   "cell_type": "code",
   "execution_count": 118,
   "metadata": {
    "collapsed": true
   },
   "outputs": [],
   "source": [
    "def getTopics(row):\n",
    "    newsletters = getNewsletterList(row)\n",
    "    return sumTopics(newsletters)"
   ]
  },
  {
   "cell_type": "code",
   "execution_count": 119,
   "metadata": {
    "collapsed": true
   },
   "outputs": [],
   "source": [
    "def parseAndComputeTopics(df):\n",
    "    res_df = pd.DataFrame(index=df.index, columns=topics)\n",
    "    res_df.loc[:, topics[0]:topics[-1]] = df.apply(getTopics, axis=1)\n",
    "    return res_df"
   ]
  },
  {
   "cell_type": "code",
   "execution_count": 120,
   "metadata": {
    "collapsed": true
   },
   "outputs": [],
   "source": [
    "new_cols_cust = parseAndComputeTopics(df_one_hot_campaign_cust)\n",
    "new_cols_prosp = parseAndComputeTopics(df_one_hot_campaign_prosp)"
   ]
  },
  {
   "cell_type": "code",
   "execution_count": 121,
   "metadata": {
    "collapsed": true
   },
   "outputs": [],
   "source": [
    "new_cols_cust.to_csv('tags_cust_proc')\n",
    "new_cols_prosp.to_csv('tags_prosp_proc')"
   ]
  },
  {
   "cell_type": "markdown",
   "metadata": {},
   "source": [
    "### Need to exclude emails that were receveied after the purchase date of the car"
   ]
  },
  {
   "cell_type": "code",
   "execution_count": 236,
   "metadata": {
    "collapsed": true
   },
   "outputs": [],
   "source": [
    "df_campaigns['Send Date'] = pd.to_datetime(df_campaigns['Send Date'])"
   ]
  },
  {
   "cell_type": "code",
   "execution_count": 244,
   "metadata": {},
   "outputs": [
    {
     "data": {
      "text/plain": [
       "Timestamp('2018-01-12 18:51:00')"
      ]
     },
     "execution_count": 244,
     "metadata": {},
     "output_type": "execute_result"
    }
   ],
   "source": [
    "df_campaigns['Send Date'][0]"
   ]
  },
  {
   "cell_type": "code",
   "execution_count": 286,
   "metadata": {
    "collapsed": true
   },
   "outputs": [],
   "source": [
    "df_cust_data['Registration Date'] = pd.to_datetime(df_cust_data['Registration Date'])"
   ]
  },
  {
   "cell_type": "code",
   "execution_count": 287,
   "metadata": {
    "collapsed": true
   },
   "outputs": [],
   "source": [
    "df_cust_data['Registration Date'] = df_cust_data['Registration Date'].as_matrix()"
   ]
  },
  {
   "cell_type": "code",
   "execution_count": 377,
   "metadata": {
    "collapsed": true
   },
   "outputs": [],
   "source": [
    "#function to find the row in the campaign master file based on name of individual files in other folder\n",
    "\n",
    "def format_cust_campaign(x):\n",
    "    file = re.split(\"[_\\-.]\",x.lower())\n",
    "    file = file[1:-1]\n",
    "    \n",
    "    return file"
   ]
  },
  {
   "cell_type": "code",
   "execution_count": 379,
   "metadata": {
    "collapsed": true
   },
   "outputs": [],
   "source": [
    "test = pd.Series(list(set(aggregates['campaign_name']))).apply(lambda x: format_cust_campaign(x))"
   ]
  },
  {
   "cell_type": "code",
   "execution_count": 385,
   "metadata": {
    "collapsed": true
   },
   "outputs": [],
   "source": [
    "arg = []\n",
    "for i in test:\n",
    "    argmax = df_campaigns['Title'].apply(lambda x: \\\n",
    "                                         len(list(set(re.split(\"[ _\\-.]\",x.lower())).intersection(i)))).argmax()\n",
    "    arg.append(argmax)"
   ]
  },
  {
   "cell_type": "code",
   "execution_count": 393,
   "metadata": {},
   "outputs": [
    {
     "data": {
      "text/plain": [
       "'Nieuwsbrief Mei Prospect + Customer >3y LUXFR (copy 02)'"
      ]
     },
     "execution_count": 393,
     "metadata": {},
     "output_type": "execute_result"
    }
   ],
   "source": [
    "df_campaigns['Title'][32]"
   ]
  },
  {
   "cell_type": "code",
   "execution_count": null,
   "metadata": {
    "collapsed": true
   },
   "outputs": [],
   "source": []
  }
 ],
 "metadata": {
  "kernelspec": {
   "display_name": "Python 3",
   "language": "python",
   "name": "python3"
  },
  "language_info": {
   "codemirror_mode": {
    "name": "ipython",
    "version": 3
   },
   "file_extension": ".py",
   "mimetype": "text/x-python",
   "name": "python",
   "nbconvert_exporter": "python",
   "pygments_lexer": "ipython3",
   "version": "3.6.3"
  }
 },
 "nbformat": 4,
 "nbformat_minor": 2
}
