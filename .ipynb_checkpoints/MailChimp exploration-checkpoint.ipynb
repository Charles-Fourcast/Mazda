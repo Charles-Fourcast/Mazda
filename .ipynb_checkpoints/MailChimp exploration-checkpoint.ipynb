{
 "cells": [
  {
   "cell_type": "code",
   "execution_count": 2,
   "metadata": {
    "collapsed": true
   },
   "outputs": [],
   "source": [
    "import numpy as np\n",
    "import pandas as pd"
   ]
  },
  {
   "cell_type": "code",
   "execution_count": 3,
   "metadata": {
    "collapsed": true
   },
   "outputs": [],
   "source": [
    "master_folder = \"/home/charly/Desktop/mazda/MailChimp/\"\n",
    "lists = \"lists/\"\n",
    "granular_activity = \"granular_activity/\"\n",
    "geo_data = \"geo_data/\"\n",
    "campaigns_content = \"campaigns_content/\"\n",
    "aggregate_activity = \"aggregate_activity/\"\n",
    "campaigns = \"campaigns.csv\""
   ]
  },
  {
   "cell_type": "code",
   "execution_count": 4,
   "metadata": {
    "collapsed": true
   },
   "outputs": [],
   "source": [
    "# Functions to count the number of files per folder\n",
    "import os, os.path\n",
    "def filecount(dir_name):\n",
    "    return len([f for f in os.listdir(dir_name) if os.path.isfile(dir_name +f)])"
   ]
  },
  {
   "cell_type": "markdown",
   "metadata": {},
   "source": [
    "## Campaign Master File"
   ]
  },
  {
   "cell_type": "code",
   "execution_count": 5,
   "metadata": {
    "collapsed": true
   },
   "outputs": [],
   "source": [
    "df_campaigns = pd.read_csv(master_folder + campaigns)"
   ]
  },
  {
   "cell_type": "code",
   "execution_count": 6,
   "metadata": {
    "collapsed": true
   },
   "outputs": [],
   "source": [
    "# Transform percentage into float\n",
    "df_campaigns['Open Rate'] = df_campaigns['Open Rate'].apply(lambda x: x[:-1]).astype('float')\n",
    "df_campaigns['Click Rate'] = df_campaigns['Click Rate'].apply(lambda x: x[:-1]).astype('float')"
   ]
  },
  {
   "cell_type": "code",
   "execution_count": 7,
   "metadata": {},
   "outputs": [
    {
     "data": {
      "text/plain": [
       "True"
      ]
     },
     "execution_count": 7,
     "metadata": {},
     "output_type": "execute_result"
    }
   ],
   "source": [
    "len(df_campaigns['Title']) == len(set(df_campaigns['Title']))"
   ]
  },
  {
   "cell_type": "code",
   "execution_count": 8,
   "metadata": {},
   "outputs": [
    {
     "data": {
      "text/html": [
       "<div>\n",
       "<style>\n",
       "    .dataframe thead tr:only-child th {\n",
       "        text-align: right;\n",
       "    }\n",
       "\n",
       "    .dataframe thead th {\n",
       "        text-align: left;\n",
       "    }\n",
       "\n",
       "    .dataframe tbody tr th {\n",
       "        vertical-align: top;\n",
       "    }\n",
       "</style>\n",
       "<table border=\"1\" class=\"dataframe\">\n",
       "  <thead>\n",
       "    <tr style=\"text-align: right;\">\n",
       "      <th></th>\n",
       "      <th>Total Recipients</th>\n",
       "      <th>Successful Deliveries</th>\n",
       "      <th>Soft Bounces</th>\n",
       "      <th>Hard Bounces</th>\n",
       "      <th>Total Bounces</th>\n",
       "      <th>Times Forwarded</th>\n",
       "      <th>Forwarded Opens</th>\n",
       "      <th>Unique Opens</th>\n",
       "      <th>Open Rate</th>\n",
       "      <th>Total Opens</th>\n",
       "      <th>Unique Clicks</th>\n",
       "      <th>Click Rate</th>\n",
       "      <th>Total Clicks</th>\n",
       "      <th>Unsubscribes</th>\n",
       "      <th>Abuse Complaints</th>\n",
       "      <th>Times Liked on Facebook</th>\n",
       "      <th>Folder Id</th>\n",
       "    </tr>\n",
       "  </thead>\n",
       "  <tbody>\n",
       "    <tr>\n",
       "      <th>count</th>\n",
       "      <td>184.000000</td>\n",
       "      <td>184.000000</td>\n",
       "      <td>184.000000</td>\n",
       "      <td>184.000000</td>\n",
       "      <td>184.000000</td>\n",
       "      <td>184.0</td>\n",
       "      <td>184.0</td>\n",
       "      <td>184.000000</td>\n",
       "      <td>184.000000</td>\n",
       "      <td>184.000000</td>\n",
       "      <td>184.000000</td>\n",
       "      <td>184.000000</td>\n",
       "      <td>184.000000</td>\n",
       "      <td>184.000000</td>\n",
       "      <td>184.000000</td>\n",
       "      <td>184.000000</td>\n",
       "      <td>184.000000</td>\n",
       "    </tr>\n",
       "    <tr>\n",
       "      <th>mean</th>\n",
       "      <td>72235.326087</td>\n",
       "      <td>70919.418478</td>\n",
       "      <td>605.679348</td>\n",
       "      <td>710.228261</td>\n",
       "      <td>1315.907609</td>\n",
       "      <td>0.0</td>\n",
       "      <td>0.0</td>\n",
       "      <td>13990.586957</td>\n",
       "      <td>42.511141</td>\n",
       "      <td>24338.831522</td>\n",
       "      <td>2335.875000</td>\n",
       "      <td>13.560598</td>\n",
       "      <td>2180.429348</td>\n",
       "      <td>119.956522</td>\n",
       "      <td>20.097826</td>\n",
       "      <td>0.021739</td>\n",
       "      <td>2.858696</td>\n",
       "    </tr>\n",
       "    <tr>\n",
       "      <th>std</th>\n",
       "      <td>141367.927913</td>\n",
       "      <td>139161.318275</td>\n",
       "      <td>1275.311573</td>\n",
       "      <td>2673.598965</td>\n",
       "      <td>3525.799065</td>\n",
       "      <td>0.0</td>\n",
       "      <td>0.0</td>\n",
       "      <td>27428.536117</td>\n",
       "      <td>22.682958</td>\n",
       "      <td>49206.857928</td>\n",
       "      <td>4419.901714</td>\n",
       "      <td>20.171124</td>\n",
       "      <td>4321.360968</td>\n",
       "      <td>381.131216</td>\n",
       "      <td>84.325684</td>\n",
       "      <td>0.146228</td>\n",
       "      <td>3.484804</td>\n",
       "    </tr>\n",
       "    <tr>\n",
       "      <th>min</th>\n",
       "      <td>1.000000</td>\n",
       "      <td>1.000000</td>\n",
       "      <td>0.000000</td>\n",
       "      <td>0.000000</td>\n",
       "      <td>0.000000</td>\n",
       "      <td>0.0</td>\n",
       "      <td>0.0</td>\n",
       "      <td>1.000000</td>\n",
       "      <td>3.500000</td>\n",
       "      <td>1.000000</td>\n",
       "      <td>0.000000</td>\n",
       "      <td>0.000000</td>\n",
       "      <td>0.000000</td>\n",
       "      <td>0.000000</td>\n",
       "      <td>0.000000</td>\n",
       "      <td>0.000000</td>\n",
       "      <td>0.000000</td>\n",
       "    </tr>\n",
       "    <tr>\n",
       "      <th>25%</th>\n",
       "      <td>234.500000</td>\n",
       "      <td>224.250000</td>\n",
       "      <td>0.750000</td>\n",
       "      <td>0.000000</td>\n",
       "      <td>1.000000</td>\n",
       "      <td>0.0</td>\n",
       "      <td>0.0</td>\n",
       "      <td>135.000000</td>\n",
       "      <td>24.552500</td>\n",
       "      <td>378.250000</td>\n",
       "      <td>22.500000</td>\n",
       "      <td>3.137500</td>\n",
       "      <td>22.000000</td>\n",
       "      <td>0.000000</td>\n",
       "      <td>0.000000</td>\n",
       "      <td>0.000000</td>\n",
       "      <td>0.000000</td>\n",
       "    </tr>\n",
       "    <tr>\n",
       "      <th>50%</th>\n",
       "      <td>3978.500000</td>\n",
       "      <td>3769.000000</td>\n",
       "      <td>19.000000</td>\n",
       "      <td>18.000000</td>\n",
       "      <td>44.000000</td>\n",
       "      <td>0.0</td>\n",
       "      <td>0.0</td>\n",
       "      <td>1244.000000</td>\n",
       "      <td>38.470000</td>\n",
       "      <td>2305.500000</td>\n",
       "      <td>216.000000</td>\n",
       "      <td>5.360000</td>\n",
       "      <td>210.000000</td>\n",
       "      <td>4.500000</td>\n",
       "      <td>0.000000</td>\n",
       "      <td>0.000000</td>\n",
       "      <td>1.000000</td>\n",
       "    </tr>\n",
       "    <tr>\n",
       "      <th>75%</th>\n",
       "      <td>66403.500000</td>\n",
       "      <td>66033.000000</td>\n",
       "      <td>317.000000</td>\n",
       "      <td>223.500000</td>\n",
       "      <td>1018.750000</td>\n",
       "      <td>0.0</td>\n",
       "      <td>0.0</td>\n",
       "      <td>16598.250000</td>\n",
       "      <td>59.200000</td>\n",
       "      <td>27282.000000</td>\n",
       "      <td>2524.500000</td>\n",
       "      <td>11.510000</td>\n",
       "      <td>1082.250000</td>\n",
       "      <td>84.500000</td>\n",
       "      <td>8.000000</td>\n",
       "      <td>0.000000</td>\n",
       "      <td>5.000000</td>\n",
       "    </tr>\n",
       "    <tr>\n",
       "      <th>max</th>\n",
       "      <td>729617.000000</td>\n",
       "      <td>713553.000000</td>\n",
       "      <td>6334.000000</td>\n",
       "      <td>28820.000000</td>\n",
       "      <td>32627.000000</td>\n",
       "      <td>0.0</td>\n",
       "      <td>0.0</td>\n",
       "      <td>204077.000000</td>\n",
       "      <td>100.000000</td>\n",
       "      <td>418605.000000</td>\n",
       "      <td>22739.000000</td>\n",
       "      <td>100.000000</td>\n",
       "      <td>26915.000000</td>\n",
       "      <td>4326.000000</td>\n",
       "      <td>889.000000</td>\n",
       "      <td>1.000000</td>\n",
       "      <td>13.000000</td>\n",
       "    </tr>\n",
       "  </tbody>\n",
       "</table>\n",
       "</div>"
      ],
      "text/plain": [
       "       Total Recipients  Successful Deliveries  Soft Bounces  Hard Bounces  \\\n",
       "count        184.000000             184.000000    184.000000    184.000000   \n",
       "mean       72235.326087           70919.418478    605.679348    710.228261   \n",
       "std       141367.927913          139161.318275   1275.311573   2673.598965   \n",
       "min            1.000000               1.000000      0.000000      0.000000   \n",
       "25%          234.500000             224.250000      0.750000      0.000000   \n",
       "50%         3978.500000            3769.000000     19.000000     18.000000   \n",
       "75%        66403.500000           66033.000000    317.000000    223.500000   \n",
       "max       729617.000000          713553.000000   6334.000000  28820.000000   \n",
       "\n",
       "       Total Bounces  Times Forwarded  Forwarded Opens   Unique Opens  \\\n",
       "count     184.000000            184.0            184.0     184.000000   \n",
       "mean     1315.907609              0.0              0.0   13990.586957   \n",
       "std      3525.799065              0.0              0.0   27428.536117   \n",
       "min         0.000000              0.0              0.0       1.000000   \n",
       "25%         1.000000              0.0              0.0     135.000000   \n",
       "50%        44.000000              0.0              0.0    1244.000000   \n",
       "75%      1018.750000              0.0              0.0   16598.250000   \n",
       "max     32627.000000              0.0              0.0  204077.000000   \n",
       "\n",
       "        Open Rate    Total Opens  Unique Clicks  Click Rate  Total Clicks  \\\n",
       "count  184.000000     184.000000     184.000000  184.000000    184.000000   \n",
       "mean    42.511141   24338.831522    2335.875000   13.560598   2180.429348   \n",
       "std     22.682958   49206.857928    4419.901714   20.171124   4321.360968   \n",
       "min      3.500000       1.000000       0.000000    0.000000      0.000000   \n",
       "25%     24.552500     378.250000      22.500000    3.137500     22.000000   \n",
       "50%     38.470000    2305.500000     216.000000    5.360000    210.000000   \n",
       "75%     59.200000   27282.000000    2524.500000   11.510000   1082.250000   \n",
       "max    100.000000  418605.000000   22739.000000  100.000000  26915.000000   \n",
       "\n",
       "       Unsubscribes  Abuse Complaints  Times Liked on Facebook   Folder Id  \n",
       "count    184.000000        184.000000               184.000000  184.000000  \n",
       "mean     119.956522         20.097826                 0.021739    2.858696  \n",
       "std      381.131216         84.325684                 0.146228    3.484804  \n",
       "min        0.000000          0.000000                 0.000000    0.000000  \n",
       "25%        0.000000          0.000000                 0.000000    0.000000  \n",
       "50%        4.500000          0.000000                 0.000000    1.000000  \n",
       "75%       84.500000          8.000000                 0.000000    5.000000  \n",
       "max     4326.000000        889.000000                 1.000000   13.000000  "
      ]
     },
     "execution_count": 8,
     "metadata": {},
     "output_type": "execute_result"
    }
   ],
   "source": [
    "df_campaigns.describe()"
   ]
  },
  {
   "cell_type": "code",
   "execution_count": 9,
   "metadata": {},
   "outputs": [
    {
     "name": "stdout",
     "output_type": "stream",
     "text": [
      "<class 'pandas.core.frame.DataFrame'>\n",
      "RangeIndex: 184 entries, 0 to 183\n",
      "Data columns (total 23 columns):\n",
      "Title                      184 non-null object\n",
      "Subject                    172 non-null object\n",
      "List                       184 non-null object\n",
      "Send Date                  184 non-null object\n",
      "Send Weekday               184 non-null object\n",
      "Total Recipients           184 non-null int64\n",
      "Successful Deliveries      184 non-null int64\n",
      "Soft Bounces               184 non-null int64\n",
      "Hard Bounces               184 non-null int64\n",
      "Total Bounces              184 non-null int64\n",
      "Times Forwarded            184 non-null int64\n",
      "Forwarded Opens            184 non-null int64\n",
      "Unique Opens               184 non-null int64\n",
      "Open Rate                  184 non-null float64\n",
      "Total Opens                184 non-null int64\n",
      "Unique Clicks              184 non-null int64\n",
      "Click Rate                 184 non-null float64\n",
      "Total Clicks               184 non-null int64\n",
      "Unsubscribes               184 non-null int64\n",
      "Abuse Complaints           184 non-null int64\n",
      "Times Liked on Facebook    184 non-null int64\n",
      "Folder Id                  184 non-null int64\n",
      "Unique Id                  184 non-null object\n",
      "dtypes: float64(2), int64(15), object(6)\n",
      "memory usage: 33.1+ KB\n"
     ]
    }
   ],
   "source": [
    "df_campaigns.info()"
   ]
  },
  {
   "cell_type": "markdown",
   "metadata": {},
   "source": [
    "**Columns explanation:**\n",
    "- Title: Title of the campaign\n",
    "- Subject: Subject of the campaign\n",
    "- List: Family of the campaign\n",
    "- Total Recipients - Successful Deliveries = Total Bounces\n",
    "- Soft Bounces: typically indicate a temporary delivery issue to an address \n",
    "- Hard Bounces: indicates a permanent reason an email cannot be delivere\n",
    "- Times Forwarded: Number of times the campaign was forwarded\n",
    "- Unique Opens: Number of times the campaign was opened (if a user opens two times the campaign, counts only as one)\n",
    "- Open Rate = Unique_Opens / Successfull_Deliveries\n",
    "- Total Opens: Total number of times the campaign was opened by recipients. This count includes multiple opens from individual recipients.\n",
    "- Unique Clicks: Number of clicks (if a user clicks two times, counts only as one)\n",
    "- Click Rate: Unique_Clicks / Successfull_Deliveries\n",
    "- Total Clicks: Total number of times tracked links were clicked by recipients. This count includes multiple clicks from individual recipients\n",
    "- Unsubscribes: Number of subscribers that opted out of your list using the unsubscribe link in this campaign.\n",
    "- Abuse Complaints: Number of recipients that reported your email as spam. Subscribers that report a campaign as spam are automatically unsubscribed from your list.\n",
    "- Folder Id: ?\n",
    "- Unique Id: should be the foreign key to other files. Not the case for the moment."
   ]
  },
  {
   "cell_type": "code",
   "execution_count": 10,
   "metadata": {},
   "outputs": [
    {
     "data": {
      "text/html": [
       "<div>\n",
       "<style>\n",
       "    .dataframe thead tr:only-child th {\n",
       "        text-align: right;\n",
       "    }\n",
       "\n",
       "    .dataframe thead th {\n",
       "        text-align: left;\n",
       "    }\n",
       "\n",
       "    .dataframe tbody tr th {\n",
       "        vertical-align: top;\n",
       "    }\n",
       "</style>\n",
       "<table border=\"1\" class=\"dataframe\">\n",
       "  <thead>\n",
       "    <tr style=\"text-align: right;\">\n",
       "      <th></th>\n",
       "      <th>Title</th>\n",
       "      <th>Subject</th>\n",
       "      <th>List</th>\n",
       "      <th>Send Date</th>\n",
       "      <th>Send Weekday</th>\n",
       "      <th>Total Recipients</th>\n",
       "      <th>Successful Deliveries</th>\n",
       "      <th>Soft Bounces</th>\n",
       "      <th>Hard Bounces</th>\n",
       "      <th>Total Bounces</th>\n",
       "      <th>...</th>\n",
       "      <th>Open Rate</th>\n",
       "      <th>Total Opens</th>\n",
       "      <th>Unique Clicks</th>\n",
       "      <th>Click Rate</th>\n",
       "      <th>Total Clicks</th>\n",
       "      <th>Unsubscribes</th>\n",
       "      <th>Abuse Complaints</th>\n",
       "      <th>Times Liked on Facebook</th>\n",
       "      <th>Folder Id</th>\n",
       "      <th>Unique Id</th>\n",
       "    </tr>\n",
       "  </thead>\n",
       "  <tbody>\n",
       "    <tr>\n",
       "      <th>0</th>\n",
       "      <td>PIONEER DJ - PDJCGEN7T106 - rekordbox Lighting...</td>\n",
       "      <td>Lighting mode is live on rekordbox dj!</td>\n",
       "      <td>Pioneer DJ Email Subscriptions</td>\n",
       "      <td>Feb 20, 2018 10:01 am</td>\n",
       "      <td>Tuesday</td>\n",
       "      <td>519913</td>\n",
       "      <td>513675</td>\n",
       "      <td>2476</td>\n",
       "      <td>3762</td>\n",
       "      <td>6238</td>\n",
       "      <td>...</td>\n",
       "      <td>3.50</td>\n",
       "      <td>22924</td>\n",
       "      <td>2598</td>\n",
       "      <td>0.51</td>\n",
       "      <td>3095</td>\n",
       "      <td>110</td>\n",
       "      <td>294</td>\n",
       "      <td>0</td>\n",
       "      <td>0</td>\n",
       "      <td>fb07c19c1b</td>\n",
       "    </tr>\n",
       "    <tr>\n",
       "      <th>1</th>\n",
       "      <td>PIONEER DJ - PDJCGEN7T106 - rekordbox Lighting...</td>\n",
       "      <td>¡El modo Lighting  ya está en rekordbox dj!</td>\n",
       "      <td>Pioneer DJ Email Subscriptions</td>\n",
       "      <td>Feb 20, 2018 09:59 am</td>\n",
       "      <td>Tuesday</td>\n",
       "      <td>11850</td>\n",
       "      <td>11786</td>\n",
       "      <td>21</td>\n",
       "      <td>43</td>\n",
       "      <td>64</td>\n",
       "      <td>...</td>\n",
       "      <td>6.50</td>\n",
       "      <td>1010</td>\n",
       "      <td>130</td>\n",
       "      <td>1.10</td>\n",
       "      <td>155</td>\n",
       "      <td>4</td>\n",
       "      <td>0</td>\n",
       "      <td>0</td>\n",
       "      <td>0</td>\n",
       "      <td>eea12b0749</td>\n",
       "    </tr>\n",
       "    <tr>\n",
       "      <th>2</th>\n",
       "      <td>PIONEER DJ - PDJCGEN7T106 - rekordbox Lighting...</td>\n",
       "      <td>rekordbox dj jetzt mit Lighting Mode!</td>\n",
       "      <td>Pioneer DJ Email Subscriptions</td>\n",
       "      <td>Feb 20, 2018 09:58 am</td>\n",
       "      <td>Tuesday</td>\n",
       "      <td>11628</td>\n",
       "      <td>11499</td>\n",
       "      <td>53</td>\n",
       "      <td>76</td>\n",
       "      <td>129</td>\n",
       "      <td>...</td>\n",
       "      <td>9.32</td>\n",
       "      <td>1454</td>\n",
       "      <td>206</td>\n",
       "      <td>1.79</td>\n",
       "      <td>241</td>\n",
       "      <td>10</td>\n",
       "      <td>0</td>\n",
       "      <td>0</td>\n",
       "      <td>0</td>\n",
       "      <td>97f414d4c6</td>\n",
       "    </tr>\n",
       "    <tr>\n",
       "      <th>3</th>\n",
       "      <td>PIONEER DJ - PDJCGEN7T106 - rekordbox Lighting...</td>\n",
       "      <td>新たにLighting modeを搭載！進化したrekordbox dj</td>\n",
       "      <td>Pioneer DJ Email Subscriptions</td>\n",
       "      <td>Feb 20, 2018 09:56 am</td>\n",
       "      <td>Tuesday</td>\n",
       "      <td>7354</td>\n",
       "      <td>7291</td>\n",
       "      <td>40</td>\n",
       "      <td>23</td>\n",
       "      <td>63</td>\n",
       "      <td>...</td>\n",
       "      <td>9.55</td>\n",
       "      <td>917</td>\n",
       "      <td>114</td>\n",
       "      <td>1.56</td>\n",
       "      <td>131</td>\n",
       "      <td>1</td>\n",
       "      <td>0</td>\n",
       "      <td>0</td>\n",
       "      <td>0</td>\n",
       "      <td>c95d07e6e1</td>\n",
       "    </tr>\n",
       "    <tr>\n",
       "      <th>4</th>\n",
       "      <td>PDJ-Internal Performance report: January 2018</td>\n",
       "      <td>PDJ Web Jan 18: Record-breaking eCom results i...</td>\n",
       "      <td>PDJinternal - Performance email</td>\n",
       "      <td>Feb 13, 2018 11:00 pm</td>\n",
       "      <td>Tuesday</td>\n",
       "      <td>61</td>\n",
       "      <td>61</td>\n",
       "      <td>0</td>\n",
       "      <td>0</td>\n",
       "      <td>0</td>\n",
       "      <td>...</td>\n",
       "      <td>59.02</td>\n",
       "      <td>133</td>\n",
       "      <td>14</td>\n",
       "      <td>22.95</td>\n",
       "      <td>32</td>\n",
       "      <td>0</td>\n",
       "      <td>0</td>\n",
       "      <td>0</td>\n",
       "      <td>0</td>\n",
       "      <td>a6eb16fcba</td>\n",
       "    </tr>\n",
       "  </tbody>\n",
       "</table>\n",
       "<p>5 rows × 23 columns</p>\n",
       "</div>"
      ],
      "text/plain": [
       "                                               Title  \\\n",
       "0  PIONEER DJ - PDJCGEN7T106 - rekordbox Lighting...   \n",
       "1  PIONEER DJ - PDJCGEN7T106 - rekordbox Lighting...   \n",
       "2  PIONEER DJ - PDJCGEN7T106 - rekordbox Lighting...   \n",
       "3  PIONEER DJ - PDJCGEN7T106 - rekordbox Lighting...   \n",
       "4      PDJ-Internal Performance report: January 2018   \n",
       "\n",
       "                                             Subject  \\\n",
       "0            Lighting mode is live on rekordbox dj!    \n",
       "1        ¡El modo Lighting  ya está en rekordbox dj!   \n",
       "2              rekordbox dj jetzt mit Lighting Mode!   \n",
       "3               新たにLighting modeを搭載！進化したrekordbox dj   \n",
       "4  PDJ Web Jan 18: Record-breaking eCom results i...   \n",
       "\n",
       "                              List              Send Date Send Weekday  \\\n",
       "0   Pioneer DJ Email Subscriptions  Feb 20, 2018 10:01 am      Tuesday   \n",
       "1   Pioneer DJ Email Subscriptions  Feb 20, 2018 09:59 am      Tuesday   \n",
       "2   Pioneer DJ Email Subscriptions  Feb 20, 2018 09:58 am      Tuesday   \n",
       "3   Pioneer DJ Email Subscriptions  Feb 20, 2018 09:56 am      Tuesday   \n",
       "4  PDJinternal - Performance email  Feb 13, 2018 11:00 pm      Tuesday   \n",
       "\n",
       "   Total Recipients  Successful Deliveries  Soft Bounces  Hard Bounces  \\\n",
       "0            519913                 513675          2476          3762   \n",
       "1             11850                  11786            21            43   \n",
       "2             11628                  11499            53            76   \n",
       "3              7354                   7291            40            23   \n",
       "4                61                     61             0             0   \n",
       "\n",
       "   Total Bounces     ...      Open Rate  Total Opens  Unique Clicks  \\\n",
       "0           6238     ...           3.50        22924           2598   \n",
       "1             64     ...           6.50         1010            130   \n",
       "2            129     ...           9.32         1454            206   \n",
       "3             63     ...           9.55          917            114   \n",
       "4              0     ...          59.02          133             14   \n",
       "\n",
       "   Click Rate  Total Clicks  Unsubscribes  Abuse Complaints  \\\n",
       "0        0.51          3095           110               294   \n",
       "1        1.10           155             4                 0   \n",
       "2        1.79           241            10                 0   \n",
       "3        1.56           131             1                 0   \n",
       "4       22.95            32             0                 0   \n",
       "\n",
       "   Times Liked on Facebook  Folder Id   Unique Id  \n",
       "0                        0          0  fb07c19c1b  \n",
       "1                        0          0  eea12b0749  \n",
       "2                        0          0  97f414d4c6  \n",
       "3                        0          0  c95d07e6e1  \n",
       "4                        0          0  a6eb16fcba  \n",
       "\n",
       "[5 rows x 23 columns]"
      ]
     },
     "execution_count": 10,
     "metadata": {},
     "output_type": "execute_result"
    }
   ],
   "source": [
    "df_campaigns.head()"
   ]
  },
  {
   "cell_type": "code",
   "execution_count": 11,
   "metadata": {},
   "outputs": [
    {
     "data": {
      "text/plain": [
       "0    fb07c19c1b\n",
       "1    eea12b0749\n",
       "2    97f414d4c6\n",
       "3    c95d07e6e1\n",
       "4    a6eb16fcba\n",
       "Name: Unique Id, dtype: object"
      ]
     },
     "execution_count": 11,
     "metadata": {},
     "output_type": "execute_result"
    }
   ],
   "source": [
    "df_campaigns['Unique Id'].head()"
   ]
  },
  {
   "cell_type": "code",
   "execution_count": 12,
   "metadata": {},
   "outputs": [
    {
     "data": {
      "text/plain": [
       "16"
      ]
     },
     "execution_count": 12,
     "metadata": {},
     "output_type": "execute_result"
    }
   ],
   "source": [
    "len(set(df_campaigns['List']))"
   ]
  },
  {
   "cell_type": "markdown",
   "metadata": {},
   "source": [
    "## Lists"
   ]
  },
  {
   "cell_type": "markdown",
   "metadata": {},
   "source": [
    "For each campaign list, there are three files:\n",
    "- cleaned: Cleaned contacts have addresses that have hard bounced, or repeatedly soft bounced, and are considered invalid.\n",
    "- members\n",
    "- unsubscribed"
   ]
  },
  {
   "cell_type": "code",
   "execution_count": 13,
   "metadata": {},
   "outputs": [
    {
     "name": "stdout",
     "output_type": "stream",
     "text": [
      "# of files in unsubscribed : 17\n",
      "# of files in members : 17\n",
      "# of files in cleaned : 17\n"
     ]
    }
   ],
   "source": [
    "#filecount\n",
    "print(\"# of files in unsubscribed :\", filecount(os.fspath(master_folder + lists + \"unsubscribed/\")))\n",
    "print(\"# of files in members :\", filecount(os.fspath(master_folder + lists + \"members/\")))\n",
    "print(\"# of files in cleaned :\", filecount(os.fspath(master_folder + lists + \"cleaned/\")))"
   ]
  },
  {
   "cell_type": "code",
   "execution_count": 14,
   "metadata": {
    "collapsed": true
   },
   "outputs": [],
   "source": [
    "df_list_rand = pd.read_csv(master_folder + lists +  \"unsubscribed/unsubscribed_233037_pioneer-dj-email-subscriptions.csv\",\\\n",
    "                  low_memory=False)"
   ]
  },
  {
   "cell_type": "code",
   "execution_count": 15,
   "metadata": {
    "scrolled": true
   },
   "outputs": [
    {
     "data": {
      "text/plain": [
       "Index(['Email Address', 'First Name', 'Last Name', 'Country', 'Segment',\n",
       "       'LangCode', 'MEMBER_RATING', 'OPTIN_TIME', 'OPTIN_IP', 'CONFIRM_TIME',\n",
       "       'CONFIRM_IP', 'LATITUDE', 'LONGITUDE', 'GMTOFF', 'DSTOFF', 'TIMEZONE',\n",
       "       'CC', 'REGION', 'UNSUB_TIME', 'UNSUB_CAMPAIGN_TITLE',\n",
       "       'UNSUB_CAMPAIGN_ID', 'UNSUB_REASON', 'UNSUB_REASON_OTHER', 'LEID',\n",
       "       'EUID', 'NOTES'],\n",
       "      dtype='object')"
      ]
     },
     "execution_count": 15,
     "metadata": {},
     "output_type": "execute_result"
    }
   ],
   "source": [
    "df_list_rand.columns"
   ]
  },
  {
   "cell_type": "code",
   "execution_count": 16,
   "metadata": {},
   "outputs": [
    {
     "data": {
      "text/html": [
       "<div>\n",
       "<style>\n",
       "    .dataframe thead tr:only-child th {\n",
       "        text-align: right;\n",
       "    }\n",
       "\n",
       "    .dataframe thead th {\n",
       "        text-align: left;\n",
       "    }\n",
       "\n",
       "    .dataframe tbody tr th {\n",
       "        vertical-align: top;\n",
       "    }\n",
       "</style>\n",
       "<table border=\"1\" class=\"dataframe\">\n",
       "  <thead>\n",
       "    <tr style=\"text-align: right;\">\n",
       "      <th></th>\n",
       "      <th>Email Address</th>\n",
       "      <th>First Name</th>\n",
       "      <th>Last Name</th>\n",
       "      <th>Country</th>\n",
       "      <th>Segment</th>\n",
       "      <th>LangCode</th>\n",
       "      <th>MEMBER_RATING</th>\n",
       "      <th>OPTIN_TIME</th>\n",
       "      <th>OPTIN_IP</th>\n",
       "      <th>CONFIRM_TIME</th>\n",
       "      <th>...</th>\n",
       "      <th>CC</th>\n",
       "      <th>REGION</th>\n",
       "      <th>UNSUB_TIME</th>\n",
       "      <th>UNSUB_CAMPAIGN_TITLE</th>\n",
       "      <th>UNSUB_CAMPAIGN_ID</th>\n",
       "      <th>UNSUB_REASON</th>\n",
       "      <th>UNSUB_REASON_OTHER</th>\n",
       "      <th>LEID</th>\n",
       "      <th>EUID</th>\n",
       "      <th>NOTES</th>\n",
       "    </tr>\n",
       "  </thead>\n",
       "  <tbody>\n",
       "    <tr>\n",
       "      <th>0</th>\n",
       "      <td>manogg@ig.com.br</td>\n",
       "      <td>NaN</td>\n",
       "      <td>NaN</td>\n",
       "      <td>NaN</td>\n",
       "      <td>NaN</td>\n",
       "      <td>NaN</td>\n",
       "      <td>2</td>\n",
       "      <td>2016-06-30 15:44:11</td>\n",
       "      <td>NaN</td>\n",
       "      <td>2016-06-30 15:44:11</td>\n",
       "      <td>...</td>\n",
       "      <td>BR</td>\n",
       "      <td>SP</td>\n",
       "      <td>2017-07-28 09:52:12</td>\n",
       "      <td>n/a</td>\n",
       "      <td>n/a</td>\n",
       "      <td>NaN</td>\n",
       "      <td>NaN</td>\n",
       "      <td>158701161.0</td>\n",
       "      <td>3570f9d7bb</td>\n",
       "      <td>NaN</td>\n",
       "    </tr>\n",
       "    <tr>\n",
       "      <th>1</th>\n",
       "      <td>barryftg@yahoo.fr</td>\n",
       "      <td>NaN</td>\n",
       "      <td>NaN</td>\n",
       "      <td>NaN</td>\n",
       "      <td>NaN</td>\n",
       "      <td>NaN</td>\n",
       "      <td>2</td>\n",
       "      <td>2016-06-30 15:44:11</td>\n",
       "      <td>NaN</td>\n",
       "      <td>2016-06-30 15:44:11</td>\n",
       "      <td>...</td>\n",
       "      <td>MA</td>\n",
       "      <td>08</td>\n",
       "      <td>2017-07-28 09:49:33</td>\n",
       "      <td>n/a</td>\n",
       "      <td>n/a</td>\n",
       "      <td>NaN</td>\n",
       "      <td>NaN</td>\n",
       "      <td>158701165.0</td>\n",
       "      <td>16770e4bf8</td>\n",
       "      <td>NaN</td>\n",
       "    </tr>\n",
       "    <tr>\n",
       "      <th>2</th>\n",
       "      <td>sabprodj@gmail.com</td>\n",
       "      <td>NaN</td>\n",
       "      <td>NaN</td>\n",
       "      <td>NaN</td>\n",
       "      <td>NaN</td>\n",
       "      <td>NaN</td>\n",
       "      <td>2</td>\n",
       "      <td>2016-06-30 15:44:11</td>\n",
       "      <td>NaN</td>\n",
       "      <td>2016-06-30 15:44:11</td>\n",
       "      <td>...</td>\n",
       "      <td>US</td>\n",
       "      <td>CA</td>\n",
       "      <td>2017-07-28 09:52:34</td>\n",
       "      <td>n/a</td>\n",
       "      <td>n/a</td>\n",
       "      <td>NaN</td>\n",
       "      <td>NaN</td>\n",
       "      <td>158701169.0</td>\n",
       "      <td>e28743825a</td>\n",
       "      <td>NaN</td>\n",
       "    </tr>\n",
       "    <tr>\n",
       "      <th>3</th>\n",
       "      <td>rob@lunenburg.nl</td>\n",
       "      <td>NaN</td>\n",
       "      <td>NaN</td>\n",
       "      <td>NaN</td>\n",
       "      <td>NaN</td>\n",
       "      <td>NaN</td>\n",
       "      <td>2</td>\n",
       "      <td>2016-06-30 15:44:11</td>\n",
       "      <td>NaN</td>\n",
       "      <td>2016-06-30 15:44:11</td>\n",
       "      <td>...</td>\n",
       "      <td>NL</td>\n",
       "      <td>ZH</td>\n",
       "      <td>2017-07-28 09:54:39</td>\n",
       "      <td>n/a</td>\n",
       "      <td>n/a</td>\n",
       "      <td>NaN</td>\n",
       "      <td>NaN</td>\n",
       "      <td>158701189.0</td>\n",
       "      <td>c9e81ea948</td>\n",
       "      <td>NaN</td>\n",
       "    </tr>\n",
       "    <tr>\n",
       "      <th>4</th>\n",
       "      <td>attuclott@yahoo.com</td>\n",
       "      <td>NaN</td>\n",
       "      <td>NaN</td>\n",
       "      <td>NaN</td>\n",
       "      <td>NaN</td>\n",
       "      <td>NaN</td>\n",
       "      <td>2</td>\n",
       "      <td>2016-06-30 15:44:11</td>\n",
       "      <td>NaN</td>\n",
       "      <td>2016-06-30 15:44:11</td>\n",
       "      <td>...</td>\n",
       "      <td>DE</td>\n",
       "      <td>NW</td>\n",
       "      <td>2017-07-28 09:52:47</td>\n",
       "      <td>n/a</td>\n",
       "      <td>n/a</td>\n",
       "      <td>NaN</td>\n",
       "      <td>NaN</td>\n",
       "      <td>158701193.0</td>\n",
       "      <td>8020234493</td>\n",
       "      <td>NaN</td>\n",
       "    </tr>\n",
       "  </tbody>\n",
       "</table>\n",
       "<p>5 rows × 26 columns</p>\n",
       "</div>"
      ],
      "text/plain": [
       "         Email Address  First Name  Last Name Country Segment LangCode  \\\n",
       "0     manogg@ig.com.br         NaN        NaN     NaN     NaN      NaN   \n",
       "1    barryftg@yahoo.fr         NaN        NaN     NaN     NaN      NaN   \n",
       "2   sabprodj@gmail.com         NaN        NaN     NaN     NaN      NaN   \n",
       "3     rob@lunenburg.nl         NaN        NaN     NaN     NaN      NaN   \n",
       "4  attuclott@yahoo.com         NaN        NaN     NaN     NaN      NaN   \n",
       "\n",
       "   MEMBER_RATING           OPTIN_TIME  OPTIN_IP         CONFIRM_TIME  ...   \\\n",
       "0              2  2016-06-30 15:44:11       NaN  2016-06-30 15:44:11  ...    \n",
       "1              2  2016-06-30 15:44:11       NaN  2016-06-30 15:44:11  ...    \n",
       "2              2  2016-06-30 15:44:11       NaN  2016-06-30 15:44:11  ...    \n",
       "3              2  2016-06-30 15:44:11       NaN  2016-06-30 15:44:11  ...    \n",
       "4              2  2016-06-30 15:44:11       NaN  2016-06-30 15:44:11  ...    \n",
       "\n",
       "   CC REGION           UNSUB_TIME UNSUB_CAMPAIGN_TITLE UNSUB_CAMPAIGN_ID  \\\n",
       "0  BR     SP  2017-07-28 09:52:12                  n/a               n/a   \n",
       "1  MA     08  2017-07-28 09:49:33                  n/a               n/a   \n",
       "2  US     CA  2017-07-28 09:52:34                  n/a               n/a   \n",
       "3  NL     ZH  2017-07-28 09:54:39                  n/a               n/a   \n",
       "4  DE     NW  2017-07-28 09:52:47                  n/a               n/a   \n",
       "\n",
       "  UNSUB_REASON UNSUB_REASON_OTHER         LEID        EUID NOTES  \n",
       "0          NaN                NaN  158701161.0  3570f9d7bb   NaN  \n",
       "1          NaN                NaN  158701165.0  16770e4bf8   NaN  \n",
       "2          NaN                NaN  158701169.0  e28743825a   NaN  \n",
       "3          NaN                NaN  158701189.0  c9e81ea948   NaN  \n",
       "4          NaN                NaN  158701193.0  8020234493   NaN  \n",
       "\n",
       "[5 rows x 26 columns]"
      ]
     },
     "execution_count": 16,
     "metadata": {},
     "output_type": "execute_result"
    }
   ],
   "source": [
    "df_list_rand.head()"
   ]
  },
  {
   "cell_type": "markdown",
   "metadata": {},
   "source": [
    "## Granular Activity"
   ]
  },
  {
   "cell_type": "markdown",
   "metadata": {},
   "source": [
    "Number of rows in each of the files in the granular activity folder corresponds to either \"Total Clicks\" or \"Total Opens\" in the campaign master file.\n",
    "\n",
    "Clicks files contain three columns:\n",
    "- Timestamp\n",
    "- Email\n",
    "- Url\n",
    "\n",
    "Opens files contain two columns:\n",
    "- Timestamp\n",
    "- Url"
   ]
  },
  {
   "cell_type": "code",
   "execution_count": 17,
   "metadata": {},
   "outputs": [
    {
     "name": "stdout",
     "output_type": "stream",
     "text": [
      "# of files in clicks : 186\n",
      "# of files in opens : 186\n"
     ]
    }
   ],
   "source": [
    "#filecount\n",
    "print(\"# of files in clicks :\", filecount(os.fspath(master_folder + granular_activity + \"clicks/\")))\n",
    "print(\"# of files in opens :\", filecount(os.fspath(master_folder + granular_activity + \"opens/\")))"
   ]
  },
  {
   "cell_type": "code",
   "execution_count": 18,
   "metadata": {
    "collapsed": true
   },
   "outputs": [],
   "source": [
    "df_gran_act_clicks_rand = pd.read_csv(master_folder + granular_activity + \\\n",
    "                  \"clicks/334661_pioneer-pdjcgen6t040-product-e-mail-blasts-en-cdjuser.csv\", low_memory=False)"
   ]
  },
  {
   "cell_type": "code",
   "execution_count": 19,
   "metadata": {},
   "outputs": [
    {
     "data": {
      "text/plain": [
       "Index(['Timestamp', 'Email', 'Url'], dtype='object')"
      ]
     },
     "execution_count": 19,
     "metadata": {},
     "output_type": "execute_result"
    }
   ],
   "source": [
    "df_gran_act_clicks_rand.columns"
   ]
  },
  {
   "cell_type": "code",
   "execution_count": 20,
   "metadata": {},
   "outputs": [
    {
     "data": {
      "text/html": [
       "<div>\n",
       "<style>\n",
       "    .dataframe thead tr:only-child th {\n",
       "        text-align: right;\n",
       "    }\n",
       "\n",
       "    .dataframe thead th {\n",
       "        text-align: left;\n",
       "    }\n",
       "\n",
       "    .dataframe tbody tr th {\n",
       "        vertical-align: top;\n",
       "    }\n",
       "</style>\n",
       "<table border=\"1\" class=\"dataframe\">\n",
       "  <thead>\n",
       "    <tr style=\"text-align: right;\">\n",
       "      <th></th>\n",
       "      <th>Timestamp</th>\n",
       "      <th>Email</th>\n",
       "      <th>Url</th>\n",
       "    </tr>\n",
       "  </thead>\n",
       "  <tbody>\n",
       "    <tr>\n",
       "      <th>0</th>\n",
       "      <td>2016-07-01 07:53:03</td>\n",
       "      <td>marko.erregger@gmx.at</td>\n",
       "      <td>https://youtu.be/kLxvt4R8muE</td>\n",
       "    </tr>\n",
       "    <tr>\n",
       "      <th>1</th>\n",
       "      <td>2016-07-01 07:53:04</td>\n",
       "      <td>rhallema@belfabriek.nl</td>\n",
       "      <td>https://register.pioneerdj.com/info.php?ap_lan...</td>\n",
       "    </tr>\n",
       "    <tr>\n",
       "      <th>2</th>\n",
       "      <td>2016-07-01 07:53:04</td>\n",
       "      <td>arnocosta@gmail.com</td>\n",
       "      <td>http://www.pioneerdj.com/en/product/controller...</td>\n",
       "    </tr>\n",
       "    <tr>\n",
       "      <th>3</th>\n",
       "      <td>2016-07-01 07:53:04</td>\n",
       "      <td>soundhm@yahoo.co.in</td>\n",
       "      <td>https://youtu.be/kLxvt4R8muE</td>\n",
       "    </tr>\n",
       "    <tr>\n",
       "      <th>4</th>\n",
       "      <td>2016-07-01 07:54:04</td>\n",
       "      <td>sigmatrustdje@gmail.com</td>\n",
       "      <td>https://youtu.be/kLxvt4R8muE</td>\n",
       "    </tr>\n",
       "  </tbody>\n",
       "</table>\n",
       "</div>"
      ],
      "text/plain": [
       "             Timestamp                    Email  \\\n",
       "0  2016-07-01 07:53:03    marko.erregger@gmx.at   \n",
       "1  2016-07-01 07:53:04   rhallema@belfabriek.nl   \n",
       "2  2016-07-01 07:53:04      arnocosta@gmail.com   \n",
       "3  2016-07-01 07:53:04      soundhm@yahoo.co.in   \n",
       "4  2016-07-01 07:54:04  sigmatrustdje@gmail.com   \n",
       "\n",
       "                                                 Url  \n",
       "0                       https://youtu.be/kLxvt4R8muE  \n",
       "1  https://register.pioneerdj.com/info.php?ap_lan...  \n",
       "2  http://www.pioneerdj.com/en/product/controller...  \n",
       "3                       https://youtu.be/kLxvt4R8muE  \n",
       "4                       https://youtu.be/kLxvt4R8muE  "
      ]
     },
     "execution_count": 20,
     "metadata": {},
     "output_type": "execute_result"
    }
   ],
   "source": [
    "df_gran_act_clicks_rand.head()"
   ]
  },
  {
   "cell_type": "code",
   "execution_count": 21,
   "metadata": {
    "collapsed": true
   },
   "outputs": [],
   "source": [
    "df_gran_act_opens_rand = pd.read_csv(master_folder + granular_activity + \\\n",
    "                  \"opens/334661_pioneer-pdjcgen6t040-product-e-mail-blasts-en-cdjuser.csv\", low_memory=False)"
   ]
  },
  {
   "cell_type": "code",
   "execution_count": 22,
   "metadata": {},
   "outputs": [
    {
     "data": {
      "text/plain": [
       "Index(['Timestamp', 'Email'], dtype='object')"
      ]
     },
     "execution_count": 22,
     "metadata": {},
     "output_type": "execute_result"
    }
   ],
   "source": [
    "df_gran_act_opens_rand.columns"
   ]
  },
  {
   "cell_type": "code",
   "execution_count": 23,
   "metadata": {},
   "outputs": [
    {
     "data": {
      "text/html": [
       "<div>\n",
       "<style>\n",
       "    .dataframe thead tr:only-child th {\n",
       "        text-align: right;\n",
       "    }\n",
       "\n",
       "    .dataframe thead th {\n",
       "        text-align: left;\n",
       "    }\n",
       "\n",
       "    .dataframe tbody tr th {\n",
       "        vertical-align: top;\n",
       "    }\n",
       "</style>\n",
       "<table border=\"1\" class=\"dataframe\">\n",
       "  <thead>\n",
       "    <tr style=\"text-align: right;\">\n",
       "      <th></th>\n",
       "      <th>Timestamp</th>\n",
       "      <th>Email</th>\n",
       "    </tr>\n",
       "  </thead>\n",
       "  <tbody>\n",
       "    <tr>\n",
       "      <th>0</th>\n",
       "      <td>2016-07-01 07:52:12</td>\n",
       "      <td>info@bwefar.nl</td>\n",
       "    </tr>\n",
       "    <tr>\n",
       "      <th>1</th>\n",
       "      <td>2016-07-01 07:52:14</td>\n",
       "      <td>arnocosta@gmail.com</td>\n",
       "    </tr>\n",
       "    <tr>\n",
       "      <th>2</th>\n",
       "      <td>2016-07-01 07:52:14</td>\n",
       "      <td>leondebaughn@live.com</td>\n",
       "    </tr>\n",
       "    <tr>\n",
       "      <th>3</th>\n",
       "      <td>2016-07-01 07:52:14</td>\n",
       "      <td>rhallema@belfabriek.nl</td>\n",
       "    </tr>\n",
       "    <tr>\n",
       "      <th>4</th>\n",
       "      <td>2016-07-01 07:52:14</td>\n",
       "      <td>rhallema@belfabriek.nl</td>\n",
       "    </tr>\n",
       "  </tbody>\n",
       "</table>\n",
       "</div>"
      ],
      "text/plain": [
       "             Timestamp                   Email\n",
       "0  2016-07-01 07:52:12          info@bwefar.nl\n",
       "1  2016-07-01 07:52:14     arnocosta@gmail.com\n",
       "2  2016-07-01 07:52:14   leondebaughn@live.com\n",
       "3  2016-07-01 07:52:14  rhallema@belfabriek.nl\n",
       "4  2016-07-01 07:52:14  rhallema@belfabriek.nl"
      ]
     },
     "execution_count": 23,
     "metadata": {},
     "output_type": "execute_result"
    }
   ],
   "source": [
    "df_gran_act_opens_rand.head()"
   ]
  },
  {
   "cell_type": "markdown",
   "metadata": {},
   "source": [
    "## Geo Data"
   ]
  },
  {
   "cell_type": "markdown",
   "metadata": {},
   "source": [
    "Only shows data for users where geo data was enabled. For this reason, number of clicks and opens might not correspond to total number of clicks and opens on the master campaign file."
   ]
  },
  {
   "cell_type": "code",
   "execution_count": 24,
   "metadata": {},
   "outputs": [
    {
     "name": "stdout",
     "output_type": "stream",
     "text": [
      "# of files in clicks : 186\n",
      "# of files in opens : 186\n"
     ]
    }
   ],
   "source": [
    "#filecount\n",
    "print(\"# of files in clicks :\", filecount(os.fspath(master_folder + geo_data + \"clicks/\")))\n",
    "print(\"# of files in opens :\", filecount(os.fspath(master_folder + geo_data + \"opens/\")))"
   ]
  },
  {
   "cell_type": "code",
   "execution_count": 25,
   "metadata": {
    "collapsed": true
   },
   "outputs": [],
   "source": [
    "df_geo_clicks_rand = pd.read_csv(master_folder + geo_data + \\\n",
    "                  \"clicks/334661_pioneer-pdjcgen6t040-product-e-mail-blasts-en-cdjuser.csv\", low_memory=False)"
   ]
  },
  {
   "cell_type": "code",
   "execution_count": 26,
   "metadata": {},
   "outputs": [
    {
     "data": {
      "text/plain": [
       "Index(['Country Code', 'Region', 'Url', 'Clicks'], dtype='object')"
      ]
     },
     "execution_count": 26,
     "metadata": {},
     "output_type": "execute_result"
    }
   ],
   "source": [
    "df_geo_clicks_rand.columns"
   ]
  },
  {
   "cell_type": "code",
   "execution_count": 27,
   "metadata": {},
   "outputs": [
    {
     "data": {
      "text/html": [
       "<div>\n",
       "<style>\n",
       "    .dataframe thead tr:only-child th {\n",
       "        text-align: right;\n",
       "    }\n",
       "\n",
       "    .dataframe thead th {\n",
       "        text-align: left;\n",
       "    }\n",
       "\n",
       "    .dataframe tbody tr th {\n",
       "        vertical-align: top;\n",
       "    }\n",
       "</style>\n",
       "<table border=\"1\" class=\"dataframe\">\n",
       "  <thead>\n",
       "    <tr style=\"text-align: right;\">\n",
       "      <th></th>\n",
       "      <th>Country Code</th>\n",
       "      <th>Region</th>\n",
       "      <th>Url</th>\n",
       "      <th>Clicks</th>\n",
       "    </tr>\n",
       "  </thead>\n",
       "  <tbody>\n",
       "    <tr>\n",
       "      <th>0</th>\n",
       "      <td>AO</td>\n",
       "      <td>NaN</td>\n",
       "      <td>http://www.pioneerdj.com/en/product/controller...</td>\n",
       "      <td>1</td>\n",
       "    </tr>\n",
       "    <tr>\n",
       "      <th>1</th>\n",
       "      <td>AO</td>\n",
       "      <td>NaN</td>\n",
       "      <td>https://youtu.be/kLxvt4R8muE</td>\n",
       "      <td>1</td>\n",
       "    </tr>\n",
       "    <tr>\n",
       "      <th>2</th>\n",
       "      <td>AR</td>\n",
       "      <td>AR_BA</td>\n",
       "      <td>http://www.pioneerdj.com/en/product/controller...</td>\n",
       "      <td>1</td>\n",
       "    </tr>\n",
       "    <tr>\n",
       "      <th>3</th>\n",
       "      <td>AR</td>\n",
       "      <td>AR_BA</td>\n",
       "      <td>https://rekordbox.com/en/products/rekordboxvid...</td>\n",
       "      <td>1</td>\n",
       "    </tr>\n",
       "    <tr>\n",
       "      <th>4</th>\n",
       "      <td>AT</td>\n",
       "      <td>AT_NO</td>\n",
       "      <td>https://youtu.be/kLxvt4R8muE</td>\n",
       "      <td>1</td>\n",
       "    </tr>\n",
       "  </tbody>\n",
       "</table>\n",
       "</div>"
      ],
      "text/plain": [
       "  Country Code Region                                                Url  \\\n",
       "0           AO    NaN  http://www.pioneerdj.com/en/product/controller...   \n",
       "1           AO    NaN                       https://youtu.be/kLxvt4R8muE   \n",
       "2           AR  AR_BA  http://www.pioneerdj.com/en/product/controller...   \n",
       "3           AR  AR_BA  https://rekordbox.com/en/products/rekordboxvid...   \n",
       "4           AT  AT_NO                       https://youtu.be/kLxvt4R8muE   \n",
       "\n",
       "   Clicks  \n",
       "0       1  \n",
       "1       1  \n",
       "2       1  \n",
       "3       1  \n",
       "4       1  "
      ]
     },
     "execution_count": 27,
     "metadata": {},
     "output_type": "execute_result"
    }
   ],
   "source": [
    "df_geo_clicks_rand.head()"
   ]
  },
  {
   "cell_type": "code",
   "execution_count": 28,
   "metadata": {
    "collapsed": true
   },
   "outputs": [],
   "source": [
    "df_geo_opens_rand = pd.read_csv(master_folder + geo_data + \\\n",
    "                  \"opens/334661_pioneer-pdjcgen6t040-product-e-mail-blasts-en-cdjuser.csv\", low_memory=False)"
   ]
  },
  {
   "cell_type": "code",
   "execution_count": 29,
   "metadata": {},
   "outputs": [
    {
     "data": {
      "text/plain": [
       "Index(['Country Code', 'Region', 'Opens'], dtype='object')"
      ]
     },
     "execution_count": 29,
     "metadata": {},
     "output_type": "execute_result"
    }
   ],
   "source": [
    "df_geo_opens_rand.columns"
   ]
  },
  {
   "cell_type": "code",
   "execution_count": 30,
   "metadata": {},
   "outputs": [
    {
     "data": {
      "text/html": [
       "<div>\n",
       "<style>\n",
       "    .dataframe thead tr:only-child th {\n",
       "        text-align: right;\n",
       "    }\n",
       "\n",
       "    .dataframe thead th {\n",
       "        text-align: left;\n",
       "    }\n",
       "\n",
       "    .dataframe tbody tr th {\n",
       "        vertical-align: top;\n",
       "    }\n",
       "</style>\n",
       "<table border=\"1\" class=\"dataframe\">\n",
       "  <thead>\n",
       "    <tr style=\"text-align: right;\">\n",
       "      <th></th>\n",
       "      <th>Country Code</th>\n",
       "      <th>Region</th>\n",
       "      <th>Opens</th>\n",
       "    </tr>\n",
       "  </thead>\n",
       "  <tbody>\n",
       "    <tr>\n",
       "      <th>0</th>\n",
       "      <td>AO</td>\n",
       "      <td>NaN</td>\n",
       "      <td>1</td>\n",
       "    </tr>\n",
       "    <tr>\n",
       "      <th>1</th>\n",
       "      <td>AR</td>\n",
       "      <td>AR_BA</td>\n",
       "      <td>1</td>\n",
       "    </tr>\n",
       "    <tr>\n",
       "      <th>2</th>\n",
       "      <td>AT</td>\n",
       "      <td>AT_NO</td>\n",
       "      <td>1</td>\n",
       "    </tr>\n",
       "    <tr>\n",
       "      <th>3</th>\n",
       "      <td>AT</td>\n",
       "      <td>AT_WI</td>\n",
       "      <td>1</td>\n",
       "    </tr>\n",
       "    <tr>\n",
       "      <th>4</th>\n",
       "      <td>AU</td>\n",
       "      <td>NSW</td>\n",
       "      <td>1</td>\n",
       "    </tr>\n",
       "  </tbody>\n",
       "</table>\n",
       "</div>"
      ],
      "text/plain": [
       "  Country Code Region  Opens\n",
       "0           AO    NaN      1\n",
       "1           AR  AR_BA      1\n",
       "2           AT  AT_NO      1\n",
       "3           AT  AT_WI      1\n",
       "4           AU    NSW      1"
      ]
     },
     "execution_count": 30,
     "metadata": {},
     "output_type": "execute_result"
    }
   ],
   "source": [
    "df_geo_opens_rand.head()"
   ]
  },
  {
   "cell_type": "markdown",
   "metadata": {},
   "source": [
    "## campaigns_content"
   ]
  },
  {
   "cell_type": "markdown",
   "metadata": {},
   "source": [
    "HTML and text files containing the contents of each campaign"
   ]
  },
  {
   "cell_type": "code",
   "execution_count": 31,
   "metadata": {
    "collapsed": true
   },
   "outputs": [],
   "source": [
    "list_files = [f for f in os.listdir(os.fspath(master_folder + campaigns_content)) \\\n",
    "              if os.path.isfile(os.fspath(master_folder + campaigns_content) +f)]"
   ]
  },
  {
   "cell_type": "code",
   "execution_count": 32,
   "metadata": {
    "collapsed": true
   },
   "outputs": [],
   "source": [
    "html_arr = []\n",
    "txt_arr = []\n",
    "other_arr = []\n",
    "for i in list_files:\n",
    "    if i.split(\".\")[-1] == 'html':\n",
    "        html_arr.append(i)\n",
    "    elif i.split(\".\")[-1] == 'txt':\n",
    "        txt_arr.append(i)\n",
    "    else:\n",
    "        other_arr.append(i)"
   ]
  },
  {
   "cell_type": "code",
   "execution_count": 33,
   "metadata": {},
   "outputs": [
    {
     "name": "stdout",
     "output_type": "stream",
     "text": [
      "# of files in campaigns_content : 402\n",
      "# of html files : 201\n",
      "# of txt files : 201\n",
      "# of other files : 0\n"
     ]
    }
   ],
   "source": [
    "#filecount\n",
    "print(\"# of files in campaigns_content :\", filecount(os.fspath(master_folder + campaigns_content)))\n",
    "print(\"# of html files :\", len(html_arr))\n",
    "print(\"# of txt files :\", len(txt_arr))\n",
    "print(\"# of other files :\", len(other_arr))"
   ]
  },
  {
   "cell_type": "code",
   "execution_count": 34,
   "metadata": {
    "scrolled": true
   },
   "outputs": [
    {
     "name": "stdout",
     "output_type": "stream",
     "text": [
      "['start mail', 'Hopefully your Saturday was as groovy as Saturday Night Fever and your Sunday as thrilling as Any Given Sunday. And that you are well rested so that you can successfully answer question 4 of the Big Play More Quiz.', 'Find the answer to question 4 of our Big Play More Quiz', 'Good luck!', 'Jeroen Bronselaer', 'Marketing director', 'end mail', 'This email was sent to', 'why did I get this?', 'unsubscribe from this list', 'update subscription preferences']\n"
     ]
    }
   ],
   "source": [
    "#Script to extract only text from the content html files\n",
    "\n",
    "import urllib.request\n",
    "from bs4 import BeautifulSoup\n",
    "import re\n",
    "\n",
    "with urllib.request.urlopen('file:///home/charly/Desktop/mazda/MailChimp/campaigns_content/339905_telenet-telndiv6t899-en-copy-02-.html') as url:\n",
    "    s = url.read()\n",
    "    soup = BeautifulSoup(s, 'html.parser')\n",
    "    texts = soup.findAll(text=True)\n",
    "\n",
    "def visible(element):\n",
    "    if element.parent.name in ['style', 'script', 'document', 'head', 'title']: return False\n",
    "    elif re.match('<!--.*-->', str(element)): return False\n",
    "    elif re.match('\\n', str(element)): return False\n",
    "    elif re.match('^HTML', str(element)): return False\n",
    "    elif re.match('^[\\[<]', str(element)): return False\n",
    "    elif re.search('\\xa0',  str(element)): return False\n",
    "    elif re.search('<',  str(element)): return False\n",
    "    elif re.search('\\|',  str(element)): return False\n",
    "    elif re.search('© | SNIPPETS | CTA | This message was sent | Please do not reply | PREVIEW | START | END | Android Google App Fix Start | Android Google App Fix End',\\\n",
    "                   str(element)): return False\n",
    "    elif len(element) < 4: return False\n",
    "    else: \n",
    "        return True\n",
    "    \n",
    "def replace(element):\n",
    "    if re.search(u'\\r\\n', str(element)): \n",
    "        return element.replace(u'\\r\\n', u' ')\n",
    "\n",
    "visible_texts = list(filter(visible, texts))\n",
    "map_texts = list(map(lambda x: x.replace(u'\\r\\n', u' ').strip(), visible_texts))\n",
    "\n",
    "sub = 'Deze e-mail werd verstuurd'\n",
    "\n",
    "for i, k in enumerate(map_texts):\n",
    "    if sub in k:\n",
    "        index = i\n",
    "\n",
    "# map_texts = map_texts[:index]\n",
    "\n",
    "print(map_texts)"
   ]
  },
  {
   "cell_type": "code",
   "execution_count": 35,
   "metadata": {
    "collapsed": true
   },
   "outputs": [],
   "source": [
    "import nltk\n",
    "from nltk.corpus import stopwords \n",
    "from nltk.stem.wordnet import WordNetLemmatizer\n",
    "import string\n",
    "stop = set(stopwords.words('english'))\n",
    "exclude = set(string.punctuation) \n",
    "lemma = WordNetLemmatizer()\n",
    "def clean(doc):\n",
    "    stop_free = \" \".join([i for i in doc.lower().split() if i not in stop])\n",
    "    punc_free = ''.join(ch for ch in stop_free if ch not in exclude)\n",
    "    normalized = \" \".join(lemma.lemmatize(word) for word in punc_free.split())\n",
    "    return normalized"
   ]
  },
  {
   "cell_type": "code",
   "execution_count": 36,
   "metadata": {
    "collapsed": true
   },
   "outputs": [],
   "source": [
    "doc_clean = [clean(doc).split() for doc in map_texts] "
   ]
  },
  {
   "cell_type": "code",
   "execution_count": 37,
   "metadata": {
    "collapsed": true
   },
   "outputs": [],
   "source": [
    "# Importing Gensim\n",
    "import gensim\n",
    "from gensim import corpora\n",
    "from gensim.corpora import Dictionary\n",
    "\n",
    "# Creating the term dictionary of our courpus, where every unique term is assigned an index. \n",
    "dictionary = corpora.Dictionary(doc_clean)\n",
    "\n",
    "# Converting list of documents (corpus) into Document Term Matrix using dictionary prepared above.\n",
    "doc_term_matrix = [dictionary.doc2bow(doc) for doc in doc_clean]"
   ]
  },
  {
   "cell_type": "code",
   "execution_count": 38,
   "metadata": {
    "collapsed": true
   },
   "outputs": [],
   "source": [
    "# Creating the object for LDA model using gensim library\n",
    "Lda = gensim.models.ldamodel.LdaModel\n",
    "\n",
    "# Running and Trainign LDA model on the document term matrix.\n",
    "ldamodel = Lda(doc_term_matrix, num_topics=3, id2word = dictionary, passes=50)"
   ]
  },
  {
   "cell_type": "code",
   "execution_count": 39,
   "metadata": {},
   "outputs": [
    {
     "name": "stdout",
     "output_type": "stream",
     "text": [
      "[(0, '0.070*\"preference\" + 0.070*\"update\" + 0.070*\"subscription\"'), (1, '0.058*\"saturday\" + 0.058*\"sunday\" + 0.058*\"4\"'), (2, '0.106*\"mail\" + 0.061*\"end\" + 0.061*\"start\"')]\n"
     ]
    }
   ],
   "source": [
    "print(ldamodel.print_topics(num_topics=3, num_words=3))"
   ]
  },
  {
   "cell_type": "code",
   "execution_count": 40,
   "metadata": {
    "collapsed": true
   },
   "outputs": [],
   "source": [
    "from nltk.corpus import words\n",
    "\n",
    "correct_spellings = words.words()"
   ]
  },
  {
   "cell_type": "code",
   "execution_count": 41,
   "metadata": {},
   "outputs": [
    {
     "name": "stderr",
     "output_type": "stream",
     "text": [
      "/home/charly/anaconda3/lib/python3.6/site-packages/ipykernel_launcher.py:6: DeprecationWarning: generator 'ngrams' raised StopIteration\n",
      "  \n"
     ]
    },
    {
     "data": {
      "text/plain": [
       "['cormus', 'incendiary', 'valid']"
      ]
     },
     "execution_count": 41,
     "metadata": {},
     "output_type": "execute_result"
    }
   ],
   "source": [
    "def answer_nine(entries=['cormulent', 'incendenece', 'validrate']):\n",
    "    results = []\n",
    "    for entry in entries:\n",
    "        candidates = [w for w in correct_spellings if w[0] == entry[0]]\n",
    "        results.append(min(candidates, key=\n",
    "                           lambda candidate:nltk.jaccard_distance(set(nltk.ngrams(entry, n=4)), set(nltk.ngrams(candidate, n=4)))))\n",
    "    return results\n",
    "    \n",
    "answer_nine()"
   ]
  },
  {
   "cell_type": "markdown",
   "metadata": {},
   "source": [
    "## Aggregate_activity"
   ]
  },
  {
   "cell_type": "markdown",
   "metadata": {},
   "source": [
    "The aggregate_activity folder is divided six subsets:\n",
    "- abuse : list of the users that reported the campaign as an abuse (a user that reported a campaign as a spam)\n",
    "- bounces : list of users for which the campaign could not be delivered to their email\n",
    "- click_activity: list of users that have opened the campaign and clicked on the campaign\n",
    "- not_opened: list of users that have not opened the campaign email\n",
    "- opened: list of users that have opened the campaign email\n",
    "- unsub_reasons: list of users that have unsubscribed and a field with the reason"
   ]
  },
  {
   "cell_type": "code",
   "execution_count": 287,
   "metadata": {},
   "outputs": [
    {
     "name": "stdout",
     "output_type": "stream",
     "text": [
      "# of files in abuse : 186\n",
      "# of files in bounces : 186\n",
      "# of files in click_activity : 186\n",
      "# of files in not_opened : 186\n",
      "# of files in opened : 186\n",
      "# of files in unsub-reasons : 186\n"
     ]
    }
   ],
   "source": [
    "#filecount\n",
    "print(\"# of files in abuse :\", filecount(os.fspath(master_folder + aggregate_activity + \"abuse/\")))\n",
    "print(\"# of files in bounces :\", filecount(os.fspath(master_folder + aggregate_activity + \"bounces/\")))\n",
    "print(\"# of files in click_activity :\", filecount(os.fspath(master_folder + aggregate_activity + \"click_activity/\")))\n",
    "print(\"# of files in not_opened :\", filecount(os.fspath(master_folder + aggregate_activity + \"not_opened/\")))\n",
    "print(\"# of files in opened :\", filecount(os.fspath(master_folder + aggregate_activity + \"opened/\")))\n",
    "print(\"# of files in unsub-reasons :\", filecount(os.fspath(master_folder + aggregate_activity + \"unsub-reasons/\")))"
   ]
  },
  {
   "cell_type": "code",
   "execution_count": 288,
   "metadata": {
    "collapsed": true
   },
   "outputs": [],
   "source": [
    "df_agg_abuse_rand = pd.read_csv(master_folder + aggregate_activity + \\\n",
    "                  \"abuse/334661_pioneer-pdjcgen6t040-product-e-mail-blasts-en-cdjuser.csv\", low_memory=False)\n",
    "df_agg_bounces_rand = pd.read_csv(master_folder + aggregate_activity + \\\n",
    "                  \"bounces/334661_pioneer-pdjcgen6t040-product-e-mail-blasts-en-cdjuser.csv\", low_memory=False)\n",
    "df_agg_click_rand = pd.read_csv(master_folder + aggregate_activity + \\\n",
    "                  \"click_activity/334661_pioneer-pdjcgen6t040-product-e-mail-blasts-en-cdjuser.csv\", low_memory=False)\n",
    "df_agg_notop_rand = pd.read_csv(master_folder + aggregate_activity + \\\n",
    "                  \"not_opened/334661_pioneer-pdjcgen6t040-product-e-mail-blasts-en-cdjuser.csv\", low_memory=False)\n",
    "df_agg_op_rand = pd.read_csv(master_folder + aggregate_activity + \\\n",
    "                  \"opened/334661_pioneer-pdjcgen6t040-product-e-mail-blasts-en-cdjuser.csv\", low_memory=False)\n",
    "df_agg_unsub_rand = pd.read_csv(master_folder + aggregate_activity + \\\n",
    "                  \"unsub-reasons/334661_pioneer-pdjcgen6t040-product-e-mail-blasts-en-cdjuser.csv\", low_memory=False)"
   ]
  },
  {
   "cell_type": "code",
   "execution_count": 44,
   "metadata": {},
   "outputs": [
    {
     "data": {
      "text/html": [
       "<div>\n",
       "<style>\n",
       "    .dataframe thead tr:only-child th {\n",
       "        text-align: right;\n",
       "    }\n",
       "\n",
       "    .dataframe thead th {\n",
       "        text-align: left;\n",
       "    }\n",
       "\n",
       "    .dataframe tbody tr th {\n",
       "        vertical-align: top;\n",
       "    }\n",
       "</style>\n",
       "<table border=\"1\" class=\"dataframe\">\n",
       "  <thead>\n",
       "    <tr style=\"text-align: right;\">\n",
       "      <th></th>\n",
       "      <th>Email Address</th>\n",
       "      <th>First Name</th>\n",
       "      <th>Last Name</th>\n",
       "      <th>Country</th>\n",
       "      <th>Segment</th>\n",
       "      <th>LangCode</th>\n",
       "      <th>Member Rating</th>\n",
       "    </tr>\n",
       "  </thead>\n",
       "  <tbody>\n",
       "    <tr>\n",
       "      <th>0</th>\n",
       "      <td>thedottorm@libero.it</td>\n",
       "      <td>NaN</td>\n",
       "      <td>NaN</td>\n",
       "      <td>NaN</td>\n",
       "      <td>NaN</td>\n",
       "      <td>NaN</td>\n",
       "      <td>1</td>\n",
       "    </tr>\n",
       "    <tr>\n",
       "      <th>1</th>\n",
       "      <td>mslusher@att.net</td>\n",
       "      <td>NaN</td>\n",
       "      <td>NaN</td>\n",
       "      <td>NaN</td>\n",
       "      <td>NaN</td>\n",
       "      <td>NaN</td>\n",
       "      <td>1</td>\n",
       "    </tr>\n",
       "    <tr>\n",
       "      <th>2</th>\n",
       "      <td>dj_sleapy@hotmail.co.uk</td>\n",
       "      <td>NaN</td>\n",
       "      <td>NaN</td>\n",
       "      <td>NaN</td>\n",
       "      <td>NaN</td>\n",
       "      <td>NaN</td>\n",
       "      <td>1</td>\n",
       "    </tr>\n",
       "  </tbody>\n",
       "</table>\n",
       "</div>"
      ],
      "text/plain": [
       "             Email Address  First Name  Last Name  Country  Segment  LangCode  \\\n",
       "0     thedottorm@libero.it         NaN        NaN      NaN      NaN       NaN   \n",
       "1         mslusher@att.net         NaN        NaN      NaN      NaN       NaN   \n",
       "2  dj_sleapy@hotmail.co.uk         NaN        NaN      NaN      NaN       NaN   \n",
       "\n",
       "   Member Rating  \n",
       "0              1  \n",
       "1              1  \n",
       "2              1  "
      ]
     },
     "execution_count": 44,
     "metadata": {},
     "output_type": "execute_result"
    }
   ],
   "source": [
    "df_agg_abuse_rand.head()"
   ]
  },
  {
   "cell_type": "code",
   "execution_count": 45,
   "metadata": {},
   "outputs": [
    {
     "data": {
      "text/plain": [
       "247"
      ]
     },
     "execution_count": 45,
     "metadata": {},
     "output_type": "execute_result"
    }
   ],
   "source": [
    "len(df_agg_bounces_rand)"
   ]
  },
  {
   "cell_type": "code",
   "execution_count": 46,
   "metadata": {},
   "outputs": [
    {
     "data": {
      "text/html": [
       "<div>\n",
       "<style>\n",
       "    .dataframe thead tr:only-child th {\n",
       "        text-align: right;\n",
       "    }\n",
       "\n",
       "    .dataframe thead th {\n",
       "        text-align: left;\n",
       "    }\n",
       "\n",
       "    .dataframe tbody tr th {\n",
       "        vertical-align: top;\n",
       "    }\n",
       "</style>\n",
       "<table border=\"1\" class=\"dataframe\">\n",
       "  <thead>\n",
       "    <tr style=\"text-align: right;\">\n",
       "      <th></th>\n",
       "      <th>Email Address</th>\n",
       "      <th>First Name</th>\n",
       "      <th>Last Name</th>\n",
       "      <th>Country</th>\n",
       "      <th>Segment</th>\n",
       "      <th>LangCode</th>\n",
       "      <th>Member Rating</th>\n",
       "      <th>Clicks</th>\n",
       "    </tr>\n",
       "  </thead>\n",
       "  <tbody>\n",
       "    <tr>\n",
       "      <th>0</th>\n",
       "      <td>barryftg@yahoo.fr</td>\n",
       "      <td>NaN</td>\n",
       "      <td>NaN</td>\n",
       "      <td>NaN</td>\n",
       "      <td>NaN</td>\n",
       "      <td>NaN</td>\n",
       "      <td>2</td>\n",
       "      <td>2</td>\n",
       "    </tr>\n",
       "    <tr>\n",
       "      <th>1</th>\n",
       "      <td>sabprodj@gmail.com</td>\n",
       "      <td>NaN</td>\n",
       "      <td>NaN</td>\n",
       "      <td>NaN</td>\n",
       "      <td>NaN</td>\n",
       "      <td>NaN</td>\n",
       "      <td>2</td>\n",
       "      <td>1</td>\n",
       "    </tr>\n",
       "    <tr>\n",
       "      <th>2</th>\n",
       "      <td>dj_cezar2000@yahoo.com</td>\n",
       "      <td>NaN</td>\n",
       "      <td>NaN</td>\n",
       "      <td>RO</td>\n",
       "      <td>rekordbox_februari</td>\n",
       "      <td>EN</td>\n",
       "      <td>4</td>\n",
       "      <td>1</td>\n",
       "    </tr>\n",
       "    <tr>\n",
       "      <th>3</th>\n",
       "      <td>rhallema@belfabriek.nl</td>\n",
       "      <td>NaN</td>\n",
       "      <td>NaN</td>\n",
       "      <td>NL</td>\n",
       "      <td>rekordbox_februari</td>\n",
       "      <td>EN</td>\n",
       "      <td>5</td>\n",
       "      <td>1</td>\n",
       "    </tr>\n",
       "    <tr>\n",
       "      <th>4</th>\n",
       "      <td>trolly@planet.nl</td>\n",
       "      <td>NaN</td>\n",
       "      <td>NaN</td>\n",
       "      <td>NaN</td>\n",
       "      <td>NaN</td>\n",
       "      <td>NaN</td>\n",
       "      <td>2</td>\n",
       "      <td>1</td>\n",
       "    </tr>\n",
       "  </tbody>\n",
       "</table>\n",
       "</div>"
      ],
      "text/plain": [
       "            Email Address  First Name  Last Name Country             Segment  \\\n",
       "0       barryftg@yahoo.fr         NaN        NaN     NaN                 NaN   \n",
       "1      sabprodj@gmail.com         NaN        NaN     NaN                 NaN   \n",
       "2  dj_cezar2000@yahoo.com         NaN        NaN      RO  rekordbox_februari   \n",
       "3  rhallema@belfabriek.nl         NaN        NaN      NL  rekordbox_februari   \n",
       "4        trolly@planet.nl         NaN        NaN     NaN                 NaN   \n",
       "\n",
       "  LangCode  Member Rating  Clicks  \n",
       "0      NaN              2       2  \n",
       "1      NaN              2       1  \n",
       "2       EN              4       1  \n",
       "3       EN              5       1  \n",
       "4      NaN              2       1  "
      ]
     },
     "execution_count": 46,
     "metadata": {},
     "output_type": "execute_result"
    }
   ],
   "source": [
    "df_agg_click_rand.head()"
   ]
  },
  {
   "cell_type": "code",
   "execution_count": 47,
   "metadata": {},
   "outputs": [
    {
     "data": {
      "text/html": [
       "<div>\n",
       "<style>\n",
       "    .dataframe thead tr:only-child th {\n",
       "        text-align: right;\n",
       "    }\n",
       "\n",
       "    .dataframe thead th {\n",
       "        text-align: left;\n",
       "    }\n",
       "\n",
       "    .dataframe tbody tr th {\n",
       "        vertical-align: top;\n",
       "    }\n",
       "</style>\n",
       "<table border=\"1\" class=\"dataframe\">\n",
       "  <thead>\n",
       "    <tr style=\"text-align: right;\">\n",
       "      <th></th>\n",
       "      <th>Email Address</th>\n",
       "      <th>First Name</th>\n",
       "      <th>Last Name</th>\n",
       "      <th>Country</th>\n",
       "      <th>Segment</th>\n",
       "      <th>LangCode</th>\n",
       "      <th>Member Rating</th>\n",
       "    </tr>\n",
       "  </thead>\n",
       "  <tbody>\n",
       "    <tr>\n",
       "      <th>0</th>\n",
       "      <td>manogg@ig.com.br</td>\n",
       "      <td>NaN</td>\n",
       "      <td>NaN</td>\n",
       "      <td>NaN</td>\n",
       "      <td>NaN</td>\n",
       "      <td>NaN</td>\n",
       "      <td>2</td>\n",
       "    </tr>\n",
       "    <tr>\n",
       "      <th>1</th>\n",
       "      <td>chase522@gmail.com</td>\n",
       "      <td>NaN</td>\n",
       "      <td>NaN</td>\n",
       "      <td>CN</td>\n",
       "      <td>rekordbox_februari</td>\n",
       "      <td>EN</td>\n",
       "      <td>1</td>\n",
       "    </tr>\n",
       "    <tr>\n",
       "      <th>2</th>\n",
       "      <td>rob@lunenburg.nl</td>\n",
       "      <td>NaN</td>\n",
       "      <td>NaN</td>\n",
       "      <td>NaN</td>\n",
       "      <td>NaN</td>\n",
       "      <td>NaN</td>\n",
       "      <td>2</td>\n",
       "    </tr>\n",
       "    <tr>\n",
       "      <th>3</th>\n",
       "      <td>barat.simon@ymail.com</td>\n",
       "      <td>NaN</td>\n",
       "      <td>NaN</td>\n",
       "      <td>FR</td>\n",
       "      <td>rekordbox_februari</td>\n",
       "      <td>EN</td>\n",
       "      <td>2</td>\n",
       "    </tr>\n",
       "    <tr>\n",
       "      <th>4</th>\n",
       "      <td>5260737@qq.com</td>\n",
       "      <td>NaN</td>\n",
       "      <td>NaN</td>\n",
       "      <td>CN</td>\n",
       "      <td>rekordbox_februari</td>\n",
       "      <td>EN</td>\n",
       "      <td>5</td>\n",
       "    </tr>\n",
       "  </tbody>\n",
       "</table>\n",
       "</div>"
      ],
      "text/plain": [
       "           Email Address  First Name  Last Name Country             Segment  \\\n",
       "0       manogg@ig.com.br         NaN        NaN     NaN                 NaN   \n",
       "1     chase522@gmail.com         NaN        NaN      CN  rekordbox_februari   \n",
       "2       rob@lunenburg.nl         NaN        NaN     NaN                 NaN   \n",
       "3  barat.simon@ymail.com         NaN        NaN      FR  rekordbox_februari   \n",
       "4         5260737@qq.com         NaN        NaN      CN  rekordbox_februari   \n",
       "\n",
       "  LangCode  Member Rating  \n",
       "0      NaN              2  \n",
       "1       EN              1  \n",
       "2      NaN              2  \n",
       "3       EN              2  \n",
       "4       EN              5  "
      ]
     },
     "execution_count": 47,
     "metadata": {},
     "output_type": "execute_result"
    }
   ],
   "source": [
    "df_agg_notop_rand.head()"
   ]
  },
  {
   "cell_type": "code",
   "execution_count": 48,
   "metadata": {},
   "outputs": [
    {
     "data": {
      "text/html": [
       "<div>\n",
       "<style>\n",
       "    .dataframe thead tr:only-child th {\n",
       "        text-align: right;\n",
       "    }\n",
       "\n",
       "    .dataframe thead th {\n",
       "        text-align: left;\n",
       "    }\n",
       "\n",
       "    .dataframe tbody tr th {\n",
       "        vertical-align: top;\n",
       "    }\n",
       "</style>\n",
       "<table border=\"1\" class=\"dataframe\">\n",
       "  <thead>\n",
       "    <tr style=\"text-align: right;\">\n",
       "      <th></th>\n",
       "      <th>Email Address</th>\n",
       "      <th>First Name</th>\n",
       "      <th>Last Name</th>\n",
       "      <th>Country</th>\n",
       "      <th>Segment</th>\n",
       "      <th>LangCode</th>\n",
       "      <th>Member Rating</th>\n",
       "      <th>Opens</th>\n",
       "    </tr>\n",
       "  </thead>\n",
       "  <tbody>\n",
       "    <tr>\n",
       "      <th>0</th>\n",
       "      <td>barryftg@yahoo.fr</td>\n",
       "      <td>NaN</td>\n",
       "      <td>NaN</td>\n",
       "      <td>NaN</td>\n",
       "      <td>NaN</td>\n",
       "      <td>NaN</td>\n",
       "      <td>2</td>\n",
       "      <td>2</td>\n",
       "    </tr>\n",
       "    <tr>\n",
       "      <th>1</th>\n",
       "      <td>sabprodj@gmail.com</td>\n",
       "      <td>NaN</td>\n",
       "      <td>NaN</td>\n",
       "      <td>NaN</td>\n",
       "      <td>NaN</td>\n",
       "      <td>NaN</td>\n",
       "      <td>2</td>\n",
       "      <td>1</td>\n",
       "    </tr>\n",
       "    <tr>\n",
       "      <th>2</th>\n",
       "      <td>Cfraanje@yahoo.com</td>\n",
       "      <td>NaN</td>\n",
       "      <td>NaN</td>\n",
       "      <td>NL</td>\n",
       "      <td>rekordbox_februari</td>\n",
       "      <td>EN</td>\n",
       "      <td>5</td>\n",
       "      <td>1</td>\n",
       "    </tr>\n",
       "    <tr>\n",
       "      <th>3</th>\n",
       "      <td>attuclott@yahoo.com</td>\n",
       "      <td>NaN</td>\n",
       "      <td>NaN</td>\n",
       "      <td>NaN</td>\n",
       "      <td>NaN</td>\n",
       "      <td>NaN</td>\n",
       "      <td>2</td>\n",
       "      <td>1</td>\n",
       "    </tr>\n",
       "    <tr>\n",
       "      <th>4</th>\n",
       "      <td>dj_cezar2000@yahoo.com</td>\n",
       "      <td>NaN</td>\n",
       "      <td>NaN</td>\n",
       "      <td>RO</td>\n",
       "      <td>rekordbox_februari</td>\n",
       "      <td>EN</td>\n",
       "      <td>4</td>\n",
       "      <td>1</td>\n",
       "    </tr>\n",
       "  </tbody>\n",
       "</table>\n",
       "</div>"
      ],
      "text/plain": [
       "            Email Address  First Name  Last Name Country             Segment  \\\n",
       "0       barryftg@yahoo.fr         NaN        NaN     NaN                 NaN   \n",
       "1      sabprodj@gmail.com         NaN        NaN     NaN                 NaN   \n",
       "2      Cfraanje@yahoo.com         NaN        NaN      NL  rekordbox_februari   \n",
       "3     attuclott@yahoo.com         NaN        NaN     NaN                 NaN   \n",
       "4  dj_cezar2000@yahoo.com         NaN        NaN      RO  rekordbox_februari   \n",
       "\n",
       "  LangCode  Member Rating  Opens  \n",
       "0      NaN              2      2  \n",
       "1      NaN              2      1  \n",
       "2       EN              5      1  \n",
       "3      NaN              2      1  \n",
       "4       EN              4      1  "
      ]
     },
     "execution_count": 48,
     "metadata": {},
     "output_type": "execute_result"
    }
   ],
   "source": [
    "df_agg_op_rand.head()"
   ]
  },
  {
   "cell_type": "code",
   "execution_count": 49,
   "metadata": {},
   "outputs": [
    {
     "data": {
      "text/html": [
       "<div>\n",
       "<style>\n",
       "    .dataframe thead tr:only-child th {\n",
       "        text-align: right;\n",
       "    }\n",
       "\n",
       "    .dataframe thead th {\n",
       "        text-align: left;\n",
       "    }\n",
       "\n",
       "    .dataframe tbody tr th {\n",
       "        vertical-align: top;\n",
       "    }\n",
       "</style>\n",
       "<table border=\"1\" class=\"dataframe\">\n",
       "  <thead>\n",
       "    <tr style=\"text-align: right;\">\n",
       "      <th></th>\n",
       "      <th>Email Address</th>\n",
       "      <th>First Name</th>\n",
       "      <th>Last Name</th>\n",
       "      <th>Country</th>\n",
       "      <th>Segment</th>\n",
       "      <th>LangCode</th>\n",
       "      <th>Member Rating</th>\n",
       "      <th>reason</th>\n",
       "      <th>description</th>\n",
       "    </tr>\n",
       "  </thead>\n",
       "  <tbody>\n",
       "    <tr>\n",
       "      <th>0</th>\n",
       "      <td>thedottorm@libero.it</td>\n",
       "      <td>NaN</td>\n",
       "      <td>NaN</td>\n",
       "      <td>NaN</td>\n",
       "      <td>NaN</td>\n",
       "      <td>NaN</td>\n",
       "      <td>1</td>\n",
       "      <td>SPAM</td>\n",
       "      <td>NaN</td>\n",
       "    </tr>\n",
       "    <tr>\n",
       "      <th>1</th>\n",
       "      <td>mslusher@att.net</td>\n",
       "      <td>NaN</td>\n",
       "      <td>NaN</td>\n",
       "      <td>NaN</td>\n",
       "      <td>NaN</td>\n",
       "      <td>NaN</td>\n",
       "      <td>1</td>\n",
       "      <td>SPAM</td>\n",
       "      <td>NaN</td>\n",
       "    </tr>\n",
       "    <tr>\n",
       "      <th>2</th>\n",
       "      <td>dj_sleapy@hotmail.co.uk</td>\n",
       "      <td>NaN</td>\n",
       "      <td>NaN</td>\n",
       "      <td>NaN</td>\n",
       "      <td>NaN</td>\n",
       "      <td>NaN</td>\n",
       "      <td>1</td>\n",
       "      <td>SPAM</td>\n",
       "      <td>NaN</td>\n",
       "    </tr>\n",
       "  </tbody>\n",
       "</table>\n",
       "</div>"
      ],
      "text/plain": [
       "             Email Address  First Name  Last Name  Country  Segment  LangCode  \\\n",
       "0     thedottorm@libero.it         NaN        NaN      NaN      NaN       NaN   \n",
       "1         mslusher@att.net         NaN        NaN      NaN      NaN       NaN   \n",
       "2  dj_sleapy@hotmail.co.uk         NaN        NaN      NaN      NaN       NaN   \n",
       "\n",
       "   Member Rating reason  description  \n",
       "0              1   SPAM          NaN  \n",
       "1              1   SPAM          NaN  \n",
       "2              1   SPAM          NaN  "
      ]
     },
     "execution_count": 49,
     "metadata": {},
     "output_type": "execute_result"
    }
   ],
   "source": [
    "df_agg_unsub_rand.head()"
   ]
  },
  {
   "cell_type": "markdown",
   "metadata": {
    "collapsed": true
   },
   "source": [
    "## Match between master campaign file and csv files"
   ]
  },
  {
   "cell_type": "code",
   "execution_count": 56,
   "metadata": {
    "collapsed": true
   },
   "outputs": [],
   "source": [
    "agg_click_list = [f for f in os.listdir(master_folder +'aggregate_activity/click_activity/')\\\n",
    " if os.path.isfile(master_folder + 'aggregate_activity/click_activity/' +f)]"
   ]
  },
  {
   "cell_type": "code",
   "execution_count": 251,
   "metadata": {},
   "outputs": [
    {
     "data": {
      "text/plain": [
       "['339741_pioneer-pdjcgen6t040-rkb-plx-500-ja.csv',\n",
       " '340577_mazda-mazdafee7w463-mazda-cheque-lux.csv',\n",
       " '336745_pioneer-pdjcgen6t040-product-e-mail-blasts-en-emailfreerb.csv',\n",
       " '339885_telenet-telndiv6t899-nl-v2.csv',\n",
       " '340053_pdj-internal-performance-report.csv',\n",
       " '340449_pioneer-professional-audio-pdjegen7t068-xprs-email-blast.csv',\n",
       " '340513_pdj-internal-performance-report-october-2017.csv',\n",
       " '339873_telenet-telndiv6t899-fr.csv',\n",
       " '340417_pioneer-dj-pdjcgen7t092-djm-s3-jp-a-b.csv',\n",
       " '339893_telenet-telndiv6t899-fr-v2.csv',\n",
       " '340069_pioneer-dj-pdjcgen6t060-toraiz-as-1-en-kuvo.csv',\n",
       " '339993_telenet-telndiv6t899-nl-verliezers.csv',\n",
       " '340029_pioneer-dj-pdjcgen6t060-toraiz-as-1-jp.csv',\n",
       " '340197_pioneer-dj-toraiz-sp-16-free-rb-combo-1.csv',\n",
       " '340241_pdj-internal-performance-report-march.csv',\n",
       " '339809_pioneer-pdjegen6t037-djm-450-en-cdj.csv',\n",
       " '340609_mazda-mazdhoc7w495-newsletter-januari-nl-3-jaar-plus-wedstrijd.csv',\n",
       " '340505_pioneer-dj-pdjcgen7t104-djm-rec-en-a-b-combo-1.csv',\n",
       " '340561_pioneer-dj-pdjcgen7t105-ddj-1000-en-a-b.csv',\n",
       " '340273_pioneer-dj-interface-2-email-blast-jp.csv',\n",
       " '340397_pioneer-dj-pdjcgen7t095-xdj-rx2-ja.csv',\n",
       " '340365_pioneer-dj-pdjcgen7t088-hdj-series-email-blast-en-a-b-combo-2.csv',\n",
       " '340281_pioneer-dj-interface-2-email-blast-a-b-combo-2.csv',\n",
       " '340113_pioneer-dj-pdjcgen7t073-djm-250mk2-jp.csv',\n",
       " '340097_pdj-internal-performance-report-january.csv',\n",
       " '340421_pioneer-dj-pdjcgen7t092-djm-s3-jp-a-b-combo-1.csv',\n",
       " '340333_pioneer-dj-pdjcgen7t088-hdj-series-email-blast-jp.csv',\n",
       " '340473_pdj-internal-performance-report-september-2017.csv',\n",
       " '339941_telenet-telndiv6t899-nl-v5.csv',\n",
       " '340325_pioneer-dj-pdjcgen7t096-rekordbox-5-0-en.csv',\n",
       " '336677_pioneer-pdjcgen6t040-product-e-mail-blasts-ja.csv',\n",
       " '339817_pdj-rekordbox-survey.csv',\n",
       " '340341_pioneer-dj-pdjcgen7t088-hdj-series-email-blast-en-a-b-combo-1.csv',\n",
       " '340585_pdj-internal-performance-report-december-2017.csv',\n",
       " '340289_pioneer-dj-djm-750mk2-blast.csv',\n",
       " '340157_pioneer-dj-pioneer-dj-account-edm-en-register.csv',\n",
       " '340161_pdj-internal-performance-report-february.csv',\n",
       " '340469_pioneer-dj-pdjegen7t063-ade.csv',\n",
       " '340373_pioneer-dj-pdjcgen7t088-hdj-series-email-blast-en-a-b-winner.csv',\n",
       " '339897_telenet-telndiv6t899-nl-v3.csv',\n",
       " '339833_pioneer-dj-pdjcgen6t059-ddj-sz2-en-cdj.csv',\n",
       " '340501_pioneer-dj-pdjcgen7t104-djm-rec-en-a-b.csv',\n",
       " '340017_telenet-telndiv6t899-en-winnaars-t-shirt.csv',\n",
       " '339721_pioneer-pdjcgen6t040-rekordbox-4-2-1-ja.csv',\n",
       " '340629_mazda-mazdfee7w463-mazda-autosalon-extra.csv',\n",
       " '339969_telenet-telndiv6t899-nl-winnaars-hoofdprijs.csv',\n",
       " '340101_nativenation-brands-mail.csv',\n",
       " '339901_telenet-telndiv6t899-fr-v3.csv',\n",
       " '340225_pioneer-dj-toraiz-sp-16-kuvo-winner.csv',\n",
       " '340345_pioneer-dj-pdjcgen7t091-ddjsr2-jp.csv',\n",
       " '340277_pdj-internal-performance-report-june-2017.csv',\n",
       " '340001_telenet-telndiv6t899-fr-winnaars-kussen.csv',\n",
       " '339877_telenet-telndiv6t899-en.csv',\n",
       " '340217_pioneer-dj-toraiz-sp-16-cdjuser-combo-2.csv',\n",
       " '340661_pdj-internal-performance-report-january-2018.csv',\n",
       " '340181_pioneer-dj-toraiz-sp-16-emailnews-combo-1.csv',\n",
       " '340233_pioneer-dj-toraiz-sp-16-cdjuser-winner.csv',\n",
       " '340229_pioneer-dj-toraiz-sp-16-free-rb-winner.csv',\n",
       " '340693_pioneer-dj-pdjcgen7t106-rekordbox-lighting-mode-de.csv',\n",
       " '340257_pioneer-dj-interface-2-email-blast-a-b.csv',\n",
       " '339917_telenet-telndiv6t899-nl-v4.csv',\n",
       " '334661_pioneer-pdjcgen6t040-product-e-mail-blasts-en-cdjuser.csv',\n",
       " '340557_pdj-internal-performance-report-november-2017.csv',\n",
       " '336741_pioneer-pdjcgen6t040-product-e-mail-blasts-en-emailnews.csv',\n",
       " '339889_telenet-telndiv6t899-en-copy-01-.csv',\n",
       " '340601_mazda-mazdhoc7w495-newsletter-januari-nl-3-jaar-plus-wedstrijd.csv',\n",
       " '340461_pioneer-dj-pdjcgen7t099-djs1000-en-a-b-combo-1.csv',\n",
       " '340645_pioneer-dj-pdjcgen7t104-djm-rec-en-a-b-combo-2.csv',\n",
       " '340521_these-days-tdbegen7t751-gabc-2017-en.csv',\n",
       " '340409_pioneer-dj-pdjcgen7t092-djm-s3-en-a-b.csv',\n",
       " '340145_pioneer-dj-pioneer-dj-account-edm-jp-kuvo.csv',\n",
       " '339933_pioneer-dj-pdjcgen6t059-ddj-sz2-en-freerb.csv',\n",
       " '340005_telenet-telndiv6t899-fr-winnaars-t-shirt.csv',\n",
       " '340669_pioneer-dj-pdjcgen7t106-rekordbox-lighting-mode-en.csv',\n",
       " '340037_welcome.csv',\n",
       " '340153_pioneer-dj-pioneer-dj-account-edm-en-kuvo.csv',\n",
       " '340125_pioneer-dj-pdjcgen7t073-djm-250mk2-en-kuvo.csv',\n",
       " '339861_pioneer-dj-pdjcgen6t059-ddj-sz2-jp.csv',\n",
       " '340641_pdj-kuvo-email-blast-jp.csv',\n",
       " '340209_pioneer-dj-toraiz-sp-16-kuvo-combo-2.csv',\n",
       " '339953_telenet-telndiv6t899-nl-v6.csv',\n",
       " '340121_pioneer-dj-pdjcgen7t073-djm-250mk2-en-cdjuser.csv',\n",
       " '340329_pioneer-dj-pdjcgen7t089-ddjxp1-en.csv',\n",
       " '340617_mazda-mazdhoc7w495-newsletter-januari-fr-3-jaar.csv',\n",
       " '339845_pioneer-pdjcgen6t058-wedj-iphone-en-kuvo.csv',\n",
       " '339797_pioneer-pdjcgen6t040-ddj-wego4-en-freerb.csv',\n",
       " '340213_pioneer-dj-toraiz-sp-16-free-rb-combo-2.csv',\n",
       " '340293_pioneer-dj-djm-750mk2-a-b-en.csv',\n",
       " '340201_pioneer-dj-toraiz-sp-16-kuvo.csv',\n",
       " '340489_pioneer-dj-pdjcgen7t101-dm-40bt-jp.csv',\n",
       " '340021_telenet-telndiv6t899-en-verliezers.csv',\n",
       " '339945_telenet-telndiv6t899-fr-v5.csv',\n",
       " '339929_pioneer-dj-pdjcgen6t059-ddj-sz2-en-emailnews.csv',\n",
       " '340245_pdj-internal-performance-report-april.csv',\n",
       " '340525_these-days-tdbegen7t751-gabc-2017-en-copy-01-.csv',\n",
       " '339957_telenet-telndiv6t899-fr-v6.csv',\n",
       " '340529_pioneer-professional-audio-pdjxxx-xprs-warranty-extension.csv',\n",
       " '339805_pioneer-pdjegen6t037-djm-450-en-emailnews.csv',\n",
       " '339829_pioneer-pdjegen6t037-wedj-iphone-jp.csv',\n",
       " '340249_nativenation-newsletter-may-2017.csv',\n",
       " '339905_telenet-telndiv6t899-en-copy-02-.csv',\n",
       " '340621_mazda-mazdhoc7w495-newsletter-januari-fr-3-jaar.csv',\n",
       " '340593_mazda-mazdhoc7w495-newsletter-januari-nl-prospect-plus-wedstrijd.csv',\n",
       " '340189_pioneer-dj-toraiz-sp-16-cdjuser-combo-1.csv',\n",
       " '340221_pioneer-dj-toraiz-sp-16-emailnews-combo-2.csv',\n",
       " '340401_pioneer-dj-pdjcgen7t089-rekordbox-5-0-ja.csv',\n",
       " '340117_pioneer-dj-pioneer-dj-account-edm-jp-forum.csv',\n",
       " '340453_pioneer-dj-pdjcgen7t101-dm-40bt-en.csv',\n",
       " '340581_pioneer-dj-pdjcgen7t106-rekordbox-5-1.csv',\n",
       " '340673_pioneer-dj-pdjcgen7t106-rekordbox-lighting-mode-jp.csv',\n",
       " '340093_pioneer-dj-pioneer-dj-account-edm-en-forum.csv',\n",
       " '339981_telenet-telndiv6t899-nl-winnaars-mok.csv',\n",
       " '340637_pdj-kuvo-email-blast.csv',\n",
       " '340605_mazda-mazdhoc7w495-newsletter-januari-nl-3-jaar-min-wedstrijd.csv',\n",
       " '340237_pioneer-dj-toraiz-sp-16-emailnews-winner.csv',\n",
       " '340065_pioneer-dj-pdjcgen6t060-toraiz-as-1-en-freerb.csv',\n",
       " '339837_pioneer-pdjcgen6t058-wedj-iphone-en-emailnews.csv',\n",
       " '340313_pioneer-dj-djm-750mk2-a-b-en-winner.csv',\n",
       " '340337_pioneer-dj-pdjcgen7t088-hdj-series-email-blast-en-a-b.csv',\n",
       " '339997_telenet-telndiv6t899-fr-winnaars-mok.csv',\n",
       " '339725_pioneer-pdjcgen6t040-rekordbox-4-2-1-en.csv',\n",
       " '340141_pioneer-dj-pdjcgen7t079-sp16-jp.csv',\n",
       " '339949_telenet-telndiv6t899-en-v5.csv',\n",
       " '340569_pioneer-dj-pdjcgen7t105-ddj-1000-en-a-b-combo-2.csv',\n",
       " '340589_mazda-mazdhoc7w495-newsletter-januari-nl-prospect-min-wedstrijd.csv',\n",
       " '340185_pioneer-dj-toraiz-sp-16-cdjuser.csv',\n",
       " '340013_telenet-telndiv6t899-en-winnaars-mok.csv',\n",
       " '340061_pioneer-dj-pdjcgen6t060-toraiz-as-1-en-emailnews.csv',\n",
       " '340009_telenet-telndiv6t899-fr-verliezers.csv',\n",
       " '339921_telenet-telndiv6t899-fr-v4.csv',\n",
       " '340649_pioneer-dj-pdjcgen7t104-djm-rec-en-a-b-winner.csv',\n",
       " '339729_pioneer-pdjcgen6t040-rkb-plx-500-en-emailfreerb.csv',\n",
       " '340497_pioneer-dj-pdjcgen7t099-djs1000-en-a-b-winner.csv',\n",
       " '340613_mazda-mazdhoc7w495-newsletter-januari-fr-prospect-.csv',\n",
       " '340465_pioneer-dj-pdjcgen7t099-djs1000-jp.csv',\n",
       " '339737_pioneer-pdjcgen6t040-rkb-plx-500-en-cdjuser.csv',\n",
       " '340361_pioneer-dj-pdjcgen7t089-ddjxp1-jp.csv',\n",
       " '340425_pioneer-dj-pdjcgen7t092-djm-s3-jp-a-b-combo-2.csv',\n",
       " '340129_pioneer-dj-pdjcgen7t073-djm-250mk2-en-emailnews.csv',\n",
       " '340133_pioneer-dj-pdjcgen7t073-djm-250mk2-en-freerb.csv',\n",
       " '339757_pioneer-pdjcgen6t040-xdj-1000mk2-en-emailnews.csv',\n",
       " '340433_pioneer-professional-audio-pdjegen7t066-xy-3b-email-blast.csv',\n",
       " '339821_pdj-rekordbox-video-public-beta.csv',\n",
       " '340285_pioneer-dj-interface-2-email-blast-a-b-winner.csv',\n",
       " '340261_pioneer-dj-interface-2-email-blast-a-b-combo-1.csv',\n",
       " '339825_pioneer-pdjcgen6t058-wedj-iphone-en-cdj.csv',\n",
       " '339777_pioneer-pdjcgen6t040-ddj-wego4-ja.csv',\n",
       " '340385_pdj-internal-performance-report-august-2017.csv',\n",
       " '339733_pioneer-pdjcgen6t040-rkb-plx-500-en-emailnews.csv',\n",
       " '340633_pioneer-dj-pdjcgen7t105-ddj-1000-en-a-b-winner.csv',\n",
       " '340317_pdj-internal-performance-report-july-2017.csv',\n",
       " '339773_pioneer-pdjcgen6t040-ddj-wego4-en-cdj.csv',\n",
       " '340033_native-nation-waitinglist.csv',\n",
       " '339769_pioneer-pdjcgen6t040-xdj-1000mk2-ja-resend.csv',\n",
       " '340437_pioneer-dj-pdjcgen7t095-xdj-rx2-en-v2.csv',\n",
       " '339749_pioneer-pdjcgen6t040-xdj-1000mk2-ja.csv',\n",
       " '340297_pioneer-dj-djm-750mk2-a-b-en-combo-1.csv',\n",
       " '339985_telenet-telndiv6t899-nl-winnaars-kussen.csv',\n",
       " '340565_pioneer-dj-pdjcgen7t105-ddj-1000-en-a-b-combo-1.csv',\n",
       " '340253_pdj-internal-performance-report-may.csv',\n",
       " '340309_pioneer-dj-djm-750mk2-a-b-en-combo-2.csv',\n",
       " '339761_pioneer-pdjcgen6t040-xdj-1000mk2-en-cdj.csv',\n",
       " '339801_pioneer-pdjcgen6t040-ddj-wego4-en-emailnews.csv',\n",
       " '340597_mazda-mazdhoc7w495-newsletter-januari-nl-3-jaar-min-wedstrijd.csv',\n",
       " '340205_pioneer-dj-toraiz-sp-16-kuvo-combo-1.csv',\n",
       " '340193_pioneer-dj-toraiz-sp-16-free-rb.csv',\n",
       " '340697_pioneer-dj-pdjcgen7t106-rekordbox-lighting-mode-es.csv',\n",
       " '340057_pioneer-dj-pdjcgen6t060-toraiz-as-1-en-cdjuser.csv',\n",
       " '339753_pioneer-pdjcgen6t040-xdj-1000mk2-en-free-rb.csv',\n",
       " '340413_pioneer-dj-pdjcgen7t092-djm-s3-en-a-b-combo-1.csv',\n",
       " '339961_telenet-telndiv6t899-en-v6.csv',\n",
       " '340177_pioneer-dj-toraiz-sp-16-emailnews.csv',\n",
       " '340429_pioneer-dj-pdjcgen7t092-djm-s3-en-a-b-combo-2.csv',\n",
       " '339937_pioneer-dj-pdjcgen6t059-ddj-sz2-en-kuvo.csv',\n",
       " '339841_pioneer-pdjcgen6t058-wedj-iphone-en-freerb.csv',\n",
       " '340149_pioneer-dj-pioneer-dj-account-edm-jp-register.csv',\n",
       " '339925_telenet-telndiv6t899-en-v4.csv',\n",
       " '340457_pioneer-dj-pdjcgen7t099-djs1000-en-a-b.csv',\n",
       " '339865_telenet-telndiv6t899-nl.csv',\n",
       " '339793_pioneer-pdjegen6t037-djm-450-jp.csv',\n",
       " '339789_pioneer-pdjegen6t037-djm-450-en-freerb.csv',\n",
       " '339989_telenet-telndiv6t899-nl-winnaars-t-shirt.csv',\n",
       " '340517_pioneer-dj-pdjcgen7t104-djm-rec-jp.csv',\n",
       " '340349_pioneer-dj-pdjcgen7t091-ddjsr2-en.csv',\n",
       " '340573_pioneer-dj-pdjcgen7t105-ddj-1000-jp.csv',\n",
       " '340493_pioneer-dj-pdjcgen7t099-djs1000-en-a-b-combo-2.csv']"
      ]
     },
     "execution_count": 251,
     "metadata": {},
     "output_type": "execute_result"
    }
   ],
   "source": [
    "agg_click_lis"
   ]
  },
  {
   "cell_type": "code",
   "execution_count": 284,
   "metadata": {
    "collapsed": true
   },
   "outputs": [],
   "source": [
    "import re\n",
    "\n",
    "#fucntion to find the row in the campaign master file based on name of individual files in other folder\n",
    "\n",
    "def find_row(file_searched):\n",
    "    file = re.split(\"[_\\-.]\",file_searched)\n",
    "    regex1 = re.compile(\"(^[0-9]+$)\")\n",
    "    regex2 = re.compile(\"(csv)\")\n",
    "    filtered = list(filter(lambda i: not regex1.search(i), file))\n",
    "    filtered = list(filter(lambda i: not regex2.search(i), filtered))\n",
    "    regexp = re.compile('|'.join(filtered),re.IGNORECASE)\n",
    "    return df_campaigns[df_campaigns['Title'].apply( lambda x: len(re.findall(regexp, x)) == len(filtered))]\\\n",
    "    .index.values"
   ]
  },
  {
   "cell_type": "code",
   "execution_count": 285,
   "metadata": {},
   "outputs": [
    {
     "data": {
      "text/plain": [
       "array([  4,  28,  30,  34,  42,  58,  66,  72,  78,  79,  81,  99, 112,\n",
       "       118])"
      ]
     },
     "execution_count": 285,
     "metadata": {},
     "output_type": "execute_result"
    }
   ],
   "source": [
    "find_row(agg_click_list[4])"
   ]
  },
  {
   "cell_type": "code",
   "execution_count": 278,
   "metadata": {},
   "outputs": [],
   "source": [
    "match_file_campaign = []\n",
    "for i in range(len(agg_click_list)):\n",
    "    match_file_campaign.append(find_row(agg_click_list[i]))"
   ]
  },
  {
   "cell_type": "code",
   "execution_count": 286,
   "metadata": {},
   "outputs": [
    {
     "name": "stdout",
     "output_type": "stream",
     "text": [
      "339889_telenet-telndiv6t899-en-copy-01-.csv\n",
      "340037_welcome.csv\n",
      "340525_these-days-tdbegen7t751-gabc-2017-en-copy-01-.csv\n",
      "339905_telenet-telndiv6t899-en-copy-02-.csv\n",
      "340613_mazda-mazdhoc7w495-newsletter-januari-fr-prospect-.csv\n",
      "340033_native-nation-waitinglist.csv\n"
     ]
    }
   ],
   "source": [
    "for i, k in enumerate(match_file_campaign):\n",
    "    if len(match_file_campaign[i]) == 0:\n",
    "        print(agg_click_list[i])"
   ]
  },
  {
   "cell_type": "markdown",
   "metadata": {},
   "source": [
    "## Join aggregate activity files"
   ]
  },
  {
   "cell_type": "code",
   "execution_count": 370,
   "metadata": {},
   "outputs": [
    {
     "ename": "KeyError",
     "evalue": "\"['Emai l Address'] not in index\"",
     "output_type": "error",
     "traceback": [
      "\u001b[0;31m---------------------------------------------------------------------------\u001b[0m",
      "\u001b[0;31mKeyError\u001b[0m                                  Traceback (most recent call last)",
      "\u001b[0;32m<ipython-input-370-2d835148547d>\u001b[0m in \u001b[0;36m<module>\u001b[0;34m()\u001b[0m\n\u001b[0;32m----> 1\u001b[0;31m \u001b[0mdf_join\u001b[0m \u001b[0;34m=\u001b[0m \u001b[0mdf_agg_abuse_rand\u001b[0m\u001b[0;34m[\u001b[0m\u001b[0;34m[\u001b[0m\u001b[0;34m'Email Address'\u001b[0m\u001b[0;34m,\u001b[0m \u001b[0;34m'Member Rating'\u001b[0m\u001b[0;34m]\u001b[0m\u001b[0;34m]\u001b[0m\u001b[0;34m.\u001b[0m\u001b[0mmerge\u001b[0m\u001b[0;34m(\u001b[0m\u001b[0mdf_agg_bounces_rand\u001b[0m\u001b[0;34m[\u001b[0m\u001b[0;34m[\u001b[0m\u001b[0;34m'Email Address'\u001b[0m\u001b[0;34m,\u001b[0m\u001b[0;34m'Member Rating'\u001b[0m\u001b[0;34m,\u001b[0m \u001b[0;34m'Bounce Type'\u001b[0m\u001b[0;34m]\u001b[0m\u001b[0;34m]\u001b[0m\u001b[0;34m.\u001b[0m\u001b[0mrename\u001b[0m\u001b[0;34m(\u001b[0m\u001b[0mindex\u001b[0m \u001b[0;34m=\u001b[0m \u001b[0mstr\u001b[0m\u001b[0;34m,\u001b[0m \u001b[0mcolumns\u001b[0m\u001b[0;34m=\u001b[0m\u001b[0;34m{\u001b[0m\u001b[0;34m\"Member Rating\"\u001b[0m\u001b[0;34m:\u001b[0m\u001b[0;34m\"Member Rating_1\"\u001b[0m\u001b[0;34m}\u001b[0m\u001b[0;34m)\u001b[0m\u001b[0;34m,\u001b[0m       \u001b[0mon\u001b[0m \u001b[0;34m=\u001b[0m \u001b[0;34m'Email Address'\u001b[0m\u001b[0;34m,\u001b[0m \u001b[0mhow\u001b[0m \u001b[0;34m=\u001b[0m \u001b[0;34m'outer'\u001b[0m\u001b[0;34m)\u001b[0m\u001b[0;34m.\u001b[0m\u001b[0mmerge\u001b[0m\u001b[0;34m(\u001b[0m\u001b[0mdf_agg_click_rand\u001b[0m\u001b[0;34m[\u001b[0m\u001b[0;34m[\u001b[0m\u001b[0;34m'Email Address'\u001b[0m\u001b[0;34m,\u001b[0m \u001b[0;34m'Country'\u001b[0m\u001b[0;34m,\u001b[0m \u001b[0;34m'Segment'\u001b[0m\u001b[0;34m,\u001b[0m \u001b[0;34m'LangCode'\u001b[0m\u001b[0;34m,\u001b[0m \u001b[0;34m'Member Rating'\u001b[0m\u001b[0;34m,\u001b[0m \u001b[0;34m'Clicks'\u001b[0m\u001b[0;34m]\u001b[0m\u001b[0;34m]\u001b[0m\u001b[0;34m.\u001b[0m\u001b[0mrename\u001b[0m\u001b[0;34m(\u001b[0m\u001b[0mindex\u001b[0m \u001b[0;34m=\u001b[0m \u001b[0mstr\u001b[0m\u001b[0;34m,\u001b[0m \u001b[0mcolumns\u001b[0m\u001b[0;34m=\u001b[0m\u001b[0;34m{\u001b[0m\u001b[0;34m\"Member Rating\"\u001b[0m\u001b[0;34m:\u001b[0m\u001b[0;34m\"Member Rating_2\"\u001b[0m\u001b[0;34m}\u001b[0m\u001b[0;34m)\u001b[0m\u001b[0;34m,\u001b[0m       \u001b[0mon\u001b[0m \u001b[0;34m=\u001b[0m \u001b[0;34m'Email Address'\u001b[0m\u001b[0;34m,\u001b[0m \u001b[0mhow\u001b[0m \u001b[0;34m=\u001b[0m \u001b[0;34m'outer'\u001b[0m\u001b[0;34m)\u001b[0m\u001b[0;34m.\u001b[0m\u001b[0mmerge\u001b[0m\u001b[0;34m(\u001b[0m\u001b[0mdf_agg_notop_rand\u001b[0m\u001b[0;34m[\u001b[0m\u001b[0;34m[\u001b[0m\u001b[0;34m'Email Address'\u001b[0m\u001b[0;34m,\u001b[0m \u001b[0;34m'Country'\u001b[0m\u001b[0;34m,\u001b[0m \u001b[0;34m'Segment'\u001b[0m\u001b[0;34m,\u001b[0m \u001b[0;34m'LangCode'\u001b[0m\u001b[0;34m,\u001b[0m \u001b[0;34m'Member Rating'\u001b[0m\u001b[0;34m]\u001b[0m\u001b[0;34m]\u001b[0m\u001b[0;34m.\u001b[0m\u001b[0mrename\u001b[0m\u001b[0;34m(\u001b[0m\u001b[0mindex\u001b[0m \u001b[0;34m=\u001b[0m \u001b[0mstr\u001b[0m\u001b[0;34m,\u001b[0m \u001b[0mcolumns\u001b[0m\u001b[0;34m=\u001b[0m\u001b[0;34m{\u001b[0m\u001b[0;34m\"Member Rating\"\u001b[0m\u001b[0;34m:\u001b[0m\u001b[0;34m\"Member Rating_3\"\u001b[0m\u001b[0;34m}\u001b[0m\u001b[0;34m)\u001b[0m\u001b[0;34m,\u001b[0m       \u001b[0mon\u001b[0m \u001b[0;34m=\u001b[0m \u001b[0;34m'Email Address'\u001b[0m\u001b[0;34m,\u001b[0m \u001b[0mhow\u001b[0m \u001b[0;34m=\u001b[0m \u001b[0;34m'outer'\u001b[0m\u001b[0;34m)\u001b[0m\u001b[0;34m.\u001b[0m\u001b[0mmerge\u001b[0m\u001b[0;34m(\u001b[0m\u001b[0mdf_agg_op_rand\u001b[0m\u001b[0;34m[\u001b[0m\u001b[0;34m[\u001b[0m\u001b[0;34m'Emai l Address'\u001b[0m\u001b[0;34m,\u001b[0m \u001b[0;34m'Country'\u001b[0m\u001b[0;34m,\u001b[0m \u001b[0;34m'Segment'\u001b[0m\u001b[0;34m,\u001b[0m \u001b[0;34m'LangCode'\u001b[0m\u001b[0;34m,\u001b[0m \u001b[0;34m'Member Rating'\u001b[0m\u001b[0;34m]\u001b[0m\u001b[0;34m]\u001b[0m\u001b[0;34m.\u001b[0m\u001b[0mrename\u001b[0m\u001b[0;34m(\u001b[0m\u001b[0mindex\u001b[0m \u001b[0;34m=\u001b[0m \u001b[0mstr\u001b[0m\u001b[0;34m,\u001b[0m \u001b[0mcolumns\u001b[0m\u001b[0;34m=\u001b[0m\u001b[0;34m{\u001b[0m\u001b[0;34m\"Member Rating\"\u001b[0m\u001b[0;34m:\u001b[0m\u001b[0;34m\"Member Rating_4\"\u001b[0m\u001b[0;34m}\u001b[0m\u001b[0;34m)\u001b[0m\u001b[0;34m,\u001b[0m       \u001b[0mon\u001b[0m \u001b[0;34m=\u001b[0m \u001b[0;34m'Email Address'\u001b[0m\u001b[0;34m,\u001b[0m \u001b[0mhow\u001b[0m \u001b[0;34m=\u001b[0m \u001b[0;34m'outer'\u001b[0m\u001b[0;34m)\u001b[0m\u001b[0;34m.\u001b[0m\u001b[0mmerge\u001b[0m\u001b[0;34m(\u001b[0m\u001b[0mdf_agg_unsub_rand\u001b[0m\u001b[0;34m[\u001b[0m\u001b[0;34m[\u001b[0m\u001b[0;34m'Email Address'\u001b[0m\u001b[0;34m,\u001b[0m \u001b[0;34m'Member Rating'\u001b[0m\u001b[0;34m]\u001b[0m\u001b[0;34m]\u001b[0m\u001b[0;34m.\u001b[0m\u001b[0mrename\u001b[0m\u001b[0;34m(\u001b[0m\u001b[0mindex\u001b[0m \u001b[0;34m=\u001b[0m \u001b[0mstr\u001b[0m\u001b[0;34m,\u001b[0m \u001b[0mcolumns\u001b[0m\u001b[0;34m=\u001b[0m\u001b[0;34m{\u001b[0m\u001b[0;34m\"Member Rating\"\u001b[0m\u001b[0;34m:\u001b[0m\u001b[0;34m\"Member Rating_5\"\u001b[0m\u001b[0;34m}\u001b[0m\u001b[0;34m)\u001b[0m\u001b[0;34m,\u001b[0m       \u001b[0mon\u001b[0m \u001b[0;34m=\u001b[0m \u001b[0;34m'Email Address'\u001b[0m\u001b[0;34m,\u001b[0m \u001b[0mhow\u001b[0m \u001b[0;34m=\u001b[0m \u001b[0;34m'outer'\u001b[0m\u001b[0;34m)\u001b[0m\u001b[0;34m\u001b[0m\u001b[0m\n\u001b[0m",
      "\u001b[0;32m~/anaconda3/lib/python3.6/site-packages/pandas/core/frame.py\u001b[0m in \u001b[0;36m__getitem__\u001b[0;34m(self, key)\u001b[0m\n\u001b[1;32m   1956\u001b[0m         \u001b[0;32mif\u001b[0m \u001b[0misinstance\u001b[0m\u001b[0;34m(\u001b[0m\u001b[0mkey\u001b[0m\u001b[0;34m,\u001b[0m \u001b[0;34m(\u001b[0m\u001b[0mSeries\u001b[0m\u001b[0;34m,\u001b[0m \u001b[0mnp\u001b[0m\u001b[0;34m.\u001b[0m\u001b[0mndarray\u001b[0m\u001b[0;34m,\u001b[0m \u001b[0mIndex\u001b[0m\u001b[0;34m,\u001b[0m \u001b[0mlist\u001b[0m\u001b[0;34m)\u001b[0m\u001b[0;34m)\u001b[0m\u001b[0;34m:\u001b[0m\u001b[0;34m\u001b[0m\u001b[0m\n\u001b[1;32m   1957\u001b[0m             \u001b[0;31m# either boolean or fancy integer index\u001b[0m\u001b[0;34m\u001b[0m\u001b[0;34m\u001b[0m\u001b[0m\n\u001b[0;32m-> 1958\u001b[0;31m             \u001b[0;32mreturn\u001b[0m \u001b[0mself\u001b[0m\u001b[0;34m.\u001b[0m\u001b[0m_getitem_array\u001b[0m\u001b[0;34m(\u001b[0m\u001b[0mkey\u001b[0m\u001b[0;34m)\u001b[0m\u001b[0;34m\u001b[0m\u001b[0m\n\u001b[0m\u001b[1;32m   1959\u001b[0m         \u001b[0;32melif\u001b[0m \u001b[0misinstance\u001b[0m\u001b[0;34m(\u001b[0m\u001b[0mkey\u001b[0m\u001b[0;34m,\u001b[0m \u001b[0mDataFrame\u001b[0m\u001b[0;34m)\u001b[0m\u001b[0;34m:\u001b[0m\u001b[0;34m\u001b[0m\u001b[0m\n\u001b[1;32m   1960\u001b[0m             \u001b[0;32mreturn\u001b[0m \u001b[0mself\u001b[0m\u001b[0;34m.\u001b[0m\u001b[0m_getitem_frame\u001b[0m\u001b[0;34m(\u001b[0m\u001b[0mkey\u001b[0m\u001b[0;34m)\u001b[0m\u001b[0;34m\u001b[0m\u001b[0m\n",
      "\u001b[0;32m~/anaconda3/lib/python3.6/site-packages/pandas/core/frame.py\u001b[0m in \u001b[0;36m_getitem_array\u001b[0;34m(self, key)\u001b[0m\n\u001b[1;32m   2000\u001b[0m             \u001b[0;32mreturn\u001b[0m \u001b[0mself\u001b[0m\u001b[0;34m.\u001b[0m\u001b[0mtake\u001b[0m\u001b[0;34m(\u001b[0m\u001b[0mindexer\u001b[0m\u001b[0;34m,\u001b[0m \u001b[0maxis\u001b[0m\u001b[0;34m=\u001b[0m\u001b[0;36m0\u001b[0m\u001b[0;34m,\u001b[0m \u001b[0mconvert\u001b[0m\u001b[0;34m=\u001b[0m\u001b[0;32mFalse\u001b[0m\u001b[0;34m)\u001b[0m\u001b[0;34m\u001b[0m\u001b[0m\n\u001b[1;32m   2001\u001b[0m         \u001b[0;32melse\u001b[0m\u001b[0;34m:\u001b[0m\u001b[0;34m\u001b[0m\u001b[0m\n\u001b[0;32m-> 2002\u001b[0;31m             \u001b[0mindexer\u001b[0m \u001b[0;34m=\u001b[0m \u001b[0mself\u001b[0m\u001b[0;34m.\u001b[0m\u001b[0mloc\u001b[0m\u001b[0;34m.\u001b[0m\u001b[0m_convert_to_indexer\u001b[0m\u001b[0;34m(\u001b[0m\u001b[0mkey\u001b[0m\u001b[0;34m,\u001b[0m \u001b[0maxis\u001b[0m\u001b[0;34m=\u001b[0m\u001b[0;36m1\u001b[0m\u001b[0;34m)\u001b[0m\u001b[0;34m\u001b[0m\u001b[0m\n\u001b[0m\u001b[1;32m   2003\u001b[0m             \u001b[0;32mreturn\u001b[0m \u001b[0mself\u001b[0m\u001b[0;34m.\u001b[0m\u001b[0mtake\u001b[0m\u001b[0;34m(\u001b[0m\u001b[0mindexer\u001b[0m\u001b[0;34m,\u001b[0m \u001b[0maxis\u001b[0m\u001b[0;34m=\u001b[0m\u001b[0;36m1\u001b[0m\u001b[0;34m,\u001b[0m \u001b[0mconvert\u001b[0m\u001b[0;34m=\u001b[0m\u001b[0;32mTrue\u001b[0m\u001b[0;34m)\u001b[0m\u001b[0;34m\u001b[0m\u001b[0m\n\u001b[1;32m   2004\u001b[0m \u001b[0;34m\u001b[0m\u001b[0m\n",
      "\u001b[0;32m~/anaconda3/lib/python3.6/site-packages/pandas/core/indexing.py\u001b[0m in \u001b[0;36m_convert_to_indexer\u001b[0;34m(self, obj, axis, is_setter)\u001b[0m\n\u001b[1;32m   1229\u001b[0m                 \u001b[0mmask\u001b[0m \u001b[0;34m=\u001b[0m \u001b[0mcheck\u001b[0m \u001b[0;34m==\u001b[0m \u001b[0;34m-\u001b[0m\u001b[0;36m1\u001b[0m\u001b[0;34m\u001b[0m\u001b[0m\n\u001b[1;32m   1230\u001b[0m                 \u001b[0;32mif\u001b[0m \u001b[0mmask\u001b[0m\u001b[0;34m.\u001b[0m\u001b[0many\u001b[0m\u001b[0;34m(\u001b[0m\u001b[0;34m)\u001b[0m\u001b[0;34m:\u001b[0m\u001b[0;34m\u001b[0m\u001b[0m\n\u001b[0;32m-> 1231\u001b[0;31m                     \u001b[0;32mraise\u001b[0m \u001b[0mKeyError\u001b[0m\u001b[0;34m(\u001b[0m\u001b[0;34m'%s not in index'\u001b[0m \u001b[0;34m%\u001b[0m \u001b[0mobjarr\u001b[0m\u001b[0;34m[\u001b[0m\u001b[0mmask\u001b[0m\u001b[0;34m]\u001b[0m\u001b[0;34m)\u001b[0m\u001b[0;34m\u001b[0m\u001b[0m\n\u001b[0m\u001b[1;32m   1232\u001b[0m \u001b[0;34m\u001b[0m\u001b[0m\n\u001b[1;32m   1233\u001b[0m                 \u001b[0;32mreturn\u001b[0m \u001b[0m_values_from_object\u001b[0m\u001b[0;34m(\u001b[0m\u001b[0mindexer\u001b[0m\u001b[0;34m)\u001b[0m\u001b[0;34m\u001b[0m\u001b[0m\n",
      "\u001b[0;31mKeyError\u001b[0m: \"['Emai l Address'] not in index\""
     ]
    }
   ],
   "source": [
    "df_join = df_agg_abuse_rand[['Email Address', 'Member Rating']]\\\n",
    ".merge(df_agg_bounces_rand[['Email Address','Member Rating', 'Bounce Type']].rename(index = str, columns={\"Member Rating\":\"Member Rating_1\"}),\\\n",
    "       on = 'Email Address', how = 'outer')\\\n",
    ".merge(df_agg_click_rand[['Email Address', 'Country', 'Segment', 'LangCode', 'Member Rating', 'Clicks']].rename(index = str, columns={\"Member Rating\":\"Member Rating_2\"}),\\\n",
    "       on = 'Email Address', how = 'outer')\\\n",
    ".merge(df_agg_notop_rand[['Email Address', 'Country', 'Segment', 'LangCode', 'Member Rating']].rename(index = str, columns={\"Member Rating\":\"Member Rating_3\"}),\\\n",
    "       on = 'Email Address', how = 'outer')\\\n",
    ".merge(df_agg_op_rand[['Emai l Address', 'Country', 'Segment', 'LangCode', 'Member Rating']].rename(index = str, columns={\"Member Rating\":\"Member Rating_4\"}),\\\n",
    "       on = 'Email Address', how = 'outer')\\\n",
    ".merge(df_agg_unsub_rand[['Email Address', 'Member Rating']].rename(index = str, columns={\"Member Rating\":\"Member Rating_5\"}),\\\n",
    "       on = 'Email Address', how = 'outer')"
   ]
  },
  {
   "cell_type": "code",
   "execution_count": 332,
   "metadata": {},
   "outputs": [
    {
     "data": {
      "text/plain": [
       "Index(['Email Address', 'Member Rating', 'Member Rating_1', 'Bounce Type',\n",
       "       'Country_x', 'Segment_x', 'LangCode_x', 'Member Rating_2', 'Clicks',\n",
       "       'Country_y', 'Segment_y', 'LangCode_y', 'Member Rating_3', 'Country',\n",
       "       'Segment', 'LangCode', 'Member Rating_4', 'Member Rating_5'],\n",
       "      dtype='object')"
      ]
     },
     "execution_count": 332,
     "metadata": {},
     "output_type": "execute_result"
    }
   ],
   "source": [
    "df_join.columns"
   ]
  },
  {
   "cell_type": "code",
   "execution_count": 367,
   "metadata": {},
   "outputs": [],
   "source": [
    "df_join['test'] = np.where(df_join['Member Rating'].isnull(), df_join['Member Rating'], \"test\")"
   ]
  },
  {
   "cell_type": "code",
   "execution_count": 369,
   "metadata": {},
   "outputs": [
    {
     "data": {
      "text/plain": [
       "0       test\n",
       "1       test\n",
       "2       test\n",
       "3        nan\n",
       "4        nan\n",
       "5        nan\n",
       "6        nan\n",
       "7        nan\n",
       "8        nan\n",
       "9        nan\n",
       "10       nan\n",
       "11       nan\n",
       "12       nan\n",
       "13       nan\n",
       "14       nan\n",
       "15       nan\n",
       "16       nan\n",
       "17       nan\n",
       "18       nan\n",
       "19       nan\n",
       "20       nan\n",
       "21       nan\n",
       "22       nan\n",
       "23       nan\n",
       "24       nan\n",
       "25       nan\n",
       "26       nan\n",
       "27       nan\n",
       "28       nan\n",
       "29       nan\n",
       "        ... \n",
       "2612     nan\n",
       "2613     nan\n",
       "2614     nan\n",
       "2615     nan\n",
       "2616     nan\n",
       "2617     nan\n",
       "2618     nan\n",
       "2619     nan\n",
       "2620     nan\n",
       "2621     nan\n",
       "2622     nan\n",
       "2623     nan\n",
       "2624     nan\n",
       "2625     nan\n",
       "2626     nan\n",
       "2627     nan\n",
       "2628     nan\n",
       "2629     nan\n",
       "2630     nan\n",
       "2631     nan\n",
       "2632     nan\n",
       "2633     nan\n",
       "2634     nan\n",
       "2635     nan\n",
       "2636     nan\n",
       "2637     nan\n",
       "2638     nan\n",
       "2639     nan\n",
       "2640     nan\n",
       "2641     nan\n",
       "Name: test, Length: 2642, dtype: object"
      ]
     },
     "execution_count": 369,
     "metadata": {},
     "output_type": "execute_result"
    }
   ],
   "source": [
    "df_join['test']"
   ]
  },
  {
   "cell_type": "code",
   "execution_count": null,
   "metadata": {},
   "outputs": [],
   "source": [
    "df_join['Member Rating'].fillna('').apply(lambda x: str(x)) + df_join['Member Rating_1'].fillna('').apply(lambda x: str(x))"
   ]
  },
  {
   "cell_type": "code",
   "execution_count": null,
   "metadata": {
    "collapsed": true
   },
   "outputs": [],
   "source": []
  },
  {
   "cell_type": "code",
   "execution_count": null,
   "metadata": {
    "collapsed": true
   },
   "outputs": [],
   "source": []
  }
 ],
 "metadata": {
  "kernelspec": {
   "display_name": "Python 3",
   "language": "python",
   "name": "python3"
  },
  "language_info": {
   "codemirror_mode": {
    "name": "ipython",
    "version": 3
   },
   "file_extension": ".py",
   "mimetype": "text/x-python",
   "name": "python",
   "nbconvert_exporter": "python",
   "pygments_lexer": "ipython3",
   "version": "3.6.3"
  }
 },
 "nbformat": 4,
 "nbformat_minor": 2
}
